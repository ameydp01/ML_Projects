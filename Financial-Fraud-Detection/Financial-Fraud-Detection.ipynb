{
 "cells": [
  {
   "cell_type": "markdown",
   "id": "72643ed1",
   "metadata": {},
   "source": [
    "# <center><b>Financial Fraud Detection<b> </center>"
   ]
  },
  {
   "cell_type": "markdown",
   "id": "27fb83f1",
   "metadata": {},
   "source": [
    "---\n",
    "# **Table of Contents**\n",
    "---\n",
    "\n",
    "**1.** [**Importing Libraries**](#Section1)<br>\n",
    "**2.** [**Data Acquisition & Description**](#Section2)<br>\n",
    "  - **2.1** [**Data Description**](#Section21)<br>\n",
    "  - **2.2** [**Summary Statistics**](#Section22)<br>\n",
    "  \n",
    "**3.** [**Data Pre-Profiling**](#Section3)<br>\n",
    "**4.** [**Exploratory Data Analysis (EDA)**](#Section4)<br>\n",
    "**5.** [**Applying Decision Tree Classifier**](#Section5)<br>\n",
    "  - **5.1** [**Data Preparation**](#Section51)<br>\n",
    "  - **5.2** [**Implementing the model**](#Section52)<br>\n",
    "  - **5.3** [**Model Evaluation**](#Section53)<br>\n",
    "  - **5.4** [**Feature Importance**](#Section54)<br>\n",
    "\n",
    "**6.** [**Conclusion**](#Section6)<br>"
   ]
  },
  {
   "cell_type": "markdown",
   "id": "a8376545",
   "metadata": {},
   "source": [
    "---\n",
    "<a name = Section1></a>\n",
    "# **1. Importing Libraries**\n",
    "---"
   ]
  },
  {
   "cell_type": "code",
   "execution_count": 1,
   "id": "5f73f36a",
   "metadata": {},
   "outputs": [],
   "source": [
    "import pandas as pd\n",
    "import numpy as np\n",
    "import matplotlib.pyplot as plt\n",
    "import seaborn as sns\n",
    "import haversine as hs\n",
    "import re\n",
    "\n",
    "from sklearn.preprocessing import LabelEncoder\n",
    "from sklearn.model_selection import train_test_split\n",
    "from sklearn.model_selection import GridSearchCV\n",
    "\n",
    "from sklearn.tree import DecisionTreeClassifier, plot_tree  ## To classify the transactions, and to visualize\n",
    "\n",
    "from sklearn.metrics import classification_report\n",
    "\n",
    "import warnings\n",
    "warnings.filterwarnings('ignore')"
   ]
  },
  {
   "cell_type": "markdown",
   "id": "4e009517",
   "metadata": {},
   "source": [
    "---\n",
    "<a name = Section2></a>\n",
    "# **2. Data Acquisition & Description**\n",
    "---\n",
    "- The Dataset is a synthetic dataset that was generated using the PaySim simulator.\n",
    "\n",
    "| Records | Features |\n",
    "| :--: | :--: |\n",
    "| 6362620 | 11 |\n",
    "\n",
    "<br>\n",
    "\n",
    "| # | Feature Name | Feature Description |\n",
    "|:--:|:--|:--| \n",
    "|1| step | Maps a unit of time in the real world. 1 step is 1 hour of time. |\n",
    "|2| type | Type of transaction. CASH-IN/CASH-OUT/DEBIT/PAYMENT/TRANSFER |\n",
    "|3| amount |Amount of the transaction in local currency |\n",
    "|4| nameOrig |\tCustomer who started the transaction |\n",
    "|5| oldbalanceOrg |\tInitial balance before the transaction |\n",
    "|6| newbalanceOrig | New balance after the transaction |\n",
    "|7| nameDest | Customer who is the recipient of the transaction |\n",
    "|8| oldbalanceDest |\tInitial balance recipient before the transaction. **Note that there is not information for customers that start with M (Merchants)**. |\n",
    "|9| newbalanceDest |\tNew balance recipient after the transaction. **Note that there is not information for customers that start with M (Merchants)**.|\n",
    "|10| isFraud |\tThis is the transactions made by the fraudulent agents inside the simulation. In this specific dataset the fraudulent behavior of the agents aims to profit by taking control or customers accounts and try to empty the funds by transferring to another account and then cashing out of the system. |\n",
    "|11| isFlaggedFraud | The business model aims to control massive transfers from one account to another and flags illegal attempts. An illegal attempt in this dataset is an attempt to transfer more than **200000** in a single transaction. |"
   ]
  },
  {
   "cell_type": "markdown",
   "id": "30e38a50",
   "metadata": {},
   "source": [
    "#### Importing the data."
   ]
  },
  {
   "cell_type": "code",
   "execution_count": 2,
   "id": "1cd6a816",
   "metadata": {},
   "outputs": [],
   "source": [
    "data = pd.read_csv(r\"D:\\Projects\\Financial-fraud-detection\\PS_20174392719_1491204439457_log.csv\")"
   ]
  },
  {
   "cell_type": "code",
   "execution_count": 3,
   "id": "d3d15e4d",
   "metadata": {},
   "outputs": [
    {
     "data": {
      "text/plain": [
       "(6362620, 11)"
      ]
     },
     "execution_count": 3,
     "metadata": {},
     "output_type": "execute_result"
    }
   ],
   "source": [
    "data.shape"
   ]
  },
  {
   "cell_type": "markdown",
   "id": "c72337c7",
   "metadata": {},
   "source": [
    "<a name=Section21></a>\n",
    "#### **2.1 Data Description**"
   ]
  },
  {
   "cell_type": "code",
   "execution_count": 4,
   "id": "dd4123ef",
   "metadata": {},
   "outputs": [
    {
     "name": "stdout",
     "output_type": "stream",
     "text": [
      "<class 'pandas.core.frame.DataFrame'>\n",
      "RangeIndex: 6362620 entries, 0 to 6362619\n",
      "Data columns (total 11 columns):\n",
      " #   Column          Dtype  \n",
      "---  ------          -----  \n",
      " 0   step            int64  \n",
      " 1   type            object \n",
      " 2   amount          float64\n",
      " 3   nameOrig        object \n",
      " 4   oldbalanceOrg   float64\n",
      " 5   newbalanceOrig  float64\n",
      " 6   nameDest        object \n",
      " 7   oldbalanceDest  float64\n",
      " 8   newbalanceDest  float64\n",
      " 9   isFraud         int64  \n",
      " 10  isFlaggedFraud  int64  \n",
      "dtypes: float64(5), int64(3), object(3)\n",
      "memory usage: 534.0+ MB\n"
     ]
    }
   ],
   "source": [
    "data.info()"
   ]
  },
  {
   "cell_type": "markdown",
   "id": "da4fd98d",
   "metadata": {},
   "source": [
    "<a name=Section22></a>\n",
    "#### **2.2 Summary Statistics**"
   ]
  },
  {
   "cell_type": "code",
   "execution_count": 5,
   "id": "8a4f444a",
   "metadata": {},
   "outputs": [
    {
     "data": {
      "text/html": [
       "<div>\n",
       "<style scoped>\n",
       "    .dataframe tbody tr th:only-of-type {\n",
       "        vertical-align: middle;\n",
       "    }\n",
       "\n",
       "    .dataframe tbody tr th {\n",
       "        vertical-align: top;\n",
       "    }\n",
       "\n",
       "    .dataframe thead th {\n",
       "        text-align: right;\n",
       "    }\n",
       "</style>\n",
       "<table border=\"1\" class=\"dataframe\">\n",
       "  <thead>\n",
       "    <tr style=\"text-align: right;\">\n",
       "      <th></th>\n",
       "      <th>step</th>\n",
       "      <th>amount</th>\n",
       "      <th>oldbalanceOrg</th>\n",
       "      <th>newbalanceOrig</th>\n",
       "      <th>oldbalanceDest</th>\n",
       "      <th>newbalanceDest</th>\n",
       "      <th>isFraud</th>\n",
       "      <th>isFlaggedFraud</th>\n",
       "    </tr>\n",
       "  </thead>\n",
       "  <tbody>\n",
       "    <tr>\n",
       "      <th>count</th>\n",
       "      <td>6.362620e+06</td>\n",
       "      <td>6.362620e+06</td>\n",
       "      <td>6.362620e+06</td>\n",
       "      <td>6.362620e+06</td>\n",
       "      <td>6.362620e+06</td>\n",
       "      <td>6.362620e+06</td>\n",
       "      <td>6.362620e+06</td>\n",
       "      <td>6.362620e+06</td>\n",
       "    </tr>\n",
       "    <tr>\n",
       "      <th>mean</th>\n",
       "      <td>2.433972e+02</td>\n",
       "      <td>1.798619e+05</td>\n",
       "      <td>8.338831e+05</td>\n",
       "      <td>8.551137e+05</td>\n",
       "      <td>1.100702e+06</td>\n",
       "      <td>1.224996e+06</td>\n",
       "      <td>1.290820e-03</td>\n",
       "      <td>2.514687e-06</td>\n",
       "    </tr>\n",
       "    <tr>\n",
       "      <th>std</th>\n",
       "      <td>1.423320e+02</td>\n",
       "      <td>6.038582e+05</td>\n",
       "      <td>2.888243e+06</td>\n",
       "      <td>2.924049e+06</td>\n",
       "      <td>3.399180e+06</td>\n",
       "      <td>3.674129e+06</td>\n",
       "      <td>3.590480e-02</td>\n",
       "      <td>1.585775e-03</td>\n",
       "    </tr>\n",
       "    <tr>\n",
       "      <th>min</th>\n",
       "      <td>1.000000e+00</td>\n",
       "      <td>0.000000e+00</td>\n",
       "      <td>0.000000e+00</td>\n",
       "      <td>0.000000e+00</td>\n",
       "      <td>0.000000e+00</td>\n",
       "      <td>0.000000e+00</td>\n",
       "      <td>0.000000e+00</td>\n",
       "      <td>0.000000e+00</td>\n",
       "    </tr>\n",
       "    <tr>\n",
       "      <th>25%</th>\n",
       "      <td>1.560000e+02</td>\n",
       "      <td>1.338957e+04</td>\n",
       "      <td>0.000000e+00</td>\n",
       "      <td>0.000000e+00</td>\n",
       "      <td>0.000000e+00</td>\n",
       "      <td>0.000000e+00</td>\n",
       "      <td>0.000000e+00</td>\n",
       "      <td>0.000000e+00</td>\n",
       "    </tr>\n",
       "    <tr>\n",
       "      <th>50%</th>\n",
       "      <td>2.390000e+02</td>\n",
       "      <td>7.487194e+04</td>\n",
       "      <td>1.420800e+04</td>\n",
       "      <td>0.000000e+00</td>\n",
       "      <td>1.327057e+05</td>\n",
       "      <td>2.146614e+05</td>\n",
       "      <td>0.000000e+00</td>\n",
       "      <td>0.000000e+00</td>\n",
       "    </tr>\n",
       "    <tr>\n",
       "      <th>75%</th>\n",
       "      <td>3.350000e+02</td>\n",
       "      <td>2.087215e+05</td>\n",
       "      <td>1.073152e+05</td>\n",
       "      <td>1.442584e+05</td>\n",
       "      <td>9.430367e+05</td>\n",
       "      <td>1.111909e+06</td>\n",
       "      <td>0.000000e+00</td>\n",
       "      <td>0.000000e+00</td>\n",
       "    </tr>\n",
       "    <tr>\n",
       "      <th>max</th>\n",
       "      <td>7.430000e+02</td>\n",
       "      <td>9.244552e+07</td>\n",
       "      <td>5.958504e+07</td>\n",
       "      <td>4.958504e+07</td>\n",
       "      <td>3.560159e+08</td>\n",
       "      <td>3.561793e+08</td>\n",
       "      <td>1.000000e+00</td>\n",
       "      <td>1.000000e+00</td>\n",
       "    </tr>\n",
       "  </tbody>\n",
       "</table>\n",
       "</div>"
      ],
      "text/plain": [
       "               step        amount  oldbalanceOrg  newbalanceOrig  \\\n",
       "count  6.362620e+06  6.362620e+06   6.362620e+06    6.362620e+06   \n",
       "mean   2.433972e+02  1.798619e+05   8.338831e+05    8.551137e+05   \n",
       "std    1.423320e+02  6.038582e+05   2.888243e+06    2.924049e+06   \n",
       "min    1.000000e+00  0.000000e+00   0.000000e+00    0.000000e+00   \n",
       "25%    1.560000e+02  1.338957e+04   0.000000e+00    0.000000e+00   \n",
       "50%    2.390000e+02  7.487194e+04   1.420800e+04    0.000000e+00   \n",
       "75%    3.350000e+02  2.087215e+05   1.073152e+05    1.442584e+05   \n",
       "max    7.430000e+02  9.244552e+07   5.958504e+07    4.958504e+07   \n",
       "\n",
       "       oldbalanceDest  newbalanceDest       isFraud  isFlaggedFraud  \n",
       "count    6.362620e+06    6.362620e+06  6.362620e+06    6.362620e+06  \n",
       "mean     1.100702e+06    1.224996e+06  1.290820e-03    2.514687e-06  \n",
       "std      3.399180e+06    3.674129e+06  3.590480e-02    1.585775e-03  \n",
       "min      0.000000e+00    0.000000e+00  0.000000e+00    0.000000e+00  \n",
       "25%      0.000000e+00    0.000000e+00  0.000000e+00    0.000000e+00  \n",
       "50%      1.327057e+05    2.146614e+05  0.000000e+00    0.000000e+00  \n",
       "75%      9.430367e+05    1.111909e+06  0.000000e+00    0.000000e+00  \n",
       "max      3.560159e+08    3.561793e+08  1.000000e+00    1.000000e+00  "
      ]
     },
     "execution_count": 5,
     "metadata": {},
     "output_type": "execute_result"
    }
   ],
   "source": [
    "data.describe()"
   ]
  },
  {
   "cell_type": "markdown",
   "id": "5073c6a8",
   "metadata": {},
   "source": [
    "<a name=Section3></a>\n",
    "# **3 Data Pre-profiling**"
   ]
  },
  {
   "cell_type": "markdown",
   "id": "efafe7b4",
   "metadata": {},
   "source": [
    "#### Checking for Missing values."
   ]
  },
  {
   "cell_type": "code",
   "execution_count": 6,
   "id": "16228cf0",
   "metadata": {},
   "outputs": [
    {
     "data": {
      "text/plain": [
       "step              0\n",
       "type              0\n",
       "amount            0\n",
       "nameOrig          0\n",
       "oldbalanceOrg     0\n",
       "newbalanceOrig    0\n",
       "nameDest          0\n",
       "oldbalanceDest    0\n",
       "newbalanceDest    0\n",
       "isFraud           0\n",
       "isFlaggedFraud    0\n",
       "dtype: int64"
      ]
     },
     "execution_count": 6,
     "metadata": {},
     "output_type": "execute_result"
    }
   ],
   "source": [
    "data.isnull().sum()"
   ]
  },
  {
   "cell_type": "markdown",
   "id": "140db28f",
   "metadata": {},
   "source": [
    "- We see that there are no missing values."
   ]
  },
  {
   "cell_type": "markdown",
   "id": "e835e4f0",
   "metadata": {},
   "source": [
    "#### Checking for duplicate values."
   ]
  },
  {
   "cell_type": "code",
   "execution_count": 7,
   "id": "90c4520e",
   "metadata": {},
   "outputs": [
    {
     "data": {
      "text/plain": [
       "0"
      ]
     },
     "execution_count": 7,
     "metadata": {},
     "output_type": "execute_result"
    }
   ],
   "source": [
    "data.duplicated().sum()"
   ]
  },
  {
   "cell_type": "markdown",
   "id": "fcb1fa9f",
   "metadata": {},
   "source": [
    "- We see that there are no duplicate values either"
   ]
  },
  {
   "cell_type": "markdown",
   "id": "254b1bef",
   "metadata": {},
   "source": [
    "<a name=Section4></a>\n",
    "# **4. Exploratory Data Analysis**"
   ]
  },
  {
   "cell_type": "code",
   "execution_count": 8,
   "id": "7a8e8273",
   "metadata": {},
   "outputs": [
    {
     "data": {
      "text/html": [
       "<div>\n",
       "<style scoped>\n",
       "    .dataframe tbody tr th:only-of-type {\n",
       "        vertical-align: middle;\n",
       "    }\n",
       "\n",
       "    .dataframe tbody tr th {\n",
       "        vertical-align: top;\n",
       "    }\n",
       "\n",
       "    .dataframe thead th {\n",
       "        text-align: right;\n",
       "    }\n",
       "</style>\n",
       "<table border=\"1\" class=\"dataframe\">\n",
       "  <thead>\n",
       "    <tr style=\"text-align: right;\">\n",
       "      <th></th>\n",
       "      <th>step</th>\n",
       "      <th>type</th>\n",
       "      <th>amount</th>\n",
       "      <th>nameOrig</th>\n",
       "      <th>oldbalanceOrg</th>\n",
       "      <th>newbalanceOrig</th>\n",
       "      <th>nameDest</th>\n",
       "      <th>oldbalanceDest</th>\n",
       "      <th>newbalanceDest</th>\n",
       "      <th>isFraud</th>\n",
       "      <th>isFlaggedFraud</th>\n",
       "    </tr>\n",
       "  </thead>\n",
       "  <tbody>\n",
       "    <tr>\n",
       "      <th>0</th>\n",
       "      <td>1</td>\n",
       "      <td>PAYMENT</td>\n",
       "      <td>9839.64</td>\n",
       "      <td>C1231006815</td>\n",
       "      <td>170136.0</td>\n",
       "      <td>160296.36</td>\n",
       "      <td>M1979787155</td>\n",
       "      <td>0.0</td>\n",
       "      <td>0.0</td>\n",
       "      <td>0</td>\n",
       "      <td>0</td>\n",
       "    </tr>\n",
       "    <tr>\n",
       "      <th>1</th>\n",
       "      <td>1</td>\n",
       "      <td>PAYMENT</td>\n",
       "      <td>1864.28</td>\n",
       "      <td>C1666544295</td>\n",
       "      <td>21249.0</td>\n",
       "      <td>19384.72</td>\n",
       "      <td>M2044282225</td>\n",
       "      <td>0.0</td>\n",
       "      <td>0.0</td>\n",
       "      <td>0</td>\n",
       "      <td>0</td>\n",
       "    </tr>\n",
       "    <tr>\n",
       "      <th>2</th>\n",
       "      <td>1</td>\n",
       "      <td>TRANSFER</td>\n",
       "      <td>181.00</td>\n",
       "      <td>C1305486145</td>\n",
       "      <td>181.0</td>\n",
       "      <td>0.00</td>\n",
       "      <td>C553264065</td>\n",
       "      <td>0.0</td>\n",
       "      <td>0.0</td>\n",
       "      <td>1</td>\n",
       "      <td>0</td>\n",
       "    </tr>\n",
       "    <tr>\n",
       "      <th>3</th>\n",
       "      <td>1</td>\n",
       "      <td>CASH_OUT</td>\n",
       "      <td>181.00</td>\n",
       "      <td>C840083671</td>\n",
       "      <td>181.0</td>\n",
       "      <td>0.00</td>\n",
       "      <td>C38997010</td>\n",
       "      <td>21182.0</td>\n",
       "      <td>0.0</td>\n",
       "      <td>1</td>\n",
       "      <td>0</td>\n",
       "    </tr>\n",
       "    <tr>\n",
       "      <th>4</th>\n",
       "      <td>1</td>\n",
       "      <td>PAYMENT</td>\n",
       "      <td>11668.14</td>\n",
       "      <td>C2048537720</td>\n",
       "      <td>41554.0</td>\n",
       "      <td>29885.86</td>\n",
       "      <td>M1230701703</td>\n",
       "      <td>0.0</td>\n",
       "      <td>0.0</td>\n",
       "      <td>0</td>\n",
       "      <td>0</td>\n",
       "    </tr>\n",
       "  </tbody>\n",
       "</table>\n",
       "</div>"
      ],
      "text/plain": [
       "   step      type    amount     nameOrig  oldbalanceOrg  newbalanceOrig  \\\n",
       "0     1   PAYMENT   9839.64  C1231006815       170136.0       160296.36   \n",
       "1     1   PAYMENT   1864.28  C1666544295        21249.0        19384.72   \n",
       "2     1  TRANSFER    181.00  C1305486145          181.0            0.00   \n",
       "3     1  CASH_OUT    181.00   C840083671          181.0            0.00   \n",
       "4     1   PAYMENT  11668.14  C2048537720        41554.0        29885.86   \n",
       "\n",
       "      nameDest  oldbalanceDest  newbalanceDest  isFraud  isFlaggedFraud  \n",
       "0  M1979787155             0.0             0.0        0               0  \n",
       "1  M2044282225             0.0             0.0        0               0  \n",
       "2   C553264065             0.0             0.0        1               0  \n",
       "3    C38997010         21182.0             0.0        1               0  \n",
       "4  M1230701703             0.0             0.0        0               0  "
      ]
     },
     "execution_count": 8,
     "metadata": {},
     "output_type": "execute_result"
    }
   ],
   "source": [
    "data.head()"
   ]
  },
  {
   "cell_type": "markdown",
   "id": "755ed5ba",
   "metadata": {},
   "source": [
    "#### Q1. What are the type of Transactions?"
   ]
  },
  {
   "cell_type": "code",
   "execution_count": 9,
   "id": "b0f49d75",
   "metadata": {},
   "outputs": [
    {
     "data": {
      "image/png": "[encoded data removed]",
      "text/plain": [
       "<Figure size 1500x700 with 1 Axes>"
      ]
     },
     "metadata": {},
     "output_type": "display_data"
    }
   ],
   "source": [
    "paper = plt.figure(figsize=[15,7])\n",
    "data['type'].value_counts().plot.pie(fontsize=10, autopct='%3.1f%%', wedgeprops=dict(width=0.15), \n",
    "                                       startangle=160, cmap='viridis')\n",
    "plt.title('Types of Transactions', size = 14)\n",
    "plt.ylabel('Type', size = 12)\n",
    "plt.legend(loc='center')\n",
    "plt.show()"
   ]
  },
  {
   "cell_type": "markdown",
   "id": "1625a15e",
   "metadata": {},
   "source": [
    "- We see that in the dataset majority of transactions are of type **CASH_OUT (35.2%)** followed by **PAYMENT (33.8%)**, **CASH_IN (22%)**, **TRANSFER (8.4%)**, and **DEBIT (0.7%)**."
   ]
  },
  {
   "cell_type": "markdown",
   "id": "024519d5",
   "metadata": {},
   "source": [
    "#### Q2. What were the transaction types when fraud was committed?"
   ]
  },
  {
   "cell_type": "code",
   "execution_count": 10,
   "id": "9c2b7eda",
   "metadata": {},
   "outputs": [
    {
     "data": {
      "text/plain": [
       "CASH_OUT    4116\n",
       "TRANSFER    4097\n",
       "Name: type, dtype: int64"
      ]
     },
     "execution_count": 10,
     "metadata": {},
     "output_type": "execute_result"
    }
   ],
   "source": [
    "data['type'][data['isFraud'] == 1].value_counts()"
   ]
  },
  {
   "cell_type": "markdown",
   "id": "9aa66137",
   "metadata": {},
   "source": [
    "- We see that the Fraudulent transactions mainly belong either to the **CASH_OUT** category or to the **TRANSFER** category.\n",
    "- This makes sense because, as the data dictionary mentions, the agents carrying the fraudulent transactions first transfer the money to an account and then cash it out."
   ]
  },
  {
   "cell_type": "markdown",
   "id": "a5326302",
   "metadata": {},
   "source": [
    "#### Q3. What were the type of transactions that were flagged as fraud by the system?"
   ]
  },
  {
   "cell_type": "code",
   "execution_count": 11,
   "id": "08a746f4",
   "metadata": {},
   "outputs": [
    {
     "data": {
      "text/plain": [
       "0    6362604\n",
       "1         16\n",
       "Name: isFlaggedFraud, dtype: int64"
      ]
     },
     "execution_count": 11,
     "metadata": {},
     "output_type": "execute_result"
    }
   ],
   "source": [
    "data['isFlaggedFraud'].value_counts()"
   ]
  },
  {
   "cell_type": "code",
   "execution_count": 12,
   "id": "2b2f0214",
   "metadata": {
    "scrolled": true
   },
   "outputs": [
    {
     "data": {
      "text/plain": [
       "TRANSFER    16\n",
       "Name: type, dtype: int64"
      ]
     },
     "execution_count": 12,
     "metadata": {},
     "output_type": "execute_result"
    }
   ],
   "source": [
    "data['type'][data['isFlaggedFraud'] == 1].value_counts()"
   ]
  },
  {
   "cell_type": "markdown",
   "id": "ffff5680",
   "metadata": {},
   "source": [
    "- We see that there are in total **16** transactions that have been flagged as fraud. And all **16** of those transactions were of type **TRANSFER**"
   ]
  },
  {
   "cell_type": "markdown",
   "id": "b87fedc8",
   "metadata": {},
   "source": [
    "#### Q4. Minimum and Maximum amount transferred for flagged transactions."
   ]
  },
  {
   "cell_type": "code",
   "execution_count": 13,
   "id": "eb048861",
   "metadata": {},
   "outputs": [
    {
     "name": "stdout",
     "output_type": "stream",
     "text": [
      "Minimum amount transferred when 'isflagged' is set 353874.22\n",
      "Maximum amount transferred when 'isflagged' is set 10000000.0\n",
      "\n",
      "Minimum amount transferred when 'isflagged' is not set 353874.22\n",
      "Maximum amount transferred when 'isflagged' is not set 10000000.0\n"
     ]
    }
   ],
   "source": [
    "min_amt_flag = data['amount'][data['isFlaggedFraud'] == 1].min()\n",
    "max_amt_flag = data['amount'][data['isFlaggedFraud'] == 1].max()\n",
    "\n",
    "min_amt_nflag = data['amount'][data['isFlaggedFraud'] == 0].min()\n",
    "max_amt_nflag = data['amount'][data['isFlaggedFraud'] == 0].max()\n",
    "\n",
    "print(f\"Minimum amount transferred when 'isflagged' is set {min_amt_flag}\")\n",
    "print(f\"Maximum amount transferred when 'isflagged' is set {max_amt_flag}\\n\")\n",
    "\n",
    "print(f\"Minimum amount transferred when 'isflagged' is not set {min_amt_flag}\")\n",
    "print(f\"Maximum amount transferred when 'isflagged' is not set {max_amt_flag}\")"
   ]
  },
  {
   "cell_type": "markdown",
   "id": "6589d459",
   "metadata": {},
   "source": [
    "- We see that the minimum amount that was transferred when 'isflagged' was set is **353874.22**, whereas the maximum amount that was transferred is **10000000.0**.\n",
    "- According to the data dictionary, transactions were flagged when the amount was greater than **<u>200000</u>**. But we see that the minimum amount for the transactions that were not flagged is **<u>353874.22</u>** (which is greater than 200000, and should have been flagged). This suggests that there is inconsistency when it comes to which transactions get flagged and which don't."
   ]
  },
  {
   "cell_type": "code",
   "execution_count": 14,
   "id": "b44c1e13",
   "metadata": {},
   "outputs": [
    {
     "data": {
      "text/html": [
       "<div>\n",
       "<style scoped>\n",
       "    .dataframe tbody tr th:only-of-type {\n",
       "        vertical-align: middle;\n",
       "    }\n",
       "\n",
       "    .dataframe tbody tr th {\n",
       "        vertical-align: top;\n",
       "    }\n",
       "\n",
       "    .dataframe thead th {\n",
       "        text-align: right;\n",
       "    }\n",
       "</style>\n",
       "<table border=\"1\" class=\"dataframe\">\n",
       "  <thead>\n",
       "    <tr style=\"text-align: right;\">\n",
       "      <th></th>\n",
       "      <th>oldbalanceOrg</th>\n",
       "      <th>newbalanceOrig</th>\n",
       "      <th>oldbalanceDest</th>\n",
       "      <th>newbalanceDest</th>\n",
       "    </tr>\n",
       "  </thead>\n",
       "  <tbody>\n",
       "    <tr>\n",
       "      <th>2736446</th>\n",
       "      <td>4953893.08</td>\n",
       "      <td>4953893.08</td>\n",
       "      <td>0.0</td>\n",
       "      <td>0.0</td>\n",
       "    </tr>\n",
       "    <tr>\n",
       "      <th>3247297</th>\n",
       "      <td>1343002.08</td>\n",
       "      <td>1343002.08</td>\n",
       "      <td>0.0</td>\n",
       "      <td>0.0</td>\n",
       "    </tr>\n",
       "    <tr>\n",
       "      <th>3760288</th>\n",
       "      <td>536624.41</td>\n",
       "      <td>536624.41</td>\n",
       "      <td>0.0</td>\n",
       "      <td>0.0</td>\n",
       "    </tr>\n",
       "    <tr>\n",
       "      <th>5563713</th>\n",
       "      <td>4892193.09</td>\n",
       "      <td>4892193.09</td>\n",
       "      <td>0.0</td>\n",
       "      <td>0.0</td>\n",
       "    </tr>\n",
       "    <tr>\n",
       "      <th>5996407</th>\n",
       "      <td>19585040.37</td>\n",
       "      <td>19585040.37</td>\n",
       "      <td>0.0</td>\n",
       "      <td>0.0</td>\n",
       "    </tr>\n",
       "    <tr>\n",
       "      <th>5996409</th>\n",
       "      <td>19585040.37</td>\n",
       "      <td>19585040.37</td>\n",
       "      <td>0.0</td>\n",
       "      <td>0.0</td>\n",
       "    </tr>\n",
       "    <tr>\n",
       "      <th>6168499</th>\n",
       "      <td>3576297.10</td>\n",
       "      <td>3576297.10</td>\n",
       "      <td>0.0</td>\n",
       "      <td>0.0</td>\n",
       "    </tr>\n",
       "    <tr>\n",
       "      <th>6205439</th>\n",
       "      <td>353874.22</td>\n",
       "      <td>353874.22</td>\n",
       "      <td>0.0</td>\n",
       "      <td>0.0</td>\n",
       "    </tr>\n",
       "    <tr>\n",
       "      <th>6266413</th>\n",
       "      <td>2542664.27</td>\n",
       "      <td>2542664.27</td>\n",
       "      <td>0.0</td>\n",
       "      <td>0.0</td>\n",
       "    </tr>\n",
       "    <tr>\n",
       "      <th>6281482</th>\n",
       "      <td>10399045.08</td>\n",
       "      <td>10399045.08</td>\n",
       "      <td>0.0</td>\n",
       "      <td>0.0</td>\n",
       "    </tr>\n",
       "    <tr>\n",
       "      <th>6281484</th>\n",
       "      <td>10399045.08</td>\n",
       "      <td>10399045.08</td>\n",
       "      <td>0.0</td>\n",
       "      <td>0.0</td>\n",
       "    </tr>\n",
       "    <tr>\n",
       "      <th>6296014</th>\n",
       "      <td>3441041.46</td>\n",
       "      <td>3441041.46</td>\n",
       "      <td>0.0</td>\n",
       "      <td>0.0</td>\n",
       "    </tr>\n",
       "    <tr>\n",
       "      <th>6351225</th>\n",
       "      <td>3171085.59</td>\n",
       "      <td>3171085.59</td>\n",
       "      <td>0.0</td>\n",
       "      <td>0.0</td>\n",
       "    </tr>\n",
       "    <tr>\n",
       "      <th>6362460</th>\n",
       "      <td>17316255.05</td>\n",
       "      <td>17316255.05</td>\n",
       "      <td>0.0</td>\n",
       "      <td>0.0</td>\n",
       "    </tr>\n",
       "    <tr>\n",
       "      <th>6362462</th>\n",
       "      <td>17316255.05</td>\n",
       "      <td>17316255.05</td>\n",
       "      <td>0.0</td>\n",
       "      <td>0.0</td>\n",
       "    </tr>\n",
       "    <tr>\n",
       "      <th>6362584</th>\n",
       "      <td>5674547.89</td>\n",
       "      <td>5674547.89</td>\n",
       "      <td>0.0</td>\n",
       "      <td>0.0</td>\n",
       "    </tr>\n",
       "  </tbody>\n",
       "</table>\n",
       "</div>"
      ],
      "text/plain": [
       "         oldbalanceOrg  newbalanceOrig  oldbalanceDest  newbalanceDest\n",
       "2736446     4953893.08      4953893.08             0.0             0.0\n",
       "3247297     1343002.08      1343002.08             0.0             0.0\n",
       "3760288      536624.41       536624.41             0.0             0.0\n",
       "5563713     4892193.09      4892193.09             0.0             0.0\n",
       "5996407    19585040.37     19585040.37             0.0             0.0\n",
       "5996409    19585040.37     19585040.37             0.0             0.0\n",
       "6168499     3576297.10      3576297.10             0.0             0.0\n",
       "6205439      353874.22       353874.22             0.0             0.0\n",
       "6266413     2542664.27      2542664.27             0.0             0.0\n",
       "6281482    10399045.08     10399045.08             0.0             0.0\n",
       "6281484    10399045.08     10399045.08             0.0             0.0\n",
       "6296014     3441041.46      3441041.46             0.0             0.0\n",
       "6351225     3171085.59      3171085.59             0.0             0.0\n",
       "6362460    17316255.05     17316255.05             0.0             0.0\n",
       "6362462    17316255.05     17316255.05             0.0             0.0\n",
       "6362584     5674547.89      5674547.89             0.0             0.0"
      ]
     },
     "execution_count": 14,
     "metadata": {},
     "output_type": "execute_result"
    }
   ],
   "source": [
    "data[['oldbalanceOrg', 'newbalanceOrig', 'oldbalanceDest', 'newbalanceDest']][data['isFlaggedFraud'] == 1]"
   ]
  },
  {
   "cell_type": "markdown",
   "id": "fd28794e",
   "metadata": {},
   "source": [
    "- We see that out of all the transactions that were flagged, the values of newbalance and oldbalance are the same for both origin accounts and destination accounts."
   ]
  },
  {
   "cell_type": "code",
   "execution_count": 15,
   "id": "a5ee18b2",
   "metadata": {},
   "outputs": [
    {
     "data": {
      "text/plain": [
       "step              4158\n",
       "type              4158\n",
       "amount            4158\n",
       "nameOrig          4158\n",
       "oldbalanceOrg     4158\n",
       "newbalanceOrig    4158\n",
       "nameDest          4158\n",
       "oldbalanceDest    4158\n",
       "newbalanceDest    4158\n",
       "isFraud           4158\n",
       "isFlaggedFraud    4158\n",
       "dtype: int64"
      ]
     },
     "execution_count": 15,
     "metadata": {},
     "output_type": "execute_result"
    }
   ],
   "source": [
    "data[(data['type'] == 'TRANSFER') & (data['isFlaggedFraud']==0) & \\\n",
    "     (data['oldbalanceDest'] == 0) & (data['newbalanceDest'] == 0)].count()"
   ]
  },
  {
   "cell_type": "markdown",
   "id": "338f76a3",
   "metadata": {},
   "source": [
    "- We see that there are 4158 transaction which are of the type **TRANSFER**, where **oldbalanceDest** and **newbalanceDest** are zero, yet these transactions haven't been flagged as Frauds.\n",
    "- This points out more inconsistency in the way transaction are flagged.\n",
    "- Since only 16 transactions were flagged as fraud and given how inconsistent the criteria for flagging is, we can drop this column from our analysis."
   ]
  },
  {
   "cell_type": "markdown",
   "id": "0e379761",
   "metadata": {},
   "source": [
    "#### Q5. Analysis of data according to the time.\n",
    "\n",
    "- To better understand how the transactions were carried out during the day, we will create a new feature from the **step** feature called **hour_of_day**.\n",
    "- We will use this new feature to understand how the transactions varied according to the time."
   ]
  },
  {
   "cell_type": "code",
   "execution_count": 16,
   "id": "0def953e",
   "metadata": {},
   "outputs": [],
   "source": [
    "data['hour_of_day'] = data['step']%24"
   ]
  },
  {
   "cell_type": "code",
   "execution_count": 17,
   "id": "052b5a1e",
   "metadata": {},
   "outputs": [],
   "source": [
    "fraud_df = data[data['isFraud'] == 1]"
   ]
  },
  {
   "cell_type": "code",
   "execution_count": 18,
   "id": "1be6d5c4",
   "metadata": {},
   "outputs": [],
   "source": [
    "hourly_fraud_data = fraud_df.groupby('hour_of_day').size()"
   ]
  },
  {
   "cell_type": "code",
   "execution_count": 19,
   "id": "e776fdd1",
   "metadata": {},
   "outputs": [
    {
     "data": {
      "image/png": "[encoded data removed]",
      "text/plain": [
       "<Figure size 1500x700 with 1 Axes>"
      ]
     },
     "metadata": {},
     "output_type": "display_data"
    }
   ],
   "source": [
    "paper = plt.figure(figsize=[15,7])\n",
    "sns.lineplot(x=hourly_fraud_data.index,  y=hourly_fraud_data.values)\n",
    "plt.title(\"Hourly Fraudulent transactions\", size=13)\n",
    "plt.xlabel(\"Hours\", size=11)\n",
    "plt.ylabel(\"Number of Fraudulent transactions\", size = 11)\n",
    "plt.yticks(range(0, 510, 100))\n",
    "plt.xticks(range(1,25,1))\n",
    "plt.grid(visible=True)\n",
    "plt.show()"
   ]
  },
  {
   "cell_type": "markdown",
   "id": "e04fcad4",
   "metadata": {},
   "source": [
    "- We see that most of the fraudulent transactions were carried out during the day."
   ]
  },
  {
   "cell_type": "code",
   "execution_count": 20,
   "id": "4a8e356b",
   "metadata": {},
   "outputs": [
    {
     "data": {
      "text/html": [
       "<div>\n",
       "<style scoped>\n",
       "    .dataframe tbody tr th:only-of-type {\n",
       "        vertical-align: middle;\n",
       "    }\n",
       "\n",
       "    .dataframe tbody tr th {\n",
       "        vertical-align: top;\n",
       "    }\n",
       "\n",
       "    .dataframe thead th {\n",
       "        text-align: right;\n",
       "    }\n",
       "</style>\n",
       "<table border=\"1\" class=\"dataframe\">\n",
       "  <thead>\n",
       "    <tr style=\"text-align: right;\">\n",
       "      <th></th>\n",
       "      <th>step</th>\n",
       "      <th>type</th>\n",
       "      <th>amount</th>\n",
       "      <th>nameOrig</th>\n",
       "      <th>oldbalanceOrg</th>\n",
       "      <th>newbalanceOrig</th>\n",
       "      <th>nameDest</th>\n",
       "      <th>oldbalanceDest</th>\n",
       "      <th>newbalanceDest</th>\n",
       "      <th>isFraud</th>\n",
       "      <th>isFlaggedFraud</th>\n",
       "      <th>hour_of_day</th>\n",
       "    </tr>\n",
       "  </thead>\n",
       "  <tbody>\n",
       "    <tr>\n",
       "      <th>0</th>\n",
       "      <td>1</td>\n",
       "      <td>PAYMENT</td>\n",
       "      <td>9839.64</td>\n",
       "      <td>C1231006815</td>\n",
       "      <td>170136.0</td>\n",
       "      <td>160296.36</td>\n",
       "      <td>M1979787155</td>\n",
       "      <td>0.0</td>\n",
       "      <td>0.0</td>\n",
       "      <td>0</td>\n",
       "      <td>0</td>\n",
       "      <td>1</td>\n",
       "    </tr>\n",
       "    <tr>\n",
       "      <th>1</th>\n",
       "      <td>1</td>\n",
       "      <td>PAYMENT</td>\n",
       "      <td>1864.28</td>\n",
       "      <td>C1666544295</td>\n",
       "      <td>21249.0</td>\n",
       "      <td>19384.72</td>\n",
       "      <td>M2044282225</td>\n",
       "      <td>0.0</td>\n",
       "      <td>0.0</td>\n",
       "      <td>0</td>\n",
       "      <td>0</td>\n",
       "      <td>1</td>\n",
       "    </tr>\n",
       "    <tr>\n",
       "      <th>2</th>\n",
       "      <td>1</td>\n",
       "      <td>TRANSFER</td>\n",
       "      <td>181.00</td>\n",
       "      <td>C1305486145</td>\n",
       "      <td>181.0</td>\n",
       "      <td>0.00</td>\n",
       "      <td>C553264065</td>\n",
       "      <td>0.0</td>\n",
       "      <td>0.0</td>\n",
       "      <td>1</td>\n",
       "      <td>0</td>\n",
       "      <td>1</td>\n",
       "    </tr>\n",
       "    <tr>\n",
       "      <th>3</th>\n",
       "      <td>1</td>\n",
       "      <td>CASH_OUT</td>\n",
       "      <td>181.00</td>\n",
       "      <td>C840083671</td>\n",
       "      <td>181.0</td>\n",
       "      <td>0.00</td>\n",
       "      <td>C38997010</td>\n",
       "      <td>21182.0</td>\n",
       "      <td>0.0</td>\n",
       "      <td>1</td>\n",
       "      <td>0</td>\n",
       "      <td>1</td>\n",
       "    </tr>\n",
       "    <tr>\n",
       "      <th>4</th>\n",
       "      <td>1</td>\n",
       "      <td>PAYMENT</td>\n",
       "      <td>11668.14</td>\n",
       "      <td>C2048537720</td>\n",
       "      <td>41554.0</td>\n",
       "      <td>29885.86</td>\n",
       "      <td>M1230701703</td>\n",
       "      <td>0.0</td>\n",
       "      <td>0.0</td>\n",
       "      <td>0</td>\n",
       "      <td>0</td>\n",
       "      <td>1</td>\n",
       "    </tr>\n",
       "  </tbody>\n",
       "</table>\n",
       "</div>"
      ],
      "text/plain": [
       "   step      type    amount     nameOrig  oldbalanceOrg  newbalanceOrig  \\\n",
       "0     1   PAYMENT   9839.64  C1231006815       170136.0       160296.36   \n",
       "1     1   PAYMENT   1864.28  C1666544295        21249.0        19384.72   \n",
       "2     1  TRANSFER    181.00  C1305486145          181.0            0.00   \n",
       "3     1  CASH_OUT    181.00   C840083671          181.0            0.00   \n",
       "4     1   PAYMENT  11668.14  C2048537720        41554.0        29885.86   \n",
       "\n",
       "      nameDest  oldbalanceDest  newbalanceDest  isFraud  isFlaggedFraud  \\\n",
       "0  M1979787155             0.0             0.0        0               0   \n",
       "1  M2044282225             0.0             0.0        0               0   \n",
       "2   C553264065             0.0             0.0        1               0   \n",
       "3    C38997010         21182.0             0.0        1               0   \n",
       "4  M1230701703             0.0             0.0        0               0   \n",
       "\n",
       "   hour_of_day  \n",
       "0            1  \n",
       "1            1  \n",
       "2            1  \n",
       "3            1  \n",
       "4            1  "
      ]
     },
     "execution_count": 20,
     "metadata": {},
     "output_type": "execute_result"
    }
   ],
   "source": [
    "data.head()"
   ]
  },
  {
   "cell_type": "markdown",
   "id": "60622269",
   "metadata": {},
   "source": [
    "#### Q7. Check to see if fraudulent transactions were carried out from the same account multiple times."
   ]
  },
  {
   "cell_type": "code",
   "execution_count": 21,
   "id": "c1f83e46",
   "metadata": {},
   "outputs": [
    {
     "name": "stdout",
     "output_type": "stream",
     "text": [
      "(8213, 12)\n",
      "8213\n"
     ]
    }
   ],
   "source": [
    "fraud_df = data[data['isFraud'] == 1]\n",
    "notfraud_df = data[data['isFraud'] == 0]\n",
    "\n",
    "\n",
    "print(fraud_df.shape)\n",
    "print(fraud_df['nameOrig'].nunique())"
   ]
  },
  {
   "cell_type": "markdown",
   "id": "c59c36e2",
   "metadata": {},
   "source": [
    "- We see that no two fraudulent transactions were carried out from the same account.\n",
    "- We will now see if the accounts used for fraudulent transactions were used were used for non-fraudulent transactions or not."
   ]
  },
  {
   "cell_type": "code",
   "execution_count": 22,
   "id": "6f55042e",
   "metadata": {},
   "outputs": [
    {
     "name": "stdout",
     "output_type": "stream",
     "text": [
      "Were any non-fraudulent transactions conducted from fraudulent accounts:  True\n"
     ]
    }
   ],
   "source": [
    "print(f\"Were any non-fraudulent transactions conducted from fraudulent accounts: \\\n",
    " {fraud_df['nameOrig'].isin(pd.concat([notfraud_df['nameOrig'], notfraud_df['nameDest']])).any()}\")"
   ]
  },
  {
   "cell_type": "markdown",
   "id": "70cf9a68",
   "metadata": {},
   "source": [
    "- Some of the accounts that were used for fraudulent transactions were also used for non-fraudulent transactions."
   ]
  },
  {
   "cell_type": "markdown",
   "id": "bfbd307d",
   "metadata": {},
   "source": [
    "#### Q8. Were any merchant accounts involved in Fraudulent transaction?"
   ]
  },
  {
   "cell_type": "code",
   "execution_count": 23,
   "id": "10c3fc62",
   "metadata": {},
   "outputs": [
    {
     "name": "stdout",
     "output_type": "stream",
     "text": [
      "False\n"
     ]
    }
   ],
   "source": [
    "def m_acc(name):\n",
    "    return re.findall('^M', name)\n",
    "\n",
    "t_val = fraud_df['nameOrig'].apply(m_acc).any()\n",
    "print(t_val)"
   ]
  },
  {
   "cell_type": "markdown",
   "id": "8180dcf0",
   "metadata": {},
   "source": [
    "- We see that none of the fraudulent transaction were carried out by Merchant accounts"
   ]
  },
  {
   "cell_type": "code",
   "execution_count": 24,
   "id": "ed688ad5",
   "metadata": {},
   "outputs": [
    {
     "name": "stdout",
     "output_type": "stream",
     "text": [
      "False\n"
     ]
    }
   ],
   "source": [
    "def m_acc(name):\n",
    "    return re.findall('^M', name)\n",
    "\n",
    "t_val = fraud_df['nameDest'].apply(m_acc).any()\n",
    "print(t_val)"
   ]
  },
  {
   "cell_type": "markdown",
   "id": "371f9596",
   "metadata": {},
   "source": [
    "- Merchant accounts were not in the receivers of fraudulent transactions either."
   ]
  },
  {
   "cell_type": "markdown",
   "id": "51a1ffc6",
   "metadata": {},
   "source": [
    "#### Q9. Were destinations of fraudulent transfers originators of fraudulent cash outs?"
   ]
  },
  {
   "cell_type": "code",
   "execution_count": 25,
   "id": "7f09c208",
   "metadata": {},
   "outputs": [
    {
     "data": {
      "text/plain": [
       "False"
      ]
     },
     "execution_count": 25,
     "metadata": {},
     "output_type": "execute_result"
    }
   ],
   "source": [
    "transfers = fraud_df[fraud_df['type'] == 'TRANSFER']\n",
    "cash_outs = fraud_df[fraud_df['type'] == 'CASH_OUT']\n",
    "\n",
    "transfers['nameDest'].isin(cash_outs['nameOrig']).any()"
   ]
  },
  {
   "cell_type": "markdown",
   "id": "20a4ab10",
   "metadata": {},
   "source": [
    "- We see that none of the destinations of the fraudulent transfers were originators of fraudulent cash_outs."
   ]
  },
  {
   "cell_type": "code",
   "execution_count": 26,
   "id": "e57fe3bd",
   "metadata": {},
   "outputs": [
    {
     "data": {
      "text/html": [
       "<div>\n",
       "<style scoped>\n",
       "    .dataframe tbody tr th:only-of-type {\n",
       "        vertical-align: middle;\n",
       "    }\n",
       "\n",
       "    .dataframe tbody tr th {\n",
       "        vertical-align: top;\n",
       "    }\n",
       "\n",
       "    .dataframe thead th {\n",
       "        text-align: right;\n",
       "    }\n",
       "</style>\n",
       "<table border=\"1\" class=\"dataframe\">\n",
       "  <thead>\n",
       "    <tr style=\"text-align: right;\">\n",
       "      <th></th>\n",
       "      <th>step</th>\n",
       "      <th>type</th>\n",
       "      <th>amount</th>\n",
       "      <th>nameOrig</th>\n",
       "      <th>oldbalanceOrg</th>\n",
       "      <th>newbalanceOrig</th>\n",
       "      <th>nameDest</th>\n",
       "      <th>oldbalanceDest</th>\n",
       "      <th>newbalanceDest</th>\n",
       "      <th>isFraud</th>\n",
       "      <th>isFlaggedFraud</th>\n",
       "      <th>hour_of_day</th>\n",
       "    </tr>\n",
       "  </thead>\n",
       "  <tbody>\n",
       "    <tr>\n",
       "      <th>1030443</th>\n",
       "      <td>65</td>\n",
       "      <td>TRANSFER</td>\n",
       "      <td>1282971.57</td>\n",
       "      <td>C1175896731</td>\n",
       "      <td>1282971.57</td>\n",
       "      <td>0.0</td>\n",
       "      <td>C1714931087</td>\n",
       "      <td>0.0</td>\n",
       "      <td>0.0</td>\n",
       "      <td>1</td>\n",
       "      <td>0</td>\n",
       "      <td>17</td>\n",
       "    </tr>\n",
       "    <tr>\n",
       "      <th>6039814</th>\n",
       "      <td>486</td>\n",
       "      <td>TRANSFER</td>\n",
       "      <td>214793.32</td>\n",
       "      <td>C2140495649</td>\n",
       "      <td>214793.32</td>\n",
       "      <td>0.0</td>\n",
       "      <td>C423543548</td>\n",
       "      <td>0.0</td>\n",
       "      <td>0.0</td>\n",
       "      <td>1</td>\n",
       "      <td>0</td>\n",
       "      <td>6</td>\n",
       "    </tr>\n",
       "    <tr>\n",
       "      <th>6362556</th>\n",
       "      <td>738</td>\n",
       "      <td>TRANSFER</td>\n",
       "      <td>814689.88</td>\n",
       "      <td>C2029041842</td>\n",
       "      <td>814689.88</td>\n",
       "      <td>0.0</td>\n",
       "      <td>C1023330867</td>\n",
       "      <td>0.0</td>\n",
       "      <td>0.0</td>\n",
       "      <td>1</td>\n",
       "      <td>0</td>\n",
       "      <td>18</td>\n",
       "    </tr>\n",
       "  </tbody>\n",
       "</table>\n",
       "</div>"
      ],
      "text/plain": [
       "         step      type      amount     nameOrig  oldbalanceOrg  \\\n",
       "1030443    65  TRANSFER  1282971.57  C1175896731     1282971.57   \n",
       "6039814   486  TRANSFER   214793.32  C2140495649      214793.32   \n",
       "6362556   738  TRANSFER   814689.88  C2029041842      814689.88   \n",
       "\n",
       "         newbalanceOrig     nameDest  oldbalanceDest  newbalanceDest  isFraud  \\\n",
       "1030443             0.0  C1714931087             0.0             0.0        1   \n",
       "6039814             0.0   C423543548             0.0             0.0        1   \n",
       "6362556             0.0  C1023330867             0.0             0.0        1   \n",
       "\n",
       "         isFlaggedFraud  hour_of_day  \n",
       "1030443               0           17  \n",
       "6039814               0            6  \n",
       "6362556               0           18  "
      ]
     },
     "execution_count": 26,
     "metadata": {},
     "output_type": "execute_result"
    }
   ],
   "source": [
    "transfers = fraud_df[fraud_df['type'] == 'TRANSFER']\n",
    "n_cash_outs = notfraud_df[notfraud_df['type'] == 'CASH_OUT']\n",
    "\n",
    "transfers[transfers['nameDest'].isin(n_cash_outs['nameOrig'])]"
   ]
  },
  {
   "cell_type": "markdown",
   "id": "f3bf6a7e",
   "metadata": {},
   "source": [
    "- But we see that the destinations of fraudulent transfers were originators of genuine cash_outs.\n",
    "- Let's look at the transactions of one of the accounts in detail."
   ]
  },
  {
   "cell_type": "code",
   "execution_count": 27,
   "id": "200d1756",
   "metadata": {},
   "outputs": [
    {
     "data": {
      "text/html": [
       "<div>\n",
       "<style scoped>\n",
       "    .dataframe tbody tr th:only-of-type {\n",
       "        vertical-align: middle;\n",
       "    }\n",
       "\n",
       "    .dataframe tbody tr th {\n",
       "        vertical-align: top;\n",
       "    }\n",
       "\n",
       "    .dataframe thead th {\n",
       "        text-align: right;\n",
       "    }\n",
       "</style>\n",
       "<table border=\"1\" class=\"dataframe\">\n",
       "  <thead>\n",
       "    <tr style=\"text-align: right;\">\n",
       "      <th></th>\n",
       "      <th>step</th>\n",
       "      <th>type</th>\n",
       "      <th>amount</th>\n",
       "      <th>nameOrig</th>\n",
       "      <th>oldbalanceOrg</th>\n",
       "      <th>newbalanceOrig</th>\n",
       "      <th>nameDest</th>\n",
       "      <th>oldbalanceDest</th>\n",
       "      <th>newbalanceDest</th>\n",
       "      <th>isFraud</th>\n",
       "      <th>isFlaggedFraud</th>\n",
       "      <th>hour_of_day</th>\n",
       "    </tr>\n",
       "  </thead>\n",
       "  <tbody>\n",
       "    <tr>\n",
       "      <th>2186261</th>\n",
       "      <td>185</td>\n",
       "      <td>CASH_OUT</td>\n",
       "      <td>214555.85</td>\n",
       "      <td>C423543548</td>\n",
       "      <td>0.00</td>\n",
       "      <td>0.0</td>\n",
       "      <td>C1066927674</td>\n",
       "      <td>4575179.83</td>\n",
       "      <td>4789735.69</td>\n",
       "      <td>0</td>\n",
       "      <td>0</td>\n",
       "      <td>17</td>\n",
       "    </tr>\n",
       "    <tr>\n",
       "      <th>6039814</th>\n",
       "      <td>486</td>\n",
       "      <td>TRANSFER</td>\n",
       "      <td>214793.32</td>\n",
       "      <td>C2140495649</td>\n",
       "      <td>214793.32</td>\n",
       "      <td>0.0</td>\n",
       "      <td>C423543548</td>\n",
       "      <td>0.00</td>\n",
       "      <td>0.00</td>\n",
       "      <td>1</td>\n",
       "      <td>0</td>\n",
       "      <td>6</td>\n",
       "    </tr>\n",
       "  </tbody>\n",
       "</table>\n",
       "</div>"
      ],
      "text/plain": [
       "         step      type     amount     nameOrig  oldbalanceOrg  \\\n",
       "2186261   185  CASH_OUT  214555.85   C423543548           0.00   \n",
       "6039814   486  TRANSFER  214793.32  C2140495649      214793.32   \n",
       "\n",
       "         newbalanceOrig     nameDest  oldbalanceDest  newbalanceDest  isFraud  \\\n",
       "2186261             0.0  C1066927674      4575179.83      4789735.69        0   \n",
       "6039814             0.0   C423543548            0.00            0.00        1   \n",
       "\n",
       "         isFlaggedFraud  hour_of_day  \n",
       "2186261               0           17  \n",
       "6039814               0            6  "
      ]
     },
     "execution_count": 27,
     "metadata": {},
     "output_type": "execute_result"
    }
   ],
   "source": [
    "data[(data['nameOrig'] == 'C423543548') | (data['nameDest'] == 'C423543548')]"
   ]
  },
  {
   "cell_type": "markdown",
   "id": "877b4e94",
   "metadata": {},
   "source": [
    "- We see that the account **C423543548** received a **TRANSFER** at step **486**, but the cashout from the same account was at step **185**.\n",
    "- This doesn't make sense because the way frauds were carried out were by transferring the amount to an account and then cash it out. But according to the above result, the cash_out was initiated before the transfer.\n",
    "- Because of this inconsistency we can drop the **nameOrig** and **nameDest** columns."
   ]
  },
  {
   "cell_type": "markdown",
   "id": "7dd7e2f4",
   "metadata": {},
   "source": [
    "<a name=Section5></a>\n",
    "# **5. Applying Decision Tree Classifier**"
   ]
  },
  {
   "cell_type": "markdown",
   "id": "5996c56f",
   "metadata": {},
   "source": [
    "<a name=Section51></a>\n",
    "#### **5.1 Data Preparation**"
   ]
  },
  {
   "cell_type": "markdown",
   "id": "e70a2b1b",
   "metadata": {},
   "source": [
    "##### Removing columns"
   ]
  },
  {
   "cell_type": "markdown",
   "id": "8cfa424d",
   "metadata": {},
   "source": [
    "- Removing the columns **nameOrig**, **nameDest**, and **isFlaggedFraud**.\n",
    "- We will also remove **step** since we have already created the column **hour_of_day** using the same."
   ]
  },
  {
   "cell_type": "code",
   "execution_count": 28,
   "id": "295945c9",
   "metadata": {},
   "outputs": [],
   "source": [
    "fin_data = data.drop(labels=['step','nameOrig', 'nameDest', 'isFlaggedFraud'], axis = 1)"
   ]
  },
  {
   "cell_type": "markdown",
   "id": "06a06f40",
   "metadata": {},
   "source": [
    "##### Splitting the data into x and y."
   ]
  },
  {
   "cell_type": "code",
   "execution_count": 29,
   "id": "57b9cda9",
   "metadata": {},
   "outputs": [],
   "source": [
    "x = fin_data.drop(['isFraud'], axis = 1)\n",
    "y = fin_data['isFraud']"
   ]
  },
  {
   "cell_type": "code",
   "execution_count": 30,
   "id": "5c34ffc6",
   "metadata": {},
   "outputs": [
    {
     "data": {
      "text/plain": [
       "(6362620, 7)"
      ]
     },
     "execution_count": 30,
     "metadata": {},
     "output_type": "execute_result"
    }
   ],
   "source": [
    "x.shape"
   ]
  },
  {
   "cell_type": "code",
   "execution_count": 31,
   "id": "411c2ce8",
   "metadata": {},
   "outputs": [
    {
     "data": {
      "text/plain": [
       "(6362620,)"
      ]
     },
     "execution_count": 31,
     "metadata": {},
     "output_type": "execute_result"
    }
   ],
   "source": [
    "y.shape"
   ]
  },
  {
   "cell_type": "markdown",
   "id": "29c65e65",
   "metadata": {},
   "source": [
    "##### Encoding"
   ]
  },
  {
   "cell_type": "code",
   "execution_count": 32,
   "id": "66c2e1e3",
   "metadata": {},
   "outputs": [
    {
     "name": "stdout",
     "output_type": "stream",
     "text": [
      "<class 'pandas.core.frame.DataFrame'>\n",
      "RangeIndex: 6362620 entries, 0 to 6362619\n",
      "Data columns (total 7 columns):\n",
      " #   Column          Dtype  \n",
      "---  ------          -----  \n",
      " 0   type            object \n",
      " 1   amount          float64\n",
      " 2   oldbalanceOrg   float64\n",
      " 3   newbalanceOrig  float64\n",
      " 4   oldbalanceDest  float64\n",
      " 5   newbalanceDest  float64\n",
      " 6   hour_of_day     int64  \n",
      "dtypes: float64(5), int64(1), object(1)\n",
      "memory usage: 339.8+ MB\n"
     ]
    }
   ],
   "source": [
    "x.info()"
   ]
  },
  {
   "cell_type": "code",
   "execution_count": 33,
   "id": "87e01644",
   "metadata": {},
   "outputs": [
    {
     "name": "stdout",
     "output_type": "stream",
     "text": [
      "<class 'pandas.core.series.Series'>\n",
      "RangeIndex: 6362620 entries, 0 to 6362619\n",
      "Series name: isFraud\n",
      "Non-Null Count    Dtype\n",
      "--------------    -----\n",
      "6362620 non-null  int64\n",
      "dtypes: int64(1)\n",
      "memory usage: 48.5 MB\n"
     ]
    }
   ],
   "source": [
    "y.info()"
   ]
  },
  {
   "cell_type": "markdown",
   "id": "39d85736",
   "metadata": {},
   "source": [
    "- We see that the column **type** is of type **object**. We will need to encode the values of this column before we train the model.\n",
    "- We will use one encoding to encode the values."
   ]
  },
  {
   "cell_type": "code",
   "execution_count": 34,
   "id": "ea6c826c",
   "metadata": {},
   "outputs": [],
   "source": [
    "x = pd.get_dummies(data=x, columns=['type'], drop_first=True)"
   ]
  },
  {
   "cell_type": "code",
   "execution_count": 35,
   "id": "37fe024c",
   "metadata": {},
   "outputs": [
    {
     "data": {
      "text/html": [
       "<div>\n",
       "<style scoped>\n",
       "    .dataframe tbody tr th:only-of-type {\n",
       "        vertical-align: middle;\n",
       "    }\n",
       "\n",
       "    .dataframe tbody tr th {\n",
       "        vertical-align: top;\n",
       "    }\n",
       "\n",
       "    .dataframe thead th {\n",
       "        text-align: right;\n",
       "    }\n",
       "</style>\n",
       "<table border=\"1\" class=\"dataframe\">\n",
       "  <thead>\n",
       "    <tr style=\"text-align: right;\">\n",
       "      <th></th>\n",
       "      <th>amount</th>\n",
       "      <th>oldbalanceOrg</th>\n",
       "      <th>newbalanceOrig</th>\n",
       "      <th>oldbalanceDest</th>\n",
       "      <th>newbalanceDest</th>\n",
       "      <th>hour_of_day</th>\n",
       "      <th>type_CASH_OUT</th>\n",
       "      <th>type_DEBIT</th>\n",
       "      <th>type_PAYMENT</th>\n",
       "      <th>type_TRANSFER</th>\n",
       "    </tr>\n",
       "  </thead>\n",
       "  <tbody>\n",
       "    <tr>\n",
       "      <th>0</th>\n",
       "      <td>9839.64</td>\n",
       "      <td>170136.0</td>\n",
       "      <td>160296.36</td>\n",
       "      <td>0.0</td>\n",
       "      <td>0.0</td>\n",
       "      <td>1</td>\n",
       "      <td>0</td>\n",
       "      <td>0</td>\n",
       "      <td>1</td>\n",
       "      <td>0</td>\n",
       "    </tr>\n",
       "    <tr>\n",
       "      <th>1</th>\n",
       "      <td>1864.28</td>\n",
       "      <td>21249.0</td>\n",
       "      <td>19384.72</td>\n",
       "      <td>0.0</td>\n",
       "      <td>0.0</td>\n",
       "      <td>1</td>\n",
       "      <td>0</td>\n",
       "      <td>0</td>\n",
       "      <td>1</td>\n",
       "      <td>0</td>\n",
       "    </tr>\n",
       "    <tr>\n",
       "      <th>2</th>\n",
       "      <td>181.00</td>\n",
       "      <td>181.0</td>\n",
       "      <td>0.00</td>\n",
       "      <td>0.0</td>\n",
       "      <td>0.0</td>\n",
       "      <td>1</td>\n",
       "      <td>0</td>\n",
       "      <td>0</td>\n",
       "      <td>0</td>\n",
       "      <td>1</td>\n",
       "    </tr>\n",
       "    <tr>\n",
       "      <th>3</th>\n",
       "      <td>181.00</td>\n",
       "      <td>181.0</td>\n",
       "      <td>0.00</td>\n",
       "      <td>21182.0</td>\n",
       "      <td>0.0</td>\n",
       "      <td>1</td>\n",
       "      <td>1</td>\n",
       "      <td>0</td>\n",
       "      <td>0</td>\n",
       "      <td>0</td>\n",
       "    </tr>\n",
       "    <tr>\n",
       "      <th>4</th>\n",
       "      <td>11668.14</td>\n",
       "      <td>41554.0</td>\n",
       "      <td>29885.86</td>\n",
       "      <td>0.0</td>\n",
       "      <td>0.0</td>\n",
       "      <td>1</td>\n",
       "      <td>0</td>\n",
       "      <td>0</td>\n",
       "      <td>1</td>\n",
       "      <td>0</td>\n",
       "    </tr>\n",
       "  </tbody>\n",
       "</table>\n",
       "</div>"
      ],
      "text/plain": [
       "     amount  oldbalanceOrg  newbalanceOrig  oldbalanceDest  newbalanceDest  \\\n",
       "0   9839.64       170136.0       160296.36             0.0             0.0   \n",
       "1   1864.28        21249.0        19384.72             0.0             0.0   \n",
       "2    181.00          181.0            0.00             0.0             0.0   \n",
       "3    181.00          181.0            0.00         21182.0             0.0   \n",
       "4  11668.14        41554.0        29885.86             0.0             0.0   \n",
       "\n",
       "   hour_of_day  type_CASH_OUT  type_DEBIT  type_PAYMENT  type_TRANSFER  \n",
       "0            1              0           0             1              0  \n",
       "1            1              0           0             1              0  \n",
       "2            1              0           0             0              1  \n",
       "3            1              1           0             0              0  \n",
       "4            1              0           0             1              0  "
      ]
     },
     "execution_count": 35,
     "metadata": {},
     "output_type": "execute_result"
    }
   ],
   "source": [
    "x.head()"
   ]
  },
  {
   "cell_type": "markdown",
   "id": "52ae917a",
   "metadata": {},
   "source": [
    "##### Splitting into x_train, x_test, y_train, and y_test"
   ]
  },
  {
   "cell_type": "code",
   "execution_count": 36,
   "id": "c5567f33",
   "metadata": {},
   "outputs": [],
   "source": [
    "x_train, x_test, y_train, y_test = train_test_split(x, y, test_size=0.2)"
   ]
  },
  {
   "cell_type": "code",
   "execution_count": 37,
   "id": "fb1b4bd4",
   "metadata": {},
   "outputs": [
    {
     "data": {
      "text/plain": [
       "(5090096, 10)"
      ]
     },
     "execution_count": 37,
     "metadata": {},
     "output_type": "execute_result"
    }
   ],
   "source": [
    "x_train.shape"
   ]
  },
  {
   "cell_type": "code",
   "execution_count": 38,
   "id": "7ace72f4",
   "metadata": {},
   "outputs": [
    {
     "data": {
      "text/plain": [
       "(1272524, 10)"
      ]
     },
     "execution_count": 38,
     "metadata": {},
     "output_type": "execute_result"
    }
   ],
   "source": [
    "x_test.shape"
   ]
  },
  {
   "cell_type": "code",
   "execution_count": 39,
   "id": "87999fe5",
   "metadata": {},
   "outputs": [
    {
     "data": {
      "text/plain": [
       "(5090096,)"
      ]
     },
     "execution_count": 39,
     "metadata": {},
     "output_type": "execute_result"
    }
   ],
   "source": [
    "y_train.shape"
   ]
  },
  {
   "cell_type": "code",
   "execution_count": 40,
   "id": "edcd1ac8",
   "metadata": {},
   "outputs": [
    {
     "data": {
      "text/plain": [
       "(1272524,)"
      ]
     },
     "execution_count": 40,
     "metadata": {},
     "output_type": "execute_result"
    }
   ],
   "source": [
    "y_test.shape"
   ]
  },
  {
   "cell_type": "markdown",
   "id": "7109ce43",
   "metadata": {},
   "source": [
    "<a name=Section52></a>\n",
    "#### **5.2 Implementing the Model**"
   ]
  },
  {
   "cell_type": "code",
   "execution_count": 41,
   "id": "9270fa8b",
   "metadata": {},
   "outputs": [],
   "source": [
    "alg = DecisionTreeClassifier(random_state=42)\n",
    "# fitting the algorithm on training data\n",
    "alg.fit(x_train, y_train)\n",
    "\n",
    "train_pred = alg.predict(x_train)\n",
    "test_pred = alg.predict(x_test)"
   ]
  },
  {
   "cell_type": "markdown",
   "id": "dccf387f",
   "metadata": {},
   "source": [
    "<a name=Section53></a>\n",
    "#### **5.3 Model Evaluation**"
   ]
  },
  {
   "cell_type": "code",
   "execution_count": 42,
   "id": "9651af24",
   "metadata": {
    "scrolled": true
   },
   "outputs": [
    {
     "name": "stdout",
     "output_type": "stream",
     "text": [
      "              precision    recall  f1-score   support\n",
      "\n",
      "           0       1.00      1.00      1.00   1270884\n",
      "           1       0.89      0.89      0.89      1640\n",
      "\n",
      "    accuracy                           1.00   1272524\n",
      "   macro avg       0.95      0.94      0.94   1272524\n",
      "weighted avg       1.00      1.00      1.00   1272524\n",
      "\n"
     ]
    }
   ],
   "source": [
    "test_report = classification_report(y_true=y_test, y_pred=test_pred)\n",
    "print(test_report)"
   ]
  },
  {
   "cell_type": "markdown",
   "id": "4018ee9d",
   "metadata": {},
   "source": [
    "- We see that the model is able to classify a transaction as fraud or not with an f1-score of 1.00 for class 0 and an f1-score of 0.89 for class 1."
   ]
  },
  {
   "cell_type": "markdown",
   "id": "cec1fa83",
   "metadata": {},
   "source": [
    "<a name=Section54></a>\n",
    "#### **5.4 Feature Importance**"
   ]
  },
  {
   "cell_type": "code",
   "execution_count": 43,
   "id": "8311b6f5",
   "metadata": {},
   "outputs": [
    {
     "data": {
      "image/png": "[encoded data removed]",
      "text/plain": [
       "<Figure size 1500x700 with 1 Axes>"
      ]
     },
     "metadata": {},
     "output_type": "display_data"
    }
   ],
   "source": [
    "features = x_train.columns\n",
    "importances = alg.feature_importances_\n",
    "indices = np.argsort(importances)\n",
    "\n",
    "plt.figure(figsize=[15, 7])\n",
    "plt.barh(y=range(len(indices)), width=importances[indices], align='center')\n",
    "plt.yticks(ticks=range(len(indices)), labels=[features[i] for i in indices], size=12)\n",
    "plt.show()"
   ]
  },
  {
   "cell_type": "markdown",
   "id": "757c29e7",
   "metadata": {},
   "source": [
    "- The most important features for classifying a transaction as Fraud or not are **oldbalanceOrg**, followed by **newbalanceDest**, **amount**, and so on."
   ]
  },
  {
   "cell_type": "markdown",
   "id": "1faca086",
   "metadata": {},
   "source": [
    "<a name=Section6></a>\n",
    "#### **6. Conclusion**"
   ]
  },
  {
   "cell_type": "markdown",
   "id": "c5f19034",
   "metadata": {},
   "source": [
    "- The dataset used was a synthetic dataset generated using the PaySim Simulator.\n",
    "- There were 6362620 records and 11 features.\n",
    "- The classification of a transaction being fraud or not was carried out using the Decision Tree classifier. The classifier was able to classify with a f1-score of 1.00 for Class-0 (Not Fraud) and a f1-score of 0.89 for Class-1 (Fraud)"
   ]
  }
 ],
 "metadata": {
  "kernelspec": {
   "display_name": "Python 3 (ipykernel)",
   "language": "python",
   "name": "python3"
  },
  "language_info": {
   "codemirror_mode": {
    "name": "ipython",
    "version": 3
   },
   "file_extension": ".py",
   "mimetype": "text/x-python",
   "name": "python",
   "nbconvert_exporter": "python",
   "pygments_lexer": "ipython3",
   "version": "3.8.10"
  }
 },
 "nbformat": 4,
 "nbformat_minor": 5
}
