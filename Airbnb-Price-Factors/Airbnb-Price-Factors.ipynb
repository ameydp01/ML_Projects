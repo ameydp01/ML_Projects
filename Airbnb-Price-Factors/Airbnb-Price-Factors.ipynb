{
 "cells": [
  {
   "cell_type": "markdown",
   "id": "786688a7",
   "metadata": {},
   "source": [
    "# <center><b>Factors effecting Airbnb Prices in European Cities<b> </center>"
   ]
  },
  {
   "cell_type": "markdown",
   "id": "f3c4f502",
   "metadata": {},
   "source": [
    "---\n",
    "# **Table of Contents**\n",
    "---\n",
    "\n",
    "**1.** [**Importing Libraries**](#Section1)<br>\n",
    "**2.** [**Data Acquisition & Description**](#Section2)<br>\n",
    "  - **2.1** [**Data Description**](#Section21)<br>\n",
    "  - **2.2** [**Summary Statistics**](#Section22)<br>\n",
    "  \n",
    "**3.** [**Data Pre-Profiling**](#Section3)<br>\n",
    "**4.** [**Data Preparation (Cleaning)**](#Section4)<br>\n",
    "**5.** [**Exploratory Data Analysis (EDA)**](#Section5)<br>\n",
    "**6.** [**Applying Random Forest Regressor**](#Section6)<br>\n",
    "  - **6.1** [**Data Preparation**](#Section61)<br>\n",
    "  - **6.2** [**Implementing the model**](#Section62)<br>\n",
    "  - **6.3** [**Hyperparameter Tuning**](#Section63)<br>\n",
    "  - **6.4** [**Feature Importance**](#Section64)<br>\n",
    "\n",
    "**7.** [**Conclusion**](#Section7)<br>"
   ]
  },
  {
   "cell_type": "markdown",
   "id": "44dacbf3",
   "metadata": {},
   "source": [
    "---\n",
    "<a name = Section1></a>\n",
    "# **1. Importing Libraries**\n",
    "---"
   ]
  },
  {
   "cell_type": "code",
   "execution_count": 3,
   "id": "681d4226",
   "metadata": {},
   "outputs": [],
   "source": [
    "import pandas as pd\n",
    "import numpy as np\n",
    "import matplotlib.pyplot as plt\n",
    "import seaborn as sns\n",
    "import haversine as hs\n",
    "\n",
    "from sklearn.preprocessing import LabelEncoder\n",
    "from sklearn.model_selection import train_test_split\n",
    "from sklearn.model_selection import RandomizedSearchCV\n",
    "\n",
    "from sklearn.tree import DecisionTreeRegressor\n",
    "from sklearn.ensemble import RandomForestRegressor\n",
    "\n",
    "from sklearn.metrics import mean_squared_error, mean_absolute_percentage_error\n",
    "\n",
    "import warnings\n",
    "warnings.filterwarnings('ignore')"
   ]
  },
  {
   "cell_type": "markdown",
   "id": "8e7bb08e",
   "metadata": {},
   "source": [
    "---\n",
    "<a name = Section2></a>\n",
    "# **2. Data Acquisition & Description**\n",
    "---\n",
    "- The entire dataset is made up of sub-datasets corresponding to each city such as Amsterdam, Berlin, London, etc.\n",
    "- Each city data is further divided into prices over weekdays and weekends.\n",
    "\n",
    "| Records | Features |\n",
    "| :--: | :--: |\n",
    "| 51707 | 15 |\n",
    "\n",
    "<br>\n",
    "\n",
    "| # | Feature Name | Feature Description |\n",
    "|:--:|:--|:--| \n",
    "|1| realSum | The total price of the Airbnb listing. (Numeric) |\n",
    "|2| room_type | The type of room being offered (e.g. private, shared, etc.). (Categorical) |\n",
    "|3| room_shared |Whether the room is shared or not. (Boolean) |\n",
    "|4| room_private |\tWhether the room is private or not. (Boolean) |\n",
    "|5| person_capacity |\tThe maximum number of people that can stay in the room. (Numeric) |\n",
    "|6| host_is_superhost |\tWhether the host is a superhost or not. (Boolean) |\n",
    "|7| multi |\tWhether the listing is for multiple rooms or not. (Boolean) |\n",
    "|8| biz |\tWhether the listing is for business purposes or not. (Boolean) |\n",
    "|9| cleanliness_rating |\tThe cleanliness rating of the listing. (Numeric) |\n",
    "|10| guest_satisfaction_overall |\tThe overall guest satisfaction rating of the listing. (Numeric) |\n",
    "|11| bedrooms | The number of bedrooms in the listing. (Numeric) |\n",
    "|12| dist | The distance from the city centre. (Numeric) |\n",
    "|13| metro_dist | The distance from the nearest metro station. (Numeric) |\n",
    "|14| lng | The longitude of the listing. (Numeric) |\n",
    "|15| lat | The latitude of the listing. (Numeric) |"
   ]
  },
  {
   "cell_type": "markdown",
   "id": "b9c1d262",
   "metadata": {},
   "source": [
    "#### Importing the data"
   ]
  },
  {
   "cell_type": "code",
   "execution_count": 4,
   "id": "9e7a8df3",
   "metadata": {},
   "outputs": [],
   "source": [
    "# amsterdam\n",
    "amsterdam_weekdays = pd.read_csv(r\"D:\\Projects\\Airbnb-Price-Factors\\archive (1)\\amsterdam_weekdays.csv\", index_col=False)\n",
    "amsterdam_weekends = pd.read_csv(r\"D:\\Projects\\Airbnb-Price-Factors\\archive (1)\\amsterdam_weekends.csv\", index_col=False)\n",
    "\n",
    "# athens\n",
    "athens_weekdays = pd.read_csv(r\"D:\\Projects\\Airbnb-Price-Factors\\archive (1)\\athens_weekdays.csv\", index_col=False)\n",
    "athens_weekends = pd.read_csv(r\"D:\\Projects\\Airbnb-Price-Factors\\archive (1)\\athens_weekends.csv\", index_col=False)\n",
    "\n",
    "# barcelona\n",
    "barcelona_weekdays = pd.read_csv(r\"D:\\Projects\\Airbnb-Price-Factors\\archive (1)\\barcelona_weekdays.csv\", index_col=False)\n",
    "barcelona_weekends = pd.read_csv(r\"D:\\Projects\\Airbnb-Price-Factors\\archive (1)\\barcelona_weekends.csv\", index_col=False)\n",
    "\n",
    "# berlin\n",
    "berlin_weekdays = pd.read_csv(r\"D:\\Projects\\Airbnb-Price-Factors\\archive (1)\\berlin_weekdays.csv\", index_col=False)\n",
    "berlin_weekends = pd.read_csv(r\"D:\\Projects\\Airbnb-Price-Factors\\archive (1)\\berlin_weekends.csv\", index_col=False)\n",
    "\n",
    "# budapest\n",
    "budapest_weekdays = pd.read_csv(r\"D:\\Projects\\Airbnb-Price-Factors\\archive (1)\\budapest_weekdays.csv\", index_col=False)\n",
    "budapest_weekends = pd.read_csv(r\"D:\\Projects\\Airbnb-Price-Factors\\archive (1)\\budapest_weekends.csv\", index_col=False)\n",
    "\n",
    "# lisbon\n",
    "lisbon_weekdays = pd.read_csv(r\"D:\\Projects\\Airbnb-Price-Factors\\archive (1)\\lisbon_weekdays.csv\", index_col=False)\n",
    "lisbon_weekends = pd.read_csv(r\"D:\\Projects\\Airbnb-Price-Factors\\archive (1)\\lisbon_weekends.csv\", index_col=False)\n",
    "\n",
    "# london\n",
    "london_weekdays = pd.read_csv(r\"D:\\Projects\\Airbnb-Price-Factors\\archive (1)\\london_weekdays.csv\", index_col=False)\n",
    "london_weekends = pd.read_csv(r\"D:\\Projects\\Airbnb-Price-Factors\\archive (1)\\london_weekends.csv\", index_col=False)\n",
    "\n",
    "# paris\n",
    "paris_weekdays = pd.read_csv(r\"D:\\Projects\\Airbnb-Price-Factors\\archive (1)\\paris_weekdays.csv\", index_col=False)\n",
    "paris_weekends = pd.read_csv(r\"D:\\Projects\\Airbnb-Price-Factors\\archive (1)\\paris_weekends.csv\", index_col=False)\n",
    "\n",
    "# rome\n",
    "rome_weekdays = pd.read_csv(r\"D:\\Projects\\Airbnb-Price-Factors\\archive (1)\\rome_weekdays.csv\", index_col=False)\n",
    "rome_weekends = pd.read_csv(r\"D:\\Projects\\Airbnb-Price-Factors\\archive (1)\\rome_weekends.csv\", index_col=False)\n",
    "\n",
    "# vienna\n",
    "vienna_weekdays = pd.read_csv(r\"D:\\Projects\\Airbnb-Price-Factors\\archive (1)\\vienna_weekdays.csv\", index_col=False)\n",
    "vienna_weekends = pd.read_csv(r\"D:\\Projects\\Airbnb-Price-Factors\\archive (1)\\vienna_weekends.csv\", index_col=False)"
   ]
  },
  {
   "cell_type": "code",
   "execution_count": 5,
   "id": "f67431fd",
   "metadata": {
    "scrolled": true
   },
   "outputs": [
    {
     "data": {
      "text/html": [
       "<div>\n",
       "<style scoped>\n",
       "    .dataframe tbody tr th:only-of-type {\n",
       "        vertical-align: middle;\n",
       "    }\n",
       "\n",
       "    .dataframe tbody tr th {\n",
       "        vertical-align: top;\n",
       "    }\n",
       "\n",
       "    .dataframe thead th {\n",
       "        text-align: right;\n",
       "    }\n",
       "</style>\n",
       "<table border=\"1\" class=\"dataframe\">\n",
       "  <thead>\n",
       "    <tr style=\"text-align: right;\">\n",
       "      <th></th>\n",
       "      <th>Unnamed: 0</th>\n",
       "      <th>realSum</th>\n",
       "      <th>room_type</th>\n",
       "      <th>room_shared</th>\n",
       "      <th>room_private</th>\n",
       "      <th>person_capacity</th>\n",
       "      <th>host_is_superhost</th>\n",
       "      <th>multi</th>\n",
       "      <th>biz</th>\n",
       "      <th>cleanliness_rating</th>\n",
       "      <th>guest_satisfaction_overall</th>\n",
       "      <th>bedrooms</th>\n",
       "      <th>dist</th>\n",
       "      <th>metro_dist</th>\n",
       "      <th>attr_index</th>\n",
       "      <th>attr_index_norm</th>\n",
       "      <th>rest_index</th>\n",
       "      <th>rest_index_norm</th>\n",
       "      <th>lng</th>\n",
       "      <th>lat</th>\n",
       "    </tr>\n",
       "  </thead>\n",
       "  <tbody>\n",
       "    <tr>\n",
       "      <th>0</th>\n",
       "      <td>0</td>\n",
       "      <td>194.033698</td>\n",
       "      <td>Private room</td>\n",
       "      <td>False</td>\n",
       "      <td>True</td>\n",
       "      <td>2.0</td>\n",
       "      <td>False</td>\n",
       "      <td>1</td>\n",
       "      <td>0</td>\n",
       "      <td>10.0</td>\n",
       "      <td>93.0</td>\n",
       "      <td>1</td>\n",
       "      <td>5.022964</td>\n",
       "      <td>2.539380</td>\n",
       "      <td>78.690379</td>\n",
       "      <td>4.166708</td>\n",
       "      <td>98.253896</td>\n",
       "      <td>6.846473</td>\n",
       "      <td>4.90569</td>\n",
       "      <td>52.41772</td>\n",
       "    </tr>\n",
       "    <tr>\n",
       "      <th>1</th>\n",
       "      <td>1</td>\n",
       "      <td>344.245776</td>\n",
       "      <td>Private room</td>\n",
       "      <td>False</td>\n",
       "      <td>True</td>\n",
       "      <td>4.0</td>\n",
       "      <td>False</td>\n",
       "      <td>0</td>\n",
       "      <td>0</td>\n",
       "      <td>8.0</td>\n",
       "      <td>85.0</td>\n",
       "      <td>1</td>\n",
       "      <td>0.488389</td>\n",
       "      <td>0.239404</td>\n",
       "      <td>631.176378</td>\n",
       "      <td>33.421209</td>\n",
       "      <td>837.280757</td>\n",
       "      <td>58.342928</td>\n",
       "      <td>4.90005</td>\n",
       "      <td>52.37432</td>\n",
       "    </tr>\n",
       "    <tr>\n",
       "      <th>2</th>\n",
       "      <td>2</td>\n",
       "      <td>264.101422</td>\n",
       "      <td>Private room</td>\n",
       "      <td>False</td>\n",
       "      <td>True</td>\n",
       "      <td>2.0</td>\n",
       "      <td>False</td>\n",
       "      <td>0</td>\n",
       "      <td>1</td>\n",
       "      <td>9.0</td>\n",
       "      <td>87.0</td>\n",
       "      <td>1</td>\n",
       "      <td>5.748312</td>\n",
       "      <td>3.651621</td>\n",
       "      <td>75.275877</td>\n",
       "      <td>3.985908</td>\n",
       "      <td>95.386955</td>\n",
       "      <td>6.646700</td>\n",
       "      <td>4.97512</td>\n",
       "      <td>52.36103</td>\n",
       "    </tr>\n",
       "    <tr>\n",
       "      <th>3</th>\n",
       "      <td>3</td>\n",
       "      <td>433.529398</td>\n",
       "      <td>Private room</td>\n",
       "      <td>False</td>\n",
       "      <td>True</td>\n",
       "      <td>4.0</td>\n",
       "      <td>False</td>\n",
       "      <td>0</td>\n",
       "      <td>1</td>\n",
       "      <td>9.0</td>\n",
       "      <td>90.0</td>\n",
       "      <td>2</td>\n",
       "      <td>0.384862</td>\n",
       "      <td>0.439876</td>\n",
       "      <td>493.272534</td>\n",
       "      <td>26.119108</td>\n",
       "      <td>875.033098</td>\n",
       "      <td>60.973565</td>\n",
       "      <td>4.89417</td>\n",
       "      <td>52.37663</td>\n",
       "    </tr>\n",
       "    <tr>\n",
       "      <th>4</th>\n",
       "      <td>4</td>\n",
       "      <td>485.552926</td>\n",
       "      <td>Private room</td>\n",
       "      <td>False</td>\n",
       "      <td>True</td>\n",
       "      <td>2.0</td>\n",
       "      <td>True</td>\n",
       "      <td>0</td>\n",
       "      <td>0</td>\n",
       "      <td>10.0</td>\n",
       "      <td>98.0</td>\n",
       "      <td>1</td>\n",
       "      <td>0.544738</td>\n",
       "      <td>0.318693</td>\n",
       "      <td>552.830324</td>\n",
       "      <td>29.272733</td>\n",
       "      <td>815.305740</td>\n",
       "      <td>56.811677</td>\n",
       "      <td>4.90051</td>\n",
       "      <td>52.37508</td>\n",
       "    </tr>\n",
       "  </tbody>\n",
       "</table>\n",
       "</div>"
      ],
      "text/plain": [
       "   Unnamed: 0     realSum     room_type  room_shared  room_private  \\\n",
       "0           0  194.033698  Private room        False          True   \n",
       "1           1  344.245776  Private room        False          True   \n",
       "2           2  264.101422  Private room        False          True   \n",
       "3           3  433.529398  Private room        False          True   \n",
       "4           4  485.552926  Private room        False          True   \n",
       "\n",
       "   person_capacity  host_is_superhost  multi  biz  cleanliness_rating  \\\n",
       "0              2.0              False      1    0                10.0   \n",
       "1              4.0              False      0    0                 8.0   \n",
       "2              2.0              False      0    1                 9.0   \n",
       "3              4.0              False      0    1                 9.0   \n",
       "4              2.0               True      0    0                10.0   \n",
       "\n",
       "   guest_satisfaction_overall  bedrooms      dist  metro_dist  attr_index  \\\n",
       "0                        93.0         1  5.022964    2.539380   78.690379   \n",
       "1                        85.0         1  0.488389    0.239404  631.176378   \n",
       "2                        87.0         1  5.748312    3.651621   75.275877   \n",
       "3                        90.0         2  0.384862    0.439876  493.272534   \n",
       "4                        98.0         1  0.544738    0.318693  552.830324   \n",
       "\n",
       "   attr_index_norm  rest_index  rest_index_norm      lng       lat  \n",
       "0         4.166708   98.253896         6.846473  4.90569  52.41772  \n",
       "1        33.421209  837.280757        58.342928  4.90005  52.37432  \n",
       "2         3.985908   95.386955         6.646700  4.97512  52.36103  \n",
       "3        26.119108  875.033098        60.973565  4.89417  52.37663  \n",
       "4        29.272733  815.305740        56.811677  4.90051  52.37508  "
      ]
     },
     "execution_count": 5,
     "metadata": {},
     "output_type": "execute_result"
    }
   ],
   "source": [
    "amsterdam_weekdays.head()"
   ]
  },
  {
   "cell_type": "markdown",
   "id": "3017fc6d",
   "metadata": {},
   "source": [
    "Defining a function to combine datasets according to the city and time of the week."
   ]
  },
  {
   "cell_type": "code",
   "execution_count": 6,
   "id": "11b69f95",
   "metadata": {},
   "outputs": [],
   "source": [
    "def comb(city, df1_weekdays, df2_weekends):\n",
    "    df1_weekdays['city'] = city\n",
    "    df2_weekends['city'] = city\n",
    "    df1_weekdays['time_of_week'] = 'weekdays'\n",
    "    df2_weekends['time_of_week'] = 'weekends'\n",
    "    df = pd.concat(objs=[df1_weekdays, df2_weekends], axis=0)\n",
    "    return df"
   ]
  },
  {
   "cell_type": "code",
   "execution_count": 7,
   "id": "73f0556e",
   "metadata": {},
   "outputs": [],
   "source": [
    "amsterdam = comb('amsterdam', amsterdam_weekdays, amsterdam_weekends)\n",
    "athens = comb('athens', athens_weekdays, athens_weekends)\n",
    "barcelona = comb('barcelon', barcelona_weekdays, barcelona_weekends)\n",
    "berlin = comb('berlin', berlin_weekdays, berlin_weekends)\n",
    "budapest = comb('budapest', budapest_weekdays, budapest_weekends)\n",
    "lisbon = comb('lisbon', lisbon_weekdays, lisbon_weekends)\n",
    "london = comb('london', london_weekdays, london_weekends)\n",
    "paris = comb('paris', paris_weekdays, paris_weekends)\n",
    "rome = comb('rome', rome_weekdays, rome_weekends)\n",
    "vienna = comb('vienna', vienna_weekdays, vienna_weekends)"
   ]
  },
  {
   "cell_type": "markdown",
   "id": "93ae3f7f",
   "metadata": {},
   "source": [
    "Combining all the city-wise datasets to create one data frame."
   ]
  },
  {
   "cell_type": "code",
   "execution_count": 8,
   "id": "69f23772",
   "metadata": {},
   "outputs": [],
   "source": [
    "airbnb_df = amsterdam.copy()"
   ]
  },
  {
   "cell_type": "code",
   "execution_count": 9,
   "id": "a9b2cb54",
   "metadata": {},
   "outputs": [],
   "source": [
    "df_ls = [athens, barcelona, berlin, budapest, lisbon, london, paris, rome, vienna]\n",
    "\n",
    "for df in df_ls:\n",
    "    airbnb_df = pd.concat(objs=[airbnb_df, df], axis = 0)"
   ]
  },
  {
   "cell_type": "code",
   "execution_count": 10,
   "id": "70685d87",
   "metadata": {},
   "outputs": [
    {
     "data": {
      "text/plain": [
       "london       9993\n",
       "rome         9027\n",
       "paris        6688\n",
       "lisbon       5763\n",
       "athens       5280\n",
       "budapest     4022\n",
       "vienna       3537\n",
       "barcelon     2833\n",
       "berlin       2484\n",
       "amsterdam    2080\n",
       "Name: city, dtype: int64"
      ]
     },
     "execution_count": 10,
     "metadata": {},
     "output_type": "execute_result"
    }
   ],
   "source": [
    "airbnb_df['city'].value_counts()"
   ]
  },
  {
   "cell_type": "code",
   "execution_count": 11,
   "id": "663da475",
   "metadata": {},
   "outputs": [
    {
     "data": {
      "text/plain": [
       "(51707, 22)"
      ]
     },
     "execution_count": 11,
     "metadata": {},
     "output_type": "execute_result"
    }
   ],
   "source": [
    "airbnb_df.shape"
   ]
  },
  {
   "cell_type": "markdown",
   "id": "0a8661f0",
   "metadata": {},
   "source": [
    "<a name=Section21></a>\n",
    "#### **2.1 Data Description**"
   ]
  },
  {
   "cell_type": "code",
   "execution_count": 12,
   "id": "9f5b27f1",
   "metadata": {
    "scrolled": false
   },
   "outputs": [
    {
     "name": "stdout",
     "output_type": "stream",
     "text": [
      "<class 'pandas.core.frame.DataFrame'>\n",
      "Int64Index: 51707 entries, 0 to 1798\n",
      "Data columns (total 22 columns):\n",
      " #   Column                      Non-Null Count  Dtype  \n",
      "---  ------                      --------------  -----  \n",
      " 0   Unnamed: 0                  51707 non-null  int64  \n",
      " 1   realSum                     51707 non-null  float64\n",
      " 2   room_type                   51707 non-null  object \n",
      " 3   room_shared                 51707 non-null  bool   \n",
      " 4   room_private                51707 non-null  bool   \n",
      " 5   person_capacity             51707 non-null  float64\n",
      " 6   host_is_superhost           51707 non-null  bool   \n",
      " 7   multi                       51707 non-null  int64  \n",
      " 8   biz                         51707 non-null  int64  \n",
      " 9   cleanliness_rating          51707 non-null  float64\n",
      " 10  guest_satisfaction_overall  51707 non-null  float64\n",
      " 11  bedrooms                    51707 non-null  int64  \n",
      " 12  dist                        51707 non-null  float64\n",
      " 13  metro_dist                  51707 non-null  float64\n",
      " 14  attr_index                  51707 non-null  float64\n",
      " 15  attr_index_norm             51707 non-null  float64\n",
      " 16  rest_index                  51707 non-null  float64\n",
      " 17  rest_index_norm             51707 non-null  float64\n",
      " 18  lng                         51707 non-null  float64\n",
      " 19  lat                         51707 non-null  float64\n",
      " 20  city                        51707 non-null  object \n",
      " 21  time_of_week                51707 non-null  object \n",
      "dtypes: bool(3), float64(12), int64(4), object(3)\n",
      "memory usage: 8.0+ MB\n"
     ]
    }
   ],
   "source": [
    "airbnb_df.info()"
   ]
  },
  {
   "cell_type": "markdown",
   "id": "c58ddd2f",
   "metadata": {},
   "source": [
    "<a name=Section22></a>\n",
    "#### **2.2 Summary Statistics**"
   ]
  },
  {
   "cell_type": "code",
   "execution_count": 13,
   "id": "f03a4cad",
   "metadata": {},
   "outputs": [
    {
     "data": {
      "text/html": [
       "<div>\n",
       "<style scoped>\n",
       "    .dataframe tbody tr th:only-of-type {\n",
       "        vertical-align: middle;\n",
       "    }\n",
       "\n",
       "    .dataframe tbody tr th {\n",
       "        vertical-align: top;\n",
       "    }\n",
       "\n",
       "    .dataframe thead th {\n",
       "        text-align: right;\n",
       "    }\n",
       "</style>\n",
       "<table border=\"1\" class=\"dataframe\">\n",
       "  <thead>\n",
       "    <tr style=\"text-align: right;\">\n",
       "      <th></th>\n",
       "      <th>Unnamed: 0</th>\n",
       "      <th>realSum</th>\n",
       "      <th>person_capacity</th>\n",
       "      <th>multi</th>\n",
       "      <th>biz</th>\n",
       "      <th>cleanliness_rating</th>\n",
       "      <th>guest_satisfaction_overall</th>\n",
       "      <th>bedrooms</th>\n",
       "      <th>dist</th>\n",
       "      <th>metro_dist</th>\n",
       "      <th>attr_index</th>\n",
       "      <th>attr_index_norm</th>\n",
       "      <th>rest_index</th>\n",
       "      <th>rest_index_norm</th>\n",
       "      <th>lng</th>\n",
       "      <th>lat</th>\n",
       "    </tr>\n",
       "  </thead>\n",
       "  <tbody>\n",
       "    <tr>\n",
       "      <th>count</th>\n",
       "      <td>51707.000000</td>\n",
       "      <td>51707.000000</td>\n",
       "      <td>51707.000000</td>\n",
       "      <td>51707.000000</td>\n",
       "      <td>51707.000000</td>\n",
       "      <td>51707.000000</td>\n",
       "      <td>51707.000000</td>\n",
       "      <td>51707.00000</td>\n",
       "      <td>51707.000000</td>\n",
       "      <td>51707.000000</td>\n",
       "      <td>51707.000000</td>\n",
       "      <td>51707.000000</td>\n",
       "      <td>51707.000000</td>\n",
       "      <td>51707.000000</td>\n",
       "      <td>51707.000000</td>\n",
       "      <td>51707.000000</td>\n",
       "    </tr>\n",
       "    <tr>\n",
       "      <th>mean</th>\n",
       "      <td>1620.502388</td>\n",
       "      <td>279.879591</td>\n",
       "      <td>3.161661</td>\n",
       "      <td>0.291353</td>\n",
       "      <td>0.350204</td>\n",
       "      <td>9.390624</td>\n",
       "      <td>92.628232</td>\n",
       "      <td>1.15876</td>\n",
       "      <td>3.191285</td>\n",
       "      <td>0.681540</td>\n",
       "      <td>294.204105</td>\n",
       "      <td>13.423792</td>\n",
       "      <td>626.856696</td>\n",
       "      <td>22.786177</td>\n",
       "      <td>7.426068</td>\n",
       "      <td>45.671128</td>\n",
       "    </tr>\n",
       "    <tr>\n",
       "      <th>std</th>\n",
       "      <td>1217.380366</td>\n",
       "      <td>327.948386</td>\n",
       "      <td>1.298545</td>\n",
       "      <td>0.454390</td>\n",
       "      <td>0.477038</td>\n",
       "      <td>0.954868</td>\n",
       "      <td>8.945531</td>\n",
       "      <td>0.62741</td>\n",
       "      <td>2.393803</td>\n",
       "      <td>0.858023</td>\n",
       "      <td>224.754123</td>\n",
       "      <td>9.807985</td>\n",
       "      <td>497.920226</td>\n",
       "      <td>17.804096</td>\n",
       "      <td>9.799725</td>\n",
       "      <td>5.249263</td>\n",
       "    </tr>\n",
       "    <tr>\n",
       "      <th>min</th>\n",
       "      <td>0.000000</td>\n",
       "      <td>34.779339</td>\n",
       "      <td>2.000000</td>\n",
       "      <td>0.000000</td>\n",
       "      <td>0.000000</td>\n",
       "      <td>2.000000</td>\n",
       "      <td>20.000000</td>\n",
       "      <td>0.00000</td>\n",
       "      <td>0.015045</td>\n",
       "      <td>0.002301</td>\n",
       "      <td>15.152201</td>\n",
       "      <td>0.926301</td>\n",
       "      <td>19.576924</td>\n",
       "      <td>0.592757</td>\n",
       "      <td>-9.226340</td>\n",
       "      <td>37.953000</td>\n",
       "    </tr>\n",
       "    <tr>\n",
       "      <th>25%</th>\n",
       "      <td>646.000000</td>\n",
       "      <td>148.752174</td>\n",
       "      <td>2.000000</td>\n",
       "      <td>0.000000</td>\n",
       "      <td>0.000000</td>\n",
       "      <td>9.000000</td>\n",
       "      <td>90.000000</td>\n",
       "      <td>1.00000</td>\n",
       "      <td>1.453142</td>\n",
       "      <td>0.248480</td>\n",
       "      <td>136.797385</td>\n",
       "      <td>6.380926</td>\n",
       "      <td>250.854114</td>\n",
       "      <td>8.751480</td>\n",
       "      <td>-0.072500</td>\n",
       "      <td>41.399510</td>\n",
       "    </tr>\n",
       "    <tr>\n",
       "      <th>50%</th>\n",
       "      <td>1334.000000</td>\n",
       "      <td>211.343089</td>\n",
       "      <td>3.000000</td>\n",
       "      <td>0.000000</td>\n",
       "      <td>0.000000</td>\n",
       "      <td>10.000000</td>\n",
       "      <td>95.000000</td>\n",
       "      <td>1.00000</td>\n",
       "      <td>2.613538</td>\n",
       "      <td>0.413269</td>\n",
       "      <td>234.331748</td>\n",
       "      <td>11.468305</td>\n",
       "      <td>522.052783</td>\n",
       "      <td>17.542238</td>\n",
       "      <td>4.873000</td>\n",
       "      <td>47.506690</td>\n",
       "    </tr>\n",
       "    <tr>\n",
       "      <th>75%</th>\n",
       "      <td>2382.000000</td>\n",
       "      <td>319.694287</td>\n",
       "      <td>4.000000</td>\n",
       "      <td>1.000000</td>\n",
       "      <td>1.000000</td>\n",
       "      <td>10.000000</td>\n",
       "      <td>99.000000</td>\n",
       "      <td>1.00000</td>\n",
       "      <td>4.263077</td>\n",
       "      <td>0.737840</td>\n",
       "      <td>385.756381</td>\n",
       "      <td>17.415082</td>\n",
       "      <td>832.628988</td>\n",
       "      <td>32.964603</td>\n",
       "      <td>13.518825</td>\n",
       "      <td>51.471885</td>\n",
       "    </tr>\n",
       "    <tr>\n",
       "      <th>max</th>\n",
       "      <td>5378.000000</td>\n",
       "      <td>18545.450285</td>\n",
       "      <td>6.000000</td>\n",
       "      <td>1.000000</td>\n",
       "      <td>1.000000</td>\n",
       "      <td>10.000000</td>\n",
       "      <td>100.000000</td>\n",
       "      <td>10.00000</td>\n",
       "      <td>25.284557</td>\n",
       "      <td>14.273577</td>\n",
       "      <td>4513.563486</td>\n",
       "      <td>100.000000</td>\n",
       "      <td>6696.156772</td>\n",
       "      <td>100.000000</td>\n",
       "      <td>23.786020</td>\n",
       "      <td>52.641410</td>\n",
       "    </tr>\n",
       "  </tbody>\n",
       "</table>\n",
       "</div>"
      ],
      "text/plain": [
       "         Unnamed: 0       realSum  person_capacity         multi  \\\n",
       "count  51707.000000  51707.000000     51707.000000  51707.000000   \n",
       "mean    1620.502388    279.879591         3.161661      0.291353   \n",
       "std     1217.380366    327.948386         1.298545      0.454390   \n",
       "min        0.000000     34.779339         2.000000      0.000000   \n",
       "25%      646.000000    148.752174         2.000000      0.000000   \n",
       "50%     1334.000000    211.343089         3.000000      0.000000   \n",
       "75%     2382.000000    319.694287         4.000000      1.000000   \n",
       "max     5378.000000  18545.450285         6.000000      1.000000   \n",
       "\n",
       "                biz  cleanliness_rating  guest_satisfaction_overall  \\\n",
       "count  51707.000000        51707.000000                51707.000000   \n",
       "mean       0.350204            9.390624                   92.628232   \n",
       "std        0.477038            0.954868                    8.945531   \n",
       "min        0.000000            2.000000                   20.000000   \n",
       "25%        0.000000            9.000000                   90.000000   \n",
       "50%        0.000000           10.000000                   95.000000   \n",
       "75%        1.000000           10.000000                   99.000000   \n",
       "max        1.000000           10.000000                  100.000000   \n",
       "\n",
       "          bedrooms          dist    metro_dist    attr_index  attr_index_norm  \\\n",
       "count  51707.00000  51707.000000  51707.000000  51707.000000     51707.000000   \n",
       "mean       1.15876      3.191285      0.681540    294.204105        13.423792   \n",
       "std        0.62741      2.393803      0.858023    224.754123         9.807985   \n",
       "min        0.00000      0.015045      0.002301     15.152201         0.926301   \n",
       "25%        1.00000      1.453142      0.248480    136.797385         6.380926   \n",
       "50%        1.00000      2.613538      0.413269    234.331748        11.468305   \n",
       "75%        1.00000      4.263077      0.737840    385.756381        17.415082   \n",
       "max       10.00000     25.284557     14.273577   4513.563486       100.000000   \n",
       "\n",
       "         rest_index  rest_index_norm           lng           lat  \n",
       "count  51707.000000     51707.000000  51707.000000  51707.000000  \n",
       "mean     626.856696        22.786177      7.426068     45.671128  \n",
       "std      497.920226        17.804096      9.799725      5.249263  \n",
       "min       19.576924         0.592757     -9.226340     37.953000  \n",
       "25%      250.854114         8.751480     -0.072500     41.399510  \n",
       "50%      522.052783        17.542238      4.873000     47.506690  \n",
       "75%      832.628988        32.964603     13.518825     51.471885  \n",
       "max     6696.156772       100.000000     23.786020     52.641410  "
      ]
     },
     "execution_count": 13,
     "metadata": {},
     "output_type": "execute_result"
    }
   ],
   "source": [
    "airbnb_df.describe()"
   ]
  },
  {
   "cell_type": "markdown",
   "id": "eed4ac11",
   "metadata": {},
   "source": [
    "<a name=Section3></a>\n",
    "### **3. Data Pre-Profiling**"
   ]
  },
  {
   "cell_type": "markdown",
   "id": "0ba9f472",
   "metadata": {},
   "source": [
    "#### Checking for Missing values."
   ]
  },
  {
   "cell_type": "code",
   "execution_count": 14,
   "id": "0c641099",
   "metadata": {},
   "outputs": [
    {
     "data": {
      "text/plain": [
       "Unnamed: 0                    0\n",
       "realSum                       0\n",
       "room_type                     0\n",
       "room_shared                   0\n",
       "room_private                  0\n",
       "person_capacity               0\n",
       "host_is_superhost             0\n",
       "multi                         0\n",
       "biz                           0\n",
       "cleanliness_rating            0\n",
       "guest_satisfaction_overall    0\n",
       "bedrooms                      0\n",
       "dist                          0\n",
       "metro_dist                    0\n",
       "attr_index                    0\n",
       "attr_index_norm               0\n",
       "rest_index                    0\n",
       "rest_index_norm               0\n",
       "lng                           0\n",
       "lat                           0\n",
       "city                          0\n",
       "time_of_week                  0\n",
       "dtype: int64"
      ]
     },
     "execution_count": 14,
     "metadata": {},
     "output_type": "execute_result"
    }
   ],
   "source": [
    "# checking for missing values\n",
    "airbnb_df.isnull().sum()"
   ]
  },
  {
   "cell_type": "markdown",
   "id": "a2cc875e",
   "metadata": {},
   "source": [
    "- We see that there are no missing values."
   ]
  },
  {
   "cell_type": "markdown",
   "id": "e06f1b29",
   "metadata": {},
   "source": [
    "#### Checking for duplicates."
   ]
  },
  {
   "cell_type": "code",
   "execution_count": 15,
   "id": "08254141",
   "metadata": {},
   "outputs": [
    {
     "data": {
      "text/plain": [
       "False"
      ]
     },
     "execution_count": 15,
     "metadata": {},
     "output_type": "execute_result"
    }
   ],
   "source": [
    "airbnb_df.duplicated().any()"
   ]
  },
  {
   "cell_type": "markdown",
   "id": "4c9e4e2a",
   "metadata": {},
   "source": [
    "- We see that there are no duplicate rows either."
   ]
  },
  {
   "cell_type": "markdown",
   "id": "31e3e1e9",
   "metadata": {},
   "source": [
    "<a name=Section4></a>\n",
    "### **4. Data Preparation (Cleaning)**"
   ]
  },
  {
   "cell_type": "markdown",
   "id": "713406bf",
   "metadata": {},
   "source": [
    "Dropping **Unnamed: 0** because it's an index column."
   ]
  },
  {
   "cell_type": "code",
   "execution_count": 16,
   "id": "fe43b5e6",
   "metadata": {},
   "outputs": [],
   "source": [
    "airbnb_df.drop(labels=['Unnamed: 0'], axis=1, inplace=True)"
   ]
  },
  {
   "cell_type": "code",
   "execution_count": 17,
   "id": "4e1d61cd",
   "metadata": {},
   "outputs": [
    {
     "name": "stdout",
     "output_type": "stream",
     "text": [
      "<class 'pandas.core.frame.DataFrame'>\n",
      "Int64Index: 51707 entries, 0 to 1798\n",
      "Data columns (total 21 columns):\n",
      " #   Column                      Non-Null Count  Dtype  \n",
      "---  ------                      --------------  -----  \n",
      " 0   realSum                     51707 non-null  float64\n",
      " 1   room_type                   51707 non-null  object \n",
      " 2   room_shared                 51707 non-null  bool   \n",
      " 3   room_private                51707 non-null  bool   \n",
      " 4   person_capacity             51707 non-null  float64\n",
      " 5   host_is_superhost           51707 non-null  bool   \n",
      " 6   multi                       51707 non-null  int64  \n",
      " 7   biz                         51707 non-null  int64  \n",
      " 8   cleanliness_rating          51707 non-null  float64\n",
      " 9   guest_satisfaction_overall  51707 non-null  float64\n",
      " 10  bedrooms                    51707 non-null  int64  \n",
      " 11  dist                        51707 non-null  float64\n",
      " 12  metro_dist                  51707 non-null  float64\n",
      " 13  attr_index                  51707 non-null  float64\n",
      " 14  attr_index_norm             51707 non-null  float64\n",
      " 15  rest_index                  51707 non-null  float64\n",
      " 16  rest_index_norm             51707 non-null  float64\n",
      " 17  lng                         51707 non-null  float64\n",
      " 18  lat                         51707 non-null  float64\n",
      " 19  city                        51707 non-null  object \n",
      " 20  time_of_week                51707 non-null  object \n",
      "dtypes: bool(3), float64(12), int64(3), object(3)\n",
      "memory usage: 7.6+ MB\n"
     ]
    }
   ],
   "source": [
    "airbnb_df.info()"
   ]
  },
  {
   "cell_type": "markdown",
   "id": "dc046144",
   "metadata": {},
   "source": [
    "- We see that the columns **multi** and **biz** have data type as **int64**, but according to the data dictionary they are supposed to be of type **boolean**.\n",
    "- So we will typecast those column values to **boolean**.\n",
    "- We will do so by defining a function."
   ]
  },
  {
   "cell_type": "code",
   "execution_count": 18,
   "id": "4c944c21",
   "metadata": {},
   "outputs": [],
   "source": [
    "def to_bool(x):\n",
    "    if x == 1:\n",
    "        return True\n",
    "    elif x == 0:\n",
    "        return False    "
   ]
  },
  {
   "cell_type": "code",
   "execution_count": 19,
   "id": "e3e9650c",
   "metadata": {},
   "outputs": [],
   "source": [
    "airbnb_df['multi'] = airbnb_df['multi'].apply(to_bool)"
   ]
  },
  {
   "cell_type": "code",
   "execution_count": 20,
   "id": "91d3d3fb",
   "metadata": {},
   "outputs": [],
   "source": [
    "airbnb_df['biz'] = airbnb_df['biz'].apply(to_bool)"
   ]
  },
  {
   "cell_type": "code",
   "execution_count": 21,
   "id": "b8bcd915",
   "metadata": {},
   "outputs": [
    {
     "name": "stdout",
     "output_type": "stream",
     "text": [
      "<class 'pandas.core.frame.DataFrame'>\n",
      "Int64Index: 51707 entries, 0 to 1798\n",
      "Data columns (total 21 columns):\n",
      " #   Column                      Non-Null Count  Dtype  \n",
      "---  ------                      --------------  -----  \n",
      " 0   realSum                     51707 non-null  float64\n",
      " 1   room_type                   51707 non-null  object \n",
      " 2   room_shared                 51707 non-null  bool   \n",
      " 3   room_private                51707 non-null  bool   \n",
      " 4   person_capacity             51707 non-null  float64\n",
      " 5   host_is_superhost           51707 non-null  bool   \n",
      " 6   multi                       51707 non-null  bool   \n",
      " 7   biz                         51707 non-null  bool   \n",
      " 8   cleanliness_rating          51707 non-null  float64\n",
      " 9   guest_satisfaction_overall  51707 non-null  float64\n",
      " 10  bedrooms                    51707 non-null  int64  \n",
      " 11  dist                        51707 non-null  float64\n",
      " 12  metro_dist                  51707 non-null  float64\n",
      " 13  attr_index                  51707 non-null  float64\n",
      " 14  attr_index_norm             51707 non-null  float64\n",
      " 15  rest_index                  51707 non-null  float64\n",
      " 16  rest_index_norm             51707 non-null  float64\n",
      " 17  lng                         51707 non-null  float64\n",
      " 18  lat                         51707 non-null  float64\n",
      " 19  city                        51707 non-null  object \n",
      " 20  time_of_week                51707 non-null  object \n",
      "dtypes: bool(5), float64(12), int64(1), object(3)\n",
      "memory usage: 7.0+ MB\n"
     ]
    }
   ],
   "source": [
    "airbnb_df.info()"
   ]
  },
  {
   "cell_type": "markdown",
   "id": "d145d43b",
   "metadata": {},
   "source": [
    "- We will also create a new feature called **haversine_distance**, which will be the distance between the airbnb location and **null island (Latitude = 0 and Longitude = 0)**."
   ]
  },
  {
   "cell_type": "markdown",
   "id": "63ec735e",
   "metadata": {},
   "source": [
    "#### Feature Engineering\n",
    "\n",
    "- This feature will combine the two features **lng** and **lat** to create a new feature called **haversine_distance**.\n",
    "- We will do this be defining a function called **haversine_dist**."
   ]
  },
  {
   "cell_type": "code",
   "execution_count": 22,
   "id": "f4d9465a",
   "metadata": {},
   "outputs": [],
   "source": [
    "def haversine_dist(lng, lat):\n",
    "    latitude = np.radians(lat)\n",
    "    longitude = np.radians(lng)\n",
    "\n",
    "    null_isle_latitude = np.radians(0)\n",
    "    null_isle_longitude = np.radians(0)\n",
    "\n",
    "    # apply Haversine formula to compute distance\n",
    "    latitude_distance = null_isle_latitude - latitude\n",
    "    longitude_distance = null_isle_longitude - longitude\n",
    "    a = np.sin(latitude_distance/2)**2 + np.cos(latitude) * np.cos(null_isle_latitude) * np.sin(longitude_distance/2)**2\n",
    "    c = 2 * np.arcsin(np.sqrt(a))\n",
    "    distance = 6371 * c\n",
    "\n",
    "    return distance"
   ]
  },
  {
   "cell_type": "code",
   "execution_count": 23,
   "id": "26be4476",
   "metadata": {},
   "outputs": [],
   "source": [
    "airbnb_df['haversine_dist'] = haversine_dist(airbnb_df['lng'], airbnb_df['lat'])"
   ]
  },
  {
   "cell_type": "code",
   "execution_count": 24,
   "id": "93536bdd",
   "metadata": {},
   "outputs": [
    {
     "data": {
      "text/html": [
       "<div>\n",
       "<style scoped>\n",
       "    .dataframe tbody tr th:only-of-type {\n",
       "        vertical-align: middle;\n",
       "    }\n",
       "\n",
       "    .dataframe tbody tr th {\n",
       "        vertical-align: top;\n",
       "    }\n",
       "\n",
       "    .dataframe thead th {\n",
       "        text-align: right;\n",
       "    }\n",
       "</style>\n",
       "<table border=\"1\" class=\"dataframe\">\n",
       "  <thead>\n",
       "    <tr style=\"text-align: right;\">\n",
       "      <th></th>\n",
       "      <th>realSum</th>\n",
       "      <th>room_type</th>\n",
       "      <th>room_shared</th>\n",
       "      <th>room_private</th>\n",
       "      <th>person_capacity</th>\n",
       "      <th>host_is_superhost</th>\n",
       "      <th>multi</th>\n",
       "      <th>biz</th>\n",
       "      <th>cleanliness_rating</th>\n",
       "      <th>guest_satisfaction_overall</th>\n",
       "      <th>...</th>\n",
       "      <th>metro_dist</th>\n",
       "      <th>attr_index</th>\n",
       "      <th>attr_index_norm</th>\n",
       "      <th>rest_index</th>\n",
       "      <th>rest_index_norm</th>\n",
       "      <th>lng</th>\n",
       "      <th>lat</th>\n",
       "      <th>city</th>\n",
       "      <th>time_of_week</th>\n",
       "      <th>haversine_dist</th>\n",
       "    </tr>\n",
       "  </thead>\n",
       "  <tbody>\n",
       "    <tr>\n",
       "      <th>0</th>\n",
       "      <td>194.033698</td>\n",
       "      <td>Private room</td>\n",
       "      <td>False</td>\n",
       "      <td>True</td>\n",
       "      <td>2.0</td>\n",
       "      <td>False</td>\n",
       "      <td>True</td>\n",
       "      <td>False</td>\n",
       "      <td>10.0</td>\n",
       "      <td>93.0</td>\n",
       "      <td>...</td>\n",
       "      <td>2.539380</td>\n",
       "      <td>78.690379</td>\n",
       "      <td>4.166708</td>\n",
       "      <td>98.253896</td>\n",
       "      <td>6.846473</td>\n",
       "      <td>4.90569</td>\n",
       "      <td>52.41772</td>\n",
       "      <td>amsterdam</td>\n",
       "      <td>weekdays</td>\n",
       "      <td>5846.526443</td>\n",
       "    </tr>\n",
       "    <tr>\n",
       "      <th>1</th>\n",
       "      <td>344.245776</td>\n",
       "      <td>Private room</td>\n",
       "      <td>False</td>\n",
       "      <td>True</td>\n",
       "      <td>4.0</td>\n",
       "      <td>False</td>\n",
       "      <td>False</td>\n",
       "      <td>False</td>\n",
       "      <td>8.0</td>\n",
       "      <td>85.0</td>\n",
       "      <td>...</td>\n",
       "      <td>0.239404</td>\n",
       "      <td>631.176378</td>\n",
       "      <td>33.421209</td>\n",
       "      <td>837.280757</td>\n",
       "      <td>58.342928</td>\n",
       "      <td>4.90005</td>\n",
       "      <td>52.37432</td>\n",
       "      <td>amsterdam</td>\n",
       "      <td>weekdays</td>\n",
       "      <td>5841.687430</td>\n",
       "    </tr>\n",
       "    <tr>\n",
       "      <th>2</th>\n",
       "      <td>264.101422</td>\n",
       "      <td>Private room</td>\n",
       "      <td>False</td>\n",
       "      <td>True</td>\n",
       "      <td>2.0</td>\n",
       "      <td>False</td>\n",
       "      <td>False</td>\n",
       "      <td>True</td>\n",
       "      <td>9.0</td>\n",
       "      <td>87.0</td>\n",
       "      <td>...</td>\n",
       "      <td>3.651621</td>\n",
       "      <td>75.275877</td>\n",
       "      <td>3.985908</td>\n",
       "      <td>95.386955</td>\n",
       "      <td>6.646700</td>\n",
       "      <td>4.97512</td>\n",
       "      <td>52.36103</td>\n",
       "      <td>amsterdam</td>\n",
       "      <td>weekdays</td>\n",
       "      <td>5840.771088</td>\n",
       "    </tr>\n",
       "    <tr>\n",
       "      <th>3</th>\n",
       "      <td>433.529398</td>\n",
       "      <td>Private room</td>\n",
       "      <td>False</td>\n",
       "      <td>True</td>\n",
       "      <td>4.0</td>\n",
       "      <td>False</td>\n",
       "      <td>False</td>\n",
       "      <td>True</td>\n",
       "      <td>9.0</td>\n",
       "      <td>90.0</td>\n",
       "      <td>...</td>\n",
       "      <td>0.439876</td>\n",
       "      <td>493.272534</td>\n",
       "      <td>26.119108</td>\n",
       "      <td>875.033098</td>\n",
       "      <td>60.973565</td>\n",
       "      <td>4.89417</td>\n",
       "      <td>52.37663</td>\n",
       "      <td>amsterdam</td>\n",
       "      <td>weekdays</td>\n",
       "      <td>5841.899872</td>\n",
       "    </tr>\n",
       "    <tr>\n",
       "      <th>4</th>\n",
       "      <td>485.552926</td>\n",
       "      <td>Private room</td>\n",
       "      <td>False</td>\n",
       "      <td>True</td>\n",
       "      <td>2.0</td>\n",
       "      <td>True</td>\n",
       "      <td>False</td>\n",
       "      <td>False</td>\n",
       "      <td>10.0</td>\n",
       "      <td>98.0</td>\n",
       "      <td>...</td>\n",
       "      <td>0.318693</td>\n",
       "      <td>552.830324</td>\n",
       "      <td>29.272733</td>\n",
       "      <td>815.305740</td>\n",
       "      <td>56.811677</td>\n",
       "      <td>4.90051</td>\n",
       "      <td>52.37508</td>\n",
       "      <td>amsterdam</td>\n",
       "      <td>weekdays</td>\n",
       "      <td>5841.774808</td>\n",
       "    </tr>\n",
       "    <tr>\n",
       "      <th>...</th>\n",
       "      <td>...</td>\n",
       "      <td>...</td>\n",
       "      <td>...</td>\n",
       "      <td>...</td>\n",
       "      <td>...</td>\n",
       "      <td>...</td>\n",
       "      <td>...</td>\n",
       "      <td>...</td>\n",
       "      <td>...</td>\n",
       "      <td>...</td>\n",
       "      <td>...</td>\n",
       "      <td>...</td>\n",
       "      <td>...</td>\n",
       "      <td>...</td>\n",
       "      <td>...</td>\n",
       "      <td>...</td>\n",
       "      <td>...</td>\n",
       "      <td>...</td>\n",
       "      <td>...</td>\n",
       "      <td>...</td>\n",
       "      <td>...</td>\n",
       "    </tr>\n",
       "    <tr>\n",
       "      <th>1794</th>\n",
       "      <td>715.938574</td>\n",
       "      <td>Entire home/apt</td>\n",
       "      <td>False</td>\n",
       "      <td>False</td>\n",
       "      <td>6.0</td>\n",
       "      <td>False</td>\n",
       "      <td>False</td>\n",
       "      <td>True</td>\n",
       "      <td>10.0</td>\n",
       "      <td>100.0</td>\n",
       "      <td>...</td>\n",
       "      <td>0.135447</td>\n",
       "      <td>219.402478</td>\n",
       "      <td>15.712158</td>\n",
       "      <td>438.756874</td>\n",
       "      <td>10.604584</td>\n",
       "      <td>16.37940</td>\n",
       "      <td>48.21136</td>\n",
       "      <td>vienna</td>\n",
       "      <td>weekends</td>\n",
       "      <td>5588.367767</td>\n",
       "    </tr>\n",
       "    <tr>\n",
       "      <th>1795</th>\n",
       "      <td>304.793960</td>\n",
       "      <td>Entire home/apt</td>\n",
       "      <td>False</td>\n",
       "      <td>False</td>\n",
       "      <td>2.0</td>\n",
       "      <td>False</td>\n",
       "      <td>False</td>\n",
       "      <td>False</td>\n",
       "      <td>8.0</td>\n",
       "      <td>86.0</td>\n",
       "      <td>...</td>\n",
       "      <td>0.100839</td>\n",
       "      <td>204.970121</td>\n",
       "      <td>14.678608</td>\n",
       "      <td>342.182813</td>\n",
       "      <td>8.270427</td>\n",
       "      <td>16.38070</td>\n",
       "      <td>48.20296</td>\n",
       "      <td>vienna</td>\n",
       "      <td>weekends</td>\n",
       "      <td>5587.534157</td>\n",
       "    </tr>\n",
       "    <tr>\n",
       "      <th>1796</th>\n",
       "      <td>637.168969</td>\n",
       "      <td>Entire home/apt</td>\n",
       "      <td>False</td>\n",
       "      <td>False</td>\n",
       "      <td>2.0</td>\n",
       "      <td>False</td>\n",
       "      <td>False</td>\n",
       "      <td>False</td>\n",
       "      <td>10.0</td>\n",
       "      <td>93.0</td>\n",
       "      <td>...</td>\n",
       "      <td>0.202539</td>\n",
       "      <td>169.073402</td>\n",
       "      <td>12.107921</td>\n",
       "      <td>282.296424</td>\n",
       "      <td>6.822996</td>\n",
       "      <td>16.38568</td>\n",
       "      <td>48.20460</td>\n",
       "      <td>vienna</td>\n",
       "      <td>weekends</td>\n",
       "      <td>5587.839197</td>\n",
       "    </tr>\n",
       "    <tr>\n",
       "      <th>1797</th>\n",
       "      <td>301.054157</td>\n",
       "      <td>Private room</td>\n",
       "      <td>False</td>\n",
       "      <td>True</td>\n",
       "      <td>2.0</td>\n",
       "      <td>False</td>\n",
       "      <td>False</td>\n",
       "      <td>False</td>\n",
       "      <td>10.0</td>\n",
       "      <td>87.0</td>\n",
       "      <td>...</td>\n",
       "      <td>0.287435</td>\n",
       "      <td>109.236574</td>\n",
       "      <td>7.822803</td>\n",
       "      <td>158.563398</td>\n",
       "      <td>3.832416</td>\n",
       "      <td>16.34100</td>\n",
       "      <td>48.19200</td>\n",
       "      <td>vienna</td>\n",
       "      <td>weekends</td>\n",
       "      <td>5585.322001</td>\n",
       "    </tr>\n",
       "    <tr>\n",
       "      <th>1798</th>\n",
       "      <td>133.230489</td>\n",
       "      <td>Private room</td>\n",
       "      <td>False</td>\n",
       "      <td>True</td>\n",
       "      <td>4.0</td>\n",
       "      <td>True</td>\n",
       "      <td>True</td>\n",
       "      <td>False</td>\n",
       "      <td>10.0</td>\n",
       "      <td>93.0</td>\n",
       "      <td>...</td>\n",
       "      <td>0.480903</td>\n",
       "      <td>150.450381</td>\n",
       "      <td>10.774264</td>\n",
       "      <td>225.247293</td>\n",
       "      <td>5.444140</td>\n",
       "      <td>16.39066</td>\n",
       "      <td>48.20811</td>\n",
       "      <td>vienna</td>\n",
       "      <td>weekends</td>\n",
       "      <td>5588.337685</td>\n",
       "    </tr>\n",
       "  </tbody>\n",
       "</table>\n",
       "<p>51707 rows × 22 columns</p>\n",
       "</div>"
      ],
      "text/plain": [
       "         realSum        room_type  room_shared  room_private  person_capacity  \\\n",
       "0     194.033698     Private room        False          True              2.0   \n",
       "1     344.245776     Private room        False          True              4.0   \n",
       "2     264.101422     Private room        False          True              2.0   \n",
       "3     433.529398     Private room        False          True              4.0   \n",
       "4     485.552926     Private room        False          True              2.0   \n",
       "...          ...              ...          ...           ...              ...   \n",
       "1794  715.938574  Entire home/apt        False         False              6.0   \n",
       "1795  304.793960  Entire home/apt        False         False              2.0   \n",
       "1796  637.168969  Entire home/apt        False         False              2.0   \n",
       "1797  301.054157     Private room        False          True              2.0   \n",
       "1798  133.230489     Private room        False          True              4.0   \n",
       "\n",
       "      host_is_superhost  multi    biz  cleanliness_rating  \\\n",
       "0                 False   True  False                10.0   \n",
       "1                 False  False  False                 8.0   \n",
       "2                 False  False   True                 9.0   \n",
       "3                 False  False   True                 9.0   \n",
       "4                  True  False  False                10.0   \n",
       "...                 ...    ...    ...                 ...   \n",
       "1794              False  False   True                10.0   \n",
       "1795              False  False  False                 8.0   \n",
       "1796              False  False  False                10.0   \n",
       "1797              False  False  False                10.0   \n",
       "1798               True   True  False                10.0   \n",
       "\n",
       "      guest_satisfaction_overall  ...  metro_dist  attr_index  \\\n",
       "0                           93.0  ...    2.539380   78.690379   \n",
       "1                           85.0  ...    0.239404  631.176378   \n",
       "2                           87.0  ...    3.651621   75.275877   \n",
       "3                           90.0  ...    0.439876  493.272534   \n",
       "4                           98.0  ...    0.318693  552.830324   \n",
       "...                          ...  ...         ...         ...   \n",
       "1794                       100.0  ...    0.135447  219.402478   \n",
       "1795                        86.0  ...    0.100839  204.970121   \n",
       "1796                        93.0  ...    0.202539  169.073402   \n",
       "1797                        87.0  ...    0.287435  109.236574   \n",
       "1798                        93.0  ...    0.480903  150.450381   \n",
       "\n",
       "      attr_index_norm  rest_index  rest_index_norm       lng       lat  \\\n",
       "0            4.166708   98.253896         6.846473   4.90569  52.41772   \n",
       "1           33.421209  837.280757        58.342928   4.90005  52.37432   \n",
       "2            3.985908   95.386955         6.646700   4.97512  52.36103   \n",
       "3           26.119108  875.033098        60.973565   4.89417  52.37663   \n",
       "4           29.272733  815.305740        56.811677   4.90051  52.37508   \n",
       "...               ...         ...              ...       ...       ...   \n",
       "1794        15.712158  438.756874        10.604584  16.37940  48.21136   \n",
       "1795        14.678608  342.182813         8.270427  16.38070  48.20296   \n",
       "1796        12.107921  282.296424         6.822996  16.38568  48.20460   \n",
       "1797         7.822803  158.563398         3.832416  16.34100  48.19200   \n",
       "1798        10.774264  225.247293         5.444140  16.39066  48.20811   \n",
       "\n",
       "           city  time_of_week haversine_dist  \n",
       "0     amsterdam      weekdays    5846.526443  \n",
       "1     amsterdam      weekdays    5841.687430  \n",
       "2     amsterdam      weekdays    5840.771088  \n",
       "3     amsterdam      weekdays    5841.899872  \n",
       "4     amsterdam      weekdays    5841.774808  \n",
       "...         ...           ...            ...  \n",
       "1794     vienna      weekends    5588.367767  \n",
       "1795     vienna      weekends    5587.534157  \n",
       "1796     vienna      weekends    5587.839197  \n",
       "1797     vienna      weekends    5585.322001  \n",
       "1798     vienna      weekends    5588.337685  \n",
       "\n",
       "[51707 rows x 22 columns]"
      ]
     },
     "execution_count": 24,
     "metadata": {},
     "output_type": "execute_result"
    }
   ],
   "source": [
    "airbnb_df"
   ]
  },
  {
   "cell_type": "markdown",
   "id": "4f604132",
   "metadata": {},
   "source": [
    "- We will drop **attr_index**, **attr_index_norm**, **rest_index**, and **rest_index_norm** columns because there is no documentation for them. Hence they won't be a part of this analysis.\n",
    "- We will also drop the columns **lng** and **lat**"
   ]
  },
  {
   "cell_type": "code",
   "execution_count": 25,
   "id": "4e03e70c",
   "metadata": {},
   "outputs": [],
   "source": [
    "airbnb_df.drop(labels=['attr_index', 'attr_index_norm', 'rest_index', 'rest_index_norm', 'lng', 'lat'], axis = 1, inplace=True)"
   ]
  },
  {
   "cell_type": "code",
   "execution_count": 26,
   "id": "6b0f088b",
   "metadata": {},
   "outputs": [
    {
     "data": {
      "text/html": [
       "<div>\n",
       "<style scoped>\n",
       "    .dataframe tbody tr th:only-of-type {\n",
       "        vertical-align: middle;\n",
       "    }\n",
       "\n",
       "    .dataframe tbody tr th {\n",
       "        vertical-align: top;\n",
       "    }\n",
       "\n",
       "    .dataframe thead th {\n",
       "        text-align: right;\n",
       "    }\n",
       "</style>\n",
       "<table border=\"1\" class=\"dataframe\">\n",
       "  <thead>\n",
       "    <tr style=\"text-align: right;\">\n",
       "      <th></th>\n",
       "      <th>realSum</th>\n",
       "      <th>room_type</th>\n",
       "      <th>room_shared</th>\n",
       "      <th>room_private</th>\n",
       "      <th>person_capacity</th>\n",
       "      <th>host_is_superhost</th>\n",
       "      <th>multi</th>\n",
       "      <th>biz</th>\n",
       "      <th>cleanliness_rating</th>\n",
       "      <th>guest_satisfaction_overall</th>\n",
       "      <th>bedrooms</th>\n",
       "      <th>dist</th>\n",
       "      <th>metro_dist</th>\n",
       "      <th>city</th>\n",
       "      <th>time_of_week</th>\n",
       "      <th>haversine_dist</th>\n",
       "    </tr>\n",
       "  </thead>\n",
       "  <tbody>\n",
       "    <tr>\n",
       "      <th>0</th>\n",
       "      <td>194.033698</td>\n",
       "      <td>Private room</td>\n",
       "      <td>False</td>\n",
       "      <td>True</td>\n",
       "      <td>2.0</td>\n",
       "      <td>False</td>\n",
       "      <td>True</td>\n",
       "      <td>False</td>\n",
       "      <td>10.0</td>\n",
       "      <td>93.0</td>\n",
       "      <td>1</td>\n",
       "      <td>5.022964</td>\n",
       "      <td>2.539380</td>\n",
       "      <td>amsterdam</td>\n",
       "      <td>weekdays</td>\n",
       "      <td>5846.526443</td>\n",
       "    </tr>\n",
       "    <tr>\n",
       "      <th>1</th>\n",
       "      <td>344.245776</td>\n",
       "      <td>Private room</td>\n",
       "      <td>False</td>\n",
       "      <td>True</td>\n",
       "      <td>4.0</td>\n",
       "      <td>False</td>\n",
       "      <td>False</td>\n",
       "      <td>False</td>\n",
       "      <td>8.0</td>\n",
       "      <td>85.0</td>\n",
       "      <td>1</td>\n",
       "      <td>0.488389</td>\n",
       "      <td>0.239404</td>\n",
       "      <td>amsterdam</td>\n",
       "      <td>weekdays</td>\n",
       "      <td>5841.687430</td>\n",
       "    </tr>\n",
       "    <tr>\n",
       "      <th>2</th>\n",
       "      <td>264.101422</td>\n",
       "      <td>Private room</td>\n",
       "      <td>False</td>\n",
       "      <td>True</td>\n",
       "      <td>2.0</td>\n",
       "      <td>False</td>\n",
       "      <td>False</td>\n",
       "      <td>True</td>\n",
       "      <td>9.0</td>\n",
       "      <td>87.0</td>\n",
       "      <td>1</td>\n",
       "      <td>5.748312</td>\n",
       "      <td>3.651621</td>\n",
       "      <td>amsterdam</td>\n",
       "      <td>weekdays</td>\n",
       "      <td>5840.771088</td>\n",
       "    </tr>\n",
       "    <tr>\n",
       "      <th>3</th>\n",
       "      <td>433.529398</td>\n",
       "      <td>Private room</td>\n",
       "      <td>False</td>\n",
       "      <td>True</td>\n",
       "      <td>4.0</td>\n",
       "      <td>False</td>\n",
       "      <td>False</td>\n",
       "      <td>True</td>\n",
       "      <td>9.0</td>\n",
       "      <td>90.0</td>\n",
       "      <td>2</td>\n",
       "      <td>0.384862</td>\n",
       "      <td>0.439876</td>\n",
       "      <td>amsterdam</td>\n",
       "      <td>weekdays</td>\n",
       "      <td>5841.899872</td>\n",
       "    </tr>\n",
       "    <tr>\n",
       "      <th>4</th>\n",
       "      <td>485.552926</td>\n",
       "      <td>Private room</td>\n",
       "      <td>False</td>\n",
       "      <td>True</td>\n",
       "      <td>2.0</td>\n",
       "      <td>True</td>\n",
       "      <td>False</td>\n",
       "      <td>False</td>\n",
       "      <td>10.0</td>\n",
       "      <td>98.0</td>\n",
       "      <td>1</td>\n",
       "      <td>0.544738</td>\n",
       "      <td>0.318693</td>\n",
       "      <td>amsterdam</td>\n",
       "      <td>weekdays</td>\n",
       "      <td>5841.774808</td>\n",
       "    </tr>\n",
       "    <tr>\n",
       "      <th>...</th>\n",
       "      <td>...</td>\n",
       "      <td>...</td>\n",
       "      <td>...</td>\n",
       "      <td>...</td>\n",
       "      <td>...</td>\n",
       "      <td>...</td>\n",
       "      <td>...</td>\n",
       "      <td>...</td>\n",
       "      <td>...</td>\n",
       "      <td>...</td>\n",
       "      <td>...</td>\n",
       "      <td>...</td>\n",
       "      <td>...</td>\n",
       "      <td>...</td>\n",
       "      <td>...</td>\n",
       "      <td>...</td>\n",
       "    </tr>\n",
       "    <tr>\n",
       "      <th>1794</th>\n",
       "      <td>715.938574</td>\n",
       "      <td>Entire home/apt</td>\n",
       "      <td>False</td>\n",
       "      <td>False</td>\n",
       "      <td>6.0</td>\n",
       "      <td>False</td>\n",
       "      <td>False</td>\n",
       "      <td>True</td>\n",
       "      <td>10.0</td>\n",
       "      <td>100.0</td>\n",
       "      <td>3</td>\n",
       "      <td>0.530181</td>\n",
       "      <td>0.135447</td>\n",
       "      <td>vienna</td>\n",
       "      <td>weekends</td>\n",
       "      <td>5588.367767</td>\n",
       "    </tr>\n",
       "    <tr>\n",
       "      <th>1795</th>\n",
       "      <td>304.793960</td>\n",
       "      <td>Entire home/apt</td>\n",
       "      <td>False</td>\n",
       "      <td>False</td>\n",
       "      <td>2.0</td>\n",
       "      <td>False</td>\n",
       "      <td>False</td>\n",
       "      <td>False</td>\n",
       "      <td>8.0</td>\n",
       "      <td>86.0</td>\n",
       "      <td>1</td>\n",
       "      <td>0.810205</td>\n",
       "      <td>0.100839</td>\n",
       "      <td>vienna</td>\n",
       "      <td>weekends</td>\n",
       "      <td>5587.534157</td>\n",
       "    </tr>\n",
       "    <tr>\n",
       "      <th>1796</th>\n",
       "      <td>637.168969</td>\n",
       "      <td>Entire home/apt</td>\n",
       "      <td>False</td>\n",
       "      <td>False</td>\n",
       "      <td>2.0</td>\n",
       "      <td>False</td>\n",
       "      <td>False</td>\n",
       "      <td>False</td>\n",
       "      <td>10.0</td>\n",
       "      <td>93.0</td>\n",
       "      <td>1</td>\n",
       "      <td>0.994051</td>\n",
       "      <td>0.202539</td>\n",
       "      <td>vienna</td>\n",
       "      <td>weekends</td>\n",
       "      <td>5587.839197</td>\n",
       "    </tr>\n",
       "    <tr>\n",
       "      <th>1797</th>\n",
       "      <td>301.054157</td>\n",
       "      <td>Private room</td>\n",
       "      <td>False</td>\n",
       "      <td>True</td>\n",
       "      <td>2.0</td>\n",
       "      <td>False</td>\n",
       "      <td>False</td>\n",
       "      <td>False</td>\n",
       "      <td>10.0</td>\n",
       "      <td>87.0</td>\n",
       "      <td>1</td>\n",
       "      <td>3.044100</td>\n",
       "      <td>0.287435</td>\n",
       "      <td>vienna</td>\n",
       "      <td>weekends</td>\n",
       "      <td>5585.322001</td>\n",
       "    </tr>\n",
       "    <tr>\n",
       "      <th>1798</th>\n",
       "      <td>133.230489</td>\n",
       "      <td>Private room</td>\n",
       "      <td>False</td>\n",
       "      <td>True</td>\n",
       "      <td>4.0</td>\n",
       "      <td>True</td>\n",
       "      <td>True</td>\n",
       "      <td>False</td>\n",
       "      <td>10.0</td>\n",
       "      <td>93.0</td>\n",
       "      <td>1</td>\n",
       "      <td>1.263932</td>\n",
       "      <td>0.480903</td>\n",
       "      <td>vienna</td>\n",
       "      <td>weekends</td>\n",
       "      <td>5588.337685</td>\n",
       "    </tr>\n",
       "  </tbody>\n",
       "</table>\n",
       "<p>51707 rows × 16 columns</p>\n",
       "</div>"
      ],
      "text/plain": [
       "         realSum        room_type  room_shared  room_private  person_capacity  \\\n",
       "0     194.033698     Private room        False          True              2.0   \n",
       "1     344.245776     Private room        False          True              4.0   \n",
       "2     264.101422     Private room        False          True              2.0   \n",
       "3     433.529398     Private room        False          True              4.0   \n",
       "4     485.552926     Private room        False          True              2.0   \n",
       "...          ...              ...          ...           ...              ...   \n",
       "1794  715.938574  Entire home/apt        False         False              6.0   \n",
       "1795  304.793960  Entire home/apt        False         False              2.0   \n",
       "1796  637.168969  Entire home/apt        False         False              2.0   \n",
       "1797  301.054157     Private room        False          True              2.0   \n",
       "1798  133.230489     Private room        False          True              4.0   \n",
       "\n",
       "      host_is_superhost  multi    biz  cleanliness_rating  \\\n",
       "0                 False   True  False                10.0   \n",
       "1                 False  False  False                 8.0   \n",
       "2                 False  False   True                 9.0   \n",
       "3                 False  False   True                 9.0   \n",
       "4                  True  False  False                10.0   \n",
       "...                 ...    ...    ...                 ...   \n",
       "1794              False  False   True                10.0   \n",
       "1795              False  False  False                 8.0   \n",
       "1796              False  False  False                10.0   \n",
       "1797              False  False  False                10.0   \n",
       "1798               True   True  False                10.0   \n",
       "\n",
       "      guest_satisfaction_overall  bedrooms      dist  metro_dist       city  \\\n",
       "0                           93.0         1  5.022964    2.539380  amsterdam   \n",
       "1                           85.0         1  0.488389    0.239404  amsterdam   \n",
       "2                           87.0         1  5.748312    3.651621  amsterdam   \n",
       "3                           90.0         2  0.384862    0.439876  amsterdam   \n",
       "4                           98.0         1  0.544738    0.318693  amsterdam   \n",
       "...                          ...       ...       ...         ...        ...   \n",
       "1794                       100.0         3  0.530181    0.135447     vienna   \n",
       "1795                        86.0         1  0.810205    0.100839     vienna   \n",
       "1796                        93.0         1  0.994051    0.202539     vienna   \n",
       "1797                        87.0         1  3.044100    0.287435     vienna   \n",
       "1798                        93.0         1  1.263932    0.480903     vienna   \n",
       "\n",
       "     time_of_week  haversine_dist  \n",
       "0        weekdays     5846.526443  \n",
       "1        weekdays     5841.687430  \n",
       "2        weekdays     5840.771088  \n",
       "3        weekdays     5841.899872  \n",
       "4        weekdays     5841.774808  \n",
       "...           ...             ...  \n",
       "1794     weekends     5588.367767  \n",
       "1795     weekends     5587.534157  \n",
       "1796     weekends     5587.839197  \n",
       "1797     weekends     5585.322001  \n",
       "1798     weekends     5588.337685  \n",
       "\n",
       "[51707 rows x 16 columns]"
      ]
     },
     "execution_count": 26,
     "metadata": {},
     "output_type": "execute_result"
    }
   ],
   "source": [
    "airbnb_df"
   ]
  },
  {
   "cell_type": "markdown",
   "id": "dba5bd3f",
   "metadata": {},
   "source": [
    "<a name=Section5></a>\n",
    "### **5. Exploratory Data Analysis (EDA)**"
   ]
  },
  {
   "cell_type": "code",
   "execution_count": 27,
   "id": "e541876c",
   "metadata": {},
   "outputs": [
    {
     "name": "stdout",
     "output_type": "stream",
     "text": [
      "<class 'pandas.core.frame.DataFrame'>\n",
      "Int64Index: 51707 entries, 0 to 1798\n",
      "Data columns (total 16 columns):\n",
      " #   Column                      Non-Null Count  Dtype  \n",
      "---  ------                      --------------  -----  \n",
      " 0   realSum                     51707 non-null  float64\n",
      " 1   room_type                   51707 non-null  object \n",
      " 2   room_shared                 51707 non-null  bool   \n",
      " 3   room_private                51707 non-null  bool   \n",
      " 4   person_capacity             51707 non-null  float64\n",
      " 5   host_is_superhost           51707 non-null  bool   \n",
      " 6   multi                       51707 non-null  bool   \n",
      " 7   biz                         51707 non-null  bool   \n",
      " 8   cleanliness_rating          51707 non-null  float64\n",
      " 9   guest_satisfaction_overall  51707 non-null  float64\n",
      " 10  bedrooms                    51707 non-null  int64  \n",
      " 11  dist                        51707 non-null  float64\n",
      " 12  metro_dist                  51707 non-null  float64\n",
      " 13  city                        51707 non-null  object \n",
      " 14  time_of_week                51707 non-null  object \n",
      " 15  haversine_dist              51707 non-null  float64\n",
      "dtypes: bool(5), float64(7), int64(1), object(3)\n",
      "memory usage: 5.0+ MB\n"
     ]
    }
   ],
   "source": [
    "airbnb_df.info()"
   ]
  },
  {
   "cell_type": "code",
   "execution_count": 28,
   "id": "fd8b401f",
   "metadata": {
    "scrolled": true
   },
   "outputs": [
    {
     "data": {
      "text/html": [
       "<div>\n",
       "<style scoped>\n",
       "    .dataframe tbody tr th:only-of-type {\n",
       "        vertical-align: middle;\n",
       "    }\n",
       "\n",
       "    .dataframe tbody tr th {\n",
       "        vertical-align: top;\n",
       "    }\n",
       "\n",
       "    .dataframe thead th {\n",
       "        text-align: right;\n",
       "    }\n",
       "</style>\n",
       "<table border=\"1\" class=\"dataframe\">\n",
       "  <thead>\n",
       "    <tr style=\"text-align: right;\">\n",
       "      <th></th>\n",
       "      <th>realSum</th>\n",
       "      <th>person_capacity</th>\n",
       "      <th>cleanliness_rating</th>\n",
       "      <th>guest_satisfaction_overall</th>\n",
       "      <th>bedrooms</th>\n",
       "      <th>dist</th>\n",
       "      <th>metro_dist</th>\n",
       "      <th>haversine_dist</th>\n",
       "    </tr>\n",
       "  </thead>\n",
       "  <tbody>\n",
       "    <tr>\n",
       "      <th>count</th>\n",
       "      <td>51707.000000</td>\n",
       "      <td>51707.000000</td>\n",
       "      <td>51707.000000</td>\n",
       "      <td>51707.000000</td>\n",
       "      <td>51707.00000</td>\n",
       "      <td>51707.000000</td>\n",
       "      <td>51707.000000</td>\n",
       "      <td>51707.000000</td>\n",
       "    </tr>\n",
       "    <tr>\n",
       "      <th>mean</th>\n",
       "      <td>279.879591</td>\n",
       "      <td>3.161661</td>\n",
       "      <td>9.390624</td>\n",
       "      <td>92.628232</td>\n",
       "      <td>1.15876</td>\n",
       "      <td>3.191285</td>\n",
       "      <td>0.681540</td>\n",
       "      <td>5232.551067</td>\n",
       "    </tr>\n",
       "    <tr>\n",
       "      <th>std</th>\n",
       "      <td>327.948386</td>\n",
       "      <td>1.298545</td>\n",
       "      <td>0.954868</td>\n",
       "      <td>8.945531</td>\n",
       "      <td>0.62741</td>\n",
       "      <td>2.393803</td>\n",
       "      <td>0.858023</td>\n",
       "      <td>502.538886</td>\n",
       "    </tr>\n",
       "    <tr>\n",
       "      <th>min</th>\n",
       "      <td>34.779339</td>\n",
       "      <td>2.000000</td>\n",
       "      <td>2.000000</td>\n",
       "      <td>20.000000</td>\n",
       "      <td>0.00000</td>\n",
       "      <td>0.015045</td>\n",
       "      <td>0.002301</td>\n",
       "      <td>4403.930884</td>\n",
       "    </tr>\n",
       "    <tr>\n",
       "      <th>25%</th>\n",
       "      <td>148.752174</td>\n",
       "      <td>2.000000</td>\n",
       "      <td>9.000000</td>\n",
       "      <td>90.000000</td>\n",
       "      <td>1.00000</td>\n",
       "      <td>1.453142</td>\n",
       "      <td>0.248480</td>\n",
       "      <td>4824.169685</td>\n",
       "    </tr>\n",
       "    <tr>\n",
       "      <th>50%</th>\n",
       "      <td>211.343089</td>\n",
       "      <td>3.000000</td>\n",
       "      <td>10.000000</td>\n",
       "      <td>95.000000</td>\n",
       "      <td>1.00000</td>\n",
       "      <td>2.613538</td>\n",
       "      <td>0.413269</td>\n",
       "      <td>5438.056000</td>\n",
       "    </tr>\n",
       "    <tr>\n",
       "      <th>75%</th>\n",
       "      <td>319.694287</td>\n",
       "      <td>4.000000</td>\n",
       "      <td>10.000000</td>\n",
       "      <td>99.000000</td>\n",
       "      <td>1.00000</td>\n",
       "      <td>4.263077</td>\n",
       "      <td>0.737840</td>\n",
       "      <td>5723.428514</td>\n",
       "    </tr>\n",
       "    <tr>\n",
       "      <th>max</th>\n",
       "      <td>18545.450285</td>\n",
       "      <td>6.000000</td>\n",
       "      <td>10.000000</td>\n",
       "      <td>100.000000</td>\n",
       "      <td>10.00000</td>\n",
       "      <td>25.284557</td>\n",
       "      <td>14.273577</td>\n",
       "      <td>5986.011937</td>\n",
       "    </tr>\n",
       "  </tbody>\n",
       "</table>\n",
       "</div>"
      ],
      "text/plain": [
       "            realSum  person_capacity  cleanliness_rating  \\\n",
       "count  51707.000000     51707.000000        51707.000000   \n",
       "mean     279.879591         3.161661            9.390624   \n",
       "std      327.948386         1.298545            0.954868   \n",
       "min       34.779339         2.000000            2.000000   \n",
       "25%      148.752174         2.000000            9.000000   \n",
       "50%      211.343089         3.000000           10.000000   \n",
       "75%      319.694287         4.000000           10.000000   \n",
       "max    18545.450285         6.000000           10.000000   \n",
       "\n",
       "       guest_satisfaction_overall     bedrooms          dist    metro_dist  \\\n",
       "count                51707.000000  51707.00000  51707.000000  51707.000000   \n",
       "mean                    92.628232      1.15876      3.191285      0.681540   \n",
       "std                      8.945531      0.62741      2.393803      0.858023   \n",
       "min                     20.000000      0.00000      0.015045      0.002301   \n",
       "25%                     90.000000      1.00000      1.453142      0.248480   \n",
       "50%                     95.000000      1.00000      2.613538      0.413269   \n",
       "75%                     99.000000      1.00000      4.263077      0.737840   \n",
       "max                    100.000000     10.00000     25.284557     14.273577   \n",
       "\n",
       "       haversine_dist  \n",
       "count    51707.000000  \n",
       "mean      5232.551067  \n",
       "std        502.538886  \n",
       "min       4403.930884  \n",
       "25%       4824.169685  \n",
       "50%       5438.056000  \n",
       "75%       5723.428514  \n",
       "max       5986.011937  "
      ]
     },
     "execution_count": 28,
     "metadata": {},
     "output_type": "execute_result"
    }
   ],
   "source": [
    "airbnb_df.describe()"
   ]
  },
  {
   "cell_type": "markdown",
   "id": "64212859",
   "metadata": {},
   "source": [
    "- We can see that for the column **realSum** there is a considerable difference between the mean and median, suggesting a skew.\n",
    "- Let's verify the same using a histplot."
   ]
  },
  {
   "cell_type": "code",
   "execution_count": 29,
   "id": "29b806b9",
   "metadata": {
    "scrolled": false
   },
   "outputs": [
    {
     "data": {
      "image/png": "[encoded data removed]",
      "text/plain": [
       "<Figure size 1500x700 with 1 Axes>"
      ]
     },
     "metadata": {},
     "output_type": "display_data"
    }
   ],
   "source": [
    "paper = plt.figure(figsize=[15,7])\n",
    "sns.histplot(data = airbnb_df, x = 'realSum')\n",
    "plt.show()"
   ]
  },
  {
   "cell_type": "markdown",
   "id": "d5f9b7fb",
   "metadata": {},
   "source": [
    "- We see that the column **realSum** is indeed highly skewed.\n",
    "- Let's verify if the distribution improves if we take a log transform."
   ]
  },
  {
   "cell_type": "code",
   "execution_count": 30,
   "id": "1d309219",
   "metadata": {},
   "outputs": [
    {
     "data": {
      "image/png": "[encoded data removed]",
      "text/plain": [
       "<Figure size 1500x700 with 1 Axes>"
      ]
     },
     "metadata": {},
     "output_type": "display_data"
    }
   ],
   "source": [
    "paper = plt.figure(figsize=[15,7])\n",
    "sns.histplot(data = airbnb_df, x = np.log1p(airbnb_df['realSum']))\n",
    "plt.show()"
   ]
  },
  {
   "cell_type": "markdown",
   "id": "e71e8aa4",
   "metadata": {},
   "source": [
    "- We see that after taking the **Log Transform** the distribution has greatly improved.\n",
    "- For further analysis we will consider the transformed values of the data."
   ]
  },
  {
   "cell_type": "markdown",
   "id": "d4ddf175",
   "metadata": {},
   "source": [
    "#### Q1. Effect of the type of room (room_type) on the Airbnb prices (realSum)."
   ]
  },
  {
   "cell_type": "code",
   "execution_count": 31,
   "id": "7357693e",
   "metadata": {},
   "outputs": [
    {
     "data": {
      "image/png": "[encoded data removed]",
      "text/plain": [
       "<Figure size 1000x1000 with 1 Axes>"
      ]
     },
     "metadata": {},
     "output_type": "display_data"
    }
   ],
   "source": [
    "paper = plt.figure(figsize=[10,10])\n",
    "sns.boxplot(data = airbnb_df, x = 'room_type', y = np.log1p(airbnb_df['realSum']))\n",
    "plt.show()"
   ]
  },
  {
   "cell_type": "markdown",
   "id": "69d35f5f",
   "metadata": {},
   "source": [
    "- We see that the median prices for **Entire home/apt** is higher as compared to **Private rooms** and **Shared rooms**.\n",
    "- **Private rooms** are more expensive than **Shared rooms**."
   ]
  },
  {
   "cell_type": "markdown",
   "id": "b6f71d1f",
   "metadata": {},
   "source": [
    "#### Q2. Whether the host being a Super host increases the prices of the Airbnb."
   ]
  },
  {
   "cell_type": "code",
   "execution_count": 32,
   "id": "728f3513",
   "metadata": {},
   "outputs": [
    {
     "data": {
      "image/png": "[encoded data removed]",
      "text/plain": [
       "<Figure size 1000x1000 with 1 Axes>"
      ]
     },
     "metadata": {},
     "output_type": "display_data"
    }
   ],
   "source": [
    "paper = plt.figure(figsize=[10,10])\n",
    "sns.boxplot(data = airbnb_df, x = 'host_is_superhost', y = np.log1p(airbnb_df['realSum']))\n",
    "plt.show()"
   ]
  },
  {
   "cell_type": "markdown",
   "id": "2ee66ed4",
   "metadata": {},
   "source": [
    "- We see that the median prices for Airbnb's hosted by Super hosts is less as compared to the Airbnb's not hosted by super hosts. \n",
    "- This suggests that the host being a Super host doesn't necessarily guarantee that the prices will increase."
   ]
  },
  {
   "cell_type": "markdown",
   "id": "d8fe0114",
   "metadata": {},
   "source": [
    "#### Q3. How the prices vary across major European cities."
   ]
  },
  {
   "cell_type": "code",
   "execution_count": 33,
   "id": "0eb8fd84",
   "metadata": {
    "scrolled": false
   },
   "outputs": [
    {
     "data": {
      "image/png": "[encoded data removed]",
      "text/plain": [
       "<Figure size 1500x700 with 1 Axes>"
      ]
     },
     "metadata": {},
     "output_type": "display_data"
    }
   ],
   "source": [
    "paper = plt.figure(figsize=[15,7])\n",
    "sns.boxplot(data = airbnb_df, x = 'city', y = np.log1p(airbnb_df['realSum']))\n",
    "plt.show()"
   ]
  },
  {
   "cell_type": "markdown",
   "id": "47558814",
   "metadata": {},
   "source": [
    "- We see that out of all the European cities, **Amsterdam** has the highest median prices for Airbnbs followed by **London**,and **Lisbon**."
   ]
  },
  {
   "cell_type": "markdown",
   "id": "ece8f419",
   "metadata": {},
   "source": [
    "#### Q4. Whether the price of the Airbnb increases during the weekends or not?"
   ]
  },
  {
   "cell_type": "code",
   "execution_count": 34,
   "id": "6a9ba563",
   "metadata": {},
   "outputs": [
    {
     "data": {
      "image/png": "[encoded data removed]",
      "text/plain": [
       "<Figure size 1500x700 with 1 Axes>"
      ]
     },
     "metadata": {},
     "output_type": "display_data"
    }
   ],
   "source": [
    "paper = plt.figure(figsize=[15,7])\n",
    "sns.boxplot(data = airbnb_df, x = 'time_of_week', y = np.log1p(airbnb_df['realSum']))\n",
    "plt.show()"
   ]
  },
  {
   "cell_type": "markdown",
   "id": "c51520b1",
   "metadata": {},
   "source": [
    "- We see that the time of the week doesn't really impact the prices."
   ]
  },
  {
   "cell_type": "markdown",
   "id": "64be3a90",
   "metadata": {},
   "source": [
    "#### Q5. Effect of <u>Distance from the city centre</u> and <u>Cleanliness Rating</u> on the Price."
   ]
  },
  {
   "cell_type": "code",
   "execution_count": 35,
   "id": "db525e73",
   "metadata": {},
   "outputs": [
    {
     "data": {
      "image/png": "[encoded data removed]",
      "text/plain": [
       "<Figure size 1500x1200 with 2 Axes>"
      ]
     },
     "metadata": {},
     "output_type": "display_data"
    }
   ],
   "source": [
    "fig = plt.figure(figsize=[15,12])\n",
    "\n",
    "ax1 = fig.add_subplot(211)\n",
    "ax2 = fig.add_subplot(212)\n",
    "\n",
    "airbnb_df.plot.scatter(x = 'dist', y = 'realSum', ax = ax1)\n",
    "ax1.set_title(\"Distance vs. Price\", size = 14)\n",
    "ax1.xaxis.set_label_text(\"Distance\")\n",
    "ax1.yaxis.set_label_text(\"Price\")\n",
    "\n",
    "\n",
    "airbnb_df.plot.scatter(x = 'cleanliness_rating', y = 'realSum', ax = ax2)\n",
    "ax2.set_title(\"Cleanliness rating vs. Price\", size = 14)\n",
    "ax2.xaxis.set_label_text(\"Cleanliness Rating\")\n",
    "ax2.yaxis.set_label_text(\"Price\")\n",
    "plt.show()"
   ]
  },
  {
   "cell_type": "markdown",
   "id": "e97e6949",
   "metadata": {},
   "source": [
    "- We see that **Price** of an Airbnb increases with the cleanliness rating of the place.\n",
    "- It also increases as the distance from the city centre decreases."
   ]
  },
  {
   "cell_type": "markdown",
   "id": "d02c25c3",
   "metadata": {},
   "source": [
    "#### Q6. Effect of <u>Guest Satisfaction rating</u> and <u>Number of bedrooms in the Airbnb</u> on the Price."
   ]
  },
  {
   "cell_type": "code",
   "execution_count": 36,
   "id": "c8d6a009",
   "metadata": {
    "scrolled": true
   },
   "outputs": [
    {
     "data": {
      "image/png": "[encoded data removed]",
      "text/plain": [
       "<Figure size 1500x1200 with 2 Axes>"
      ]
     },
     "metadata": {},
     "output_type": "display_data"
    }
   ],
   "source": [
    "fig = plt.figure(figsize=[15,12])\n",
    "\n",
    "ax1 = fig.add_subplot(211)\n",
    "ax2 = fig.add_subplot(212)\n",
    "\n",
    "airbnb_df.plot.scatter(x = 'guest_satisfaction_overall', y = 'realSum', ax = ax1)\n",
    "ax1.set_title(\"Guest Satisfaction vs. Price\", size = 14)\n",
    "ax1.xaxis.set_label_text(\"Guest Satisfaction\")\n",
    "ax1.yaxis.set_label_text(\"Price\")\n",
    "\n",
    "\n",
    "airbnb_df.plot.scatter(x = 'bedrooms', y = 'realSum', ax = ax2)\n",
    "ax2.set_title(\"# of bedrooms vs. Price\", size = 14)\n",
    "ax2.xaxis.set_label_text(\"# of bedrooms\")\n",
    "ax2.yaxis.set_label_text(\"Price\")\n",
    "plt.show()"
   ]
  },
  {
   "cell_type": "markdown",
   "id": "a3a813e7",
   "metadata": {},
   "source": [
    "#### Q7. Effect of <u>Distance of Airbnb from metro stations</u> on the Price."
   ]
  },
  {
   "cell_type": "code",
   "execution_count": 37,
   "id": "2d1d7258",
   "metadata": {},
   "outputs": [
    {
     "data": {
      "image/png": "[encoded data removed]",
      "text/plain": [
       "<Figure size 1500x700 with 1 Axes>"
      ]
     },
     "metadata": {},
     "output_type": "display_data"
    }
   ],
   "source": [
    "fig = plt.figure(figsize=[15,7])\n",
    "sns.scatterplot(data = airbnb_df, x = 'metro_dist', y = 'realSum')\n",
    "plt.title(\"Distance from metro stations vs. Price\", size = 14)\n",
    "plt.xlabel(\"Metro Distance\")\n",
    "plt.ylabel('Price')\n",
    "plt.show()"
   ]
  },
  {
   "cell_type": "markdown",
   "id": "263986d7",
   "metadata": {},
   "source": [
    "- We see that the prices of Airbnbs increases the closer they are to the Metro stations."
   ]
  },
  {
   "cell_type": "code",
   "execution_count": 38,
   "id": "2467ff4c",
   "metadata": {},
   "outputs": [
    {
     "data": {
      "text/plain": [
       "realSum                       21.419957\n",
       "room_shared                   11.759724\n",
       "room_private                   0.576497\n",
       "person_capacity                0.760003\n",
       "host_is_superhost              1.118798\n",
       "multi                          0.918395\n",
       "biz                            0.628049\n",
       "cleanliness_rating            -2.850286\n",
       "guest_satisfaction_overall    -3.174908\n",
       "bedrooms                       1.367776\n",
       "dist                           1.731195\n",
       "metro_dist                     4.060445\n",
       "haversine_dist                -0.263627\n",
       "dtype: float64"
      ]
     },
     "execution_count": 38,
     "metadata": {},
     "output_type": "execute_result"
    }
   ],
   "source": [
    "airbnb_df.skew()"
   ]
  },
  {
   "cell_type": "markdown",
   "id": "9f04e04a",
   "metadata": {},
   "source": [
    "<a name=Section6></a>\n",
    "### **6. Applying Random Forest Regressor**"
   ]
  },
  {
   "cell_type": "markdown",
   "id": "1e048513",
   "metadata": {},
   "source": [
    "<a name=Section61></a>\n",
    "#### **6.1 Data Preparation**"
   ]
  },
  {
   "cell_type": "markdown",
   "id": "ad70a76c",
   "metadata": {},
   "source": [
    "#### Dropping redundant columns."
   ]
  },
  {
   "cell_type": "code",
   "execution_count": 39,
   "id": "e5c87938",
   "metadata": {},
   "outputs": [
    {
     "data": {
      "text/plain": [
       "True    366\n",
       "Name: room_shared, dtype: int64"
      ]
     },
     "execution_count": 39,
     "metadata": {},
     "output_type": "execute_result"
    }
   ],
   "source": [
    "grp_dat = airbnb_df[airbnb_df['room_type'] == 'Shared room']\n",
    "grp_dat['room_shared'].value_counts()"
   ]
  },
  {
   "cell_type": "markdown",
   "id": "b91a8544",
   "metadata": {},
   "source": [
    "- We see that for data points where the **room_type** is **shared** the values in the column **room_shared** are all true. "
   ]
  },
  {
   "cell_type": "code",
   "execution_count": 40,
   "id": "2a2d9b0f",
   "metadata": {},
   "outputs": [
    {
     "data": {
      "text/plain": [
       "True    18693\n",
       "Name: room_private, dtype: int64"
      ]
     },
     "execution_count": 40,
     "metadata": {},
     "output_type": "execute_result"
    }
   ],
   "source": [
    "grp_dat = airbnb_df[airbnb_df['room_type'] == 'Private room']\n",
    "grp_dat['room_private'].value_counts()"
   ]
  },
  {
   "cell_type": "markdown",
   "id": "3cdc89ef",
   "metadata": {},
   "source": [
    "- Similarly, for data points where the **room_type** is private the values in the columns **room_private** are all true.\n",
    "- This shows that the columns **room_shared** and **room_private** are redundant, and therefore won't be considered for our analysis."
   ]
  },
  {
   "cell_type": "code",
   "execution_count": 41,
   "id": "efd7d11f",
   "metadata": {},
   "outputs": [],
   "source": [
    "airbnb_df.drop(labels = ['room_shared', 'room_private'], axis = 1, inplace=True)"
   ]
  },
  {
   "cell_type": "markdown",
   "id": "90f829ea",
   "metadata": {},
   "source": [
    "#### Checking for Skewness"
   ]
  },
  {
   "cell_type": "code",
   "execution_count": 42,
   "id": "25e95dd5",
   "metadata": {},
   "outputs": [
    {
     "data": {
      "text/plain": [
       "realSum                       21.419957\n",
       "person_capacity                0.760003\n",
       "host_is_superhost              1.118798\n",
       "multi                          0.918395\n",
       "biz                            0.628049\n",
       "cleanliness_rating            -2.850286\n",
       "guest_satisfaction_overall    -3.174908\n",
       "bedrooms                       1.367776\n",
       "dist                           1.731195\n",
       "metro_dist                     4.060445\n",
       "haversine_dist                -0.263627\n",
       "dtype: float64"
      ]
     },
     "execution_count": 42,
     "metadata": {},
     "output_type": "execute_result"
    }
   ],
   "source": [
    "airbnb_df.skew()"
   ]
  },
  {
   "cell_type": "markdown",
   "id": "156f86d6",
   "metadata": {},
   "source": [
    "- We see that the columns **realSum**, **cleanliness_rating**, **guest_satisfaction_overall**, **bedrooms**, **dist**, **metro_dist** are highly skewed.\n",
    "- We will try to reduce this skewness by taking a **Log Transformation**."
   ]
  },
  {
   "cell_type": "code",
   "execution_count": 43,
   "id": "631592f5",
   "metadata": {},
   "outputs": [],
   "source": [
    "skew_ls = ['realSum', 'cleanliness_rating', 'guest_satisfaction_overall', 'bedrooms', 'dist', 'metro_dist']\n",
    "\n",
    "for i in skew_ls:\n",
    "    airbnb_df[i] = np.log1p(airbnb_df[i])"
   ]
  },
  {
   "cell_type": "code",
   "execution_count": 44,
   "id": "16c1d204",
   "metadata": {},
   "outputs": [
    {
     "data": {
      "text/plain": [
       "realSum                       0.717230\n",
       "cleanliness_rating           -5.057365\n",
       "guest_satisfaction_overall   -6.209071\n",
       "bedrooms                     -0.536250\n",
       "dist                          0.128965\n",
       "metro_dist                    1.897032\n",
       "dtype: float64"
      ]
     },
     "execution_count": 44,
     "metadata": {},
     "output_type": "execute_result"
    }
   ],
   "source": [
    "airbnb_df[skew_ls].skew()"
   ]
  },
  {
   "cell_type": "markdown",
   "id": "bb7d713e",
   "metadata": {},
   "source": [
    "- We see that we were able to reduce the skewness of some features like **realSum**, **bedrooms**, **dist**, and **metro_dist**. \n",
    "- But the skewness of **cleanliness_rating** and **guest_satisfaction_overall** increased."
   ]
  },
  {
   "cell_type": "markdown",
   "id": "81de5b48",
   "metadata": {},
   "source": [
    "#### Encoding for categorical and boolean features."
   ]
  },
  {
   "cell_type": "code",
   "execution_count": 45,
   "id": "57557329",
   "metadata": {},
   "outputs": [
    {
     "name": "stdout",
     "output_type": "stream",
     "text": [
      "<class 'pandas.core.frame.DataFrame'>\n",
      "Int64Index: 51707 entries, 0 to 1798\n",
      "Data columns (total 14 columns):\n",
      " #   Column                      Non-Null Count  Dtype  \n",
      "---  ------                      --------------  -----  \n",
      " 0   realSum                     51707 non-null  float64\n",
      " 1   room_type                   51707 non-null  object \n",
      " 2   person_capacity             51707 non-null  float64\n",
      " 3   host_is_superhost           51707 non-null  bool   \n",
      " 4   multi                       51707 non-null  bool   \n",
      " 5   biz                         51707 non-null  bool   \n",
      " 6   cleanliness_rating          51707 non-null  float64\n",
      " 7   guest_satisfaction_overall  51707 non-null  float64\n",
      " 8   bedrooms                    51707 non-null  float64\n",
      " 9   dist                        51707 non-null  float64\n",
      " 10  metro_dist                  51707 non-null  float64\n",
      " 11  city                        51707 non-null  object \n",
      " 12  time_of_week                51707 non-null  object \n",
      " 13  haversine_dist              51707 non-null  float64\n",
      "dtypes: bool(3), float64(8), object(3)\n",
      "memory usage: 4.9+ MB\n"
     ]
    }
   ],
   "source": [
    "airbnb_df.info()"
   ]
  },
  {
   "cell_type": "code",
   "execution_count": 46,
   "id": "c7965e40",
   "metadata": {},
   "outputs": [
    {
     "data": {
      "text/plain": [
       "Entire home/apt    32648\n",
       "Private room       18693\n",
       "Shared room          366\n",
       "Name: room_type, dtype: int64"
      ]
     },
     "execution_count": 46,
     "metadata": {},
     "output_type": "execute_result"
    }
   ],
   "source": [
    "airbnb_df['room_type'].value_counts()"
   ]
  },
  {
   "cell_type": "markdown",
   "id": "9e4b229f",
   "metadata": {},
   "source": [
    "- For features like **room_type** and **time_of_week** we will use **Label Encoding** since they have 3 or fewer categories.\n",
    "- We will use Label Encoding for boolean features as well.\n",
    "- For the column **city** which has 10 categories in total we will use **One-hot encoding**."
   ]
  },
  {
   "cell_type": "code",
   "execution_count": 47,
   "id": "a1d86104",
   "metadata": {},
   "outputs": [],
   "source": [
    "le = LabelEncoder()\n",
    "feat_ls = ['room_type', 'host_is_superhost', 'multi', 'biz', 'time_of_week']\n",
    "\n",
    "for i in feat_ls:\n",
    "    airbnb_df[i] = le.fit_transform(airbnb_df[i])"
   ]
  },
  {
   "cell_type": "code",
   "execution_count": 48,
   "id": "737a2514",
   "metadata": {},
   "outputs": [],
   "source": [
    "airbnb_df = pd.get_dummies(data = airbnb_df, columns = ['city'], drop_first=True)"
   ]
  },
  {
   "cell_type": "code",
   "execution_count": 49,
   "id": "eadb45f5",
   "metadata": {},
   "outputs": [
    {
     "data": {
      "text/html": [
       "<div>\n",
       "<style scoped>\n",
       "    .dataframe tbody tr th:only-of-type {\n",
       "        vertical-align: middle;\n",
       "    }\n",
       "\n",
       "    .dataframe tbody tr th {\n",
       "        vertical-align: top;\n",
       "    }\n",
       "\n",
       "    .dataframe thead th {\n",
       "        text-align: right;\n",
       "    }\n",
       "</style>\n",
       "<table border=\"1\" class=\"dataframe\">\n",
       "  <thead>\n",
       "    <tr style=\"text-align: right;\">\n",
       "      <th></th>\n",
       "      <th>realSum</th>\n",
       "      <th>room_type</th>\n",
       "      <th>person_capacity</th>\n",
       "      <th>host_is_superhost</th>\n",
       "      <th>multi</th>\n",
       "      <th>biz</th>\n",
       "      <th>cleanliness_rating</th>\n",
       "      <th>guest_satisfaction_overall</th>\n",
       "      <th>bedrooms</th>\n",
       "      <th>dist</th>\n",
       "      <th>...</th>\n",
       "      <th>haversine_dist</th>\n",
       "      <th>city_athens</th>\n",
       "      <th>city_barcelon</th>\n",
       "      <th>city_berlin</th>\n",
       "      <th>city_budapest</th>\n",
       "      <th>city_lisbon</th>\n",
       "      <th>city_london</th>\n",
       "      <th>city_paris</th>\n",
       "      <th>city_rome</th>\n",
       "      <th>city_vienna</th>\n",
       "    </tr>\n",
       "  </thead>\n",
       "  <tbody>\n",
       "    <tr>\n",
       "      <th>0</th>\n",
       "      <td>5.273172</td>\n",
       "      <td>1</td>\n",
       "      <td>2.0</td>\n",
       "      <td>0</td>\n",
       "      <td>1</td>\n",
       "      <td>0</td>\n",
       "      <td>2.397895</td>\n",
       "      <td>4.543295</td>\n",
       "      <td>0.693147</td>\n",
       "      <td>1.795579</td>\n",
       "      <td>...</td>\n",
       "      <td>5846.526443</td>\n",
       "      <td>0</td>\n",
       "      <td>0</td>\n",
       "      <td>0</td>\n",
       "      <td>0</td>\n",
       "      <td>0</td>\n",
       "      <td>0</td>\n",
       "      <td>0</td>\n",
       "      <td>0</td>\n",
       "      <td>0</td>\n",
       "    </tr>\n",
       "    <tr>\n",
       "      <th>1</th>\n",
       "      <td>5.844257</td>\n",
       "      <td>1</td>\n",
       "      <td>4.0</td>\n",
       "      <td>0</td>\n",
       "      <td>0</td>\n",
       "      <td>0</td>\n",
       "      <td>2.197225</td>\n",
       "      <td>4.454347</td>\n",
       "      <td>0.693147</td>\n",
       "      <td>0.397695</td>\n",
       "      <td>...</td>\n",
       "      <td>5841.687430</td>\n",
       "      <td>0</td>\n",
       "      <td>0</td>\n",
       "      <td>0</td>\n",
       "      <td>0</td>\n",
       "      <td>0</td>\n",
       "      <td>0</td>\n",
       "      <td>0</td>\n",
       "      <td>0</td>\n",
       "      <td>0</td>\n",
       "    </tr>\n",
       "    <tr>\n",
       "      <th>2</th>\n",
       "      <td>5.580112</td>\n",
       "      <td>1</td>\n",
       "      <td>2.0</td>\n",
       "      <td>0</td>\n",
       "      <td>0</td>\n",
       "      <td>1</td>\n",
       "      <td>2.302585</td>\n",
       "      <td>4.477337</td>\n",
       "      <td>0.693147</td>\n",
       "      <td>1.909292</td>\n",
       "      <td>...</td>\n",
       "      <td>5840.771088</td>\n",
       "      <td>0</td>\n",
       "      <td>0</td>\n",
       "      <td>0</td>\n",
       "      <td>0</td>\n",
       "      <td>0</td>\n",
       "      <td>0</td>\n",
       "      <td>0</td>\n",
       "      <td>0</td>\n",
       "      <td>0</td>\n",
       "    </tr>\n",
       "    <tr>\n",
       "      <th>3</th>\n",
       "      <td>6.074264</td>\n",
       "      <td>1</td>\n",
       "      <td>4.0</td>\n",
       "      <td>0</td>\n",
       "      <td>0</td>\n",
       "      <td>1</td>\n",
       "      <td>2.302585</td>\n",
       "      <td>4.510860</td>\n",
       "      <td>1.098612</td>\n",
       "      <td>0.325601</td>\n",
       "      <td>...</td>\n",
       "      <td>5841.899872</td>\n",
       "      <td>0</td>\n",
       "      <td>0</td>\n",
       "      <td>0</td>\n",
       "      <td>0</td>\n",
       "      <td>0</td>\n",
       "      <td>0</td>\n",
       "      <td>0</td>\n",
       "      <td>0</td>\n",
       "      <td>0</td>\n",
       "    </tr>\n",
       "    <tr>\n",
       "      <th>4</th>\n",
       "      <td>6.187346</td>\n",
       "      <td>1</td>\n",
       "      <td>2.0</td>\n",
       "      <td>1</td>\n",
       "      <td>0</td>\n",
       "      <td>0</td>\n",
       "      <td>2.397895</td>\n",
       "      <td>4.595120</td>\n",
       "      <td>0.693147</td>\n",
       "      <td>0.434854</td>\n",
       "      <td>...</td>\n",
       "      <td>5841.774808</td>\n",
       "      <td>0</td>\n",
       "      <td>0</td>\n",
       "      <td>0</td>\n",
       "      <td>0</td>\n",
       "      <td>0</td>\n",
       "      <td>0</td>\n",
       "      <td>0</td>\n",
       "      <td>0</td>\n",
       "      <td>0</td>\n",
       "    </tr>\n",
       "  </tbody>\n",
       "</table>\n",
       "<p>5 rows × 22 columns</p>\n",
       "</div>"
      ],
      "text/plain": [
       "    realSum  room_type  person_capacity  host_is_superhost  multi  biz  \\\n",
       "0  5.273172          1              2.0                  0      1    0   \n",
       "1  5.844257          1              4.0                  0      0    0   \n",
       "2  5.580112          1              2.0                  0      0    1   \n",
       "3  6.074264          1              4.0                  0      0    1   \n",
       "4  6.187346          1              2.0                  1      0    0   \n",
       "\n",
       "   cleanliness_rating  guest_satisfaction_overall  bedrooms      dist  ...  \\\n",
       "0            2.397895                    4.543295  0.693147  1.795579  ...   \n",
       "1            2.197225                    4.454347  0.693147  0.397695  ...   \n",
       "2            2.302585                    4.477337  0.693147  1.909292  ...   \n",
       "3            2.302585                    4.510860  1.098612  0.325601  ...   \n",
       "4            2.397895                    4.595120  0.693147  0.434854  ...   \n",
       "\n",
       "   haversine_dist  city_athens  city_barcelon  city_berlin  city_budapest  \\\n",
       "0     5846.526443            0              0            0              0   \n",
       "1     5841.687430            0              0            0              0   \n",
       "2     5840.771088            0              0            0              0   \n",
       "3     5841.899872            0              0            0              0   \n",
       "4     5841.774808            0              0            0              0   \n",
       "\n",
       "   city_lisbon  city_london  city_paris  city_rome  city_vienna  \n",
       "0            0            0           0          0            0  \n",
       "1            0            0           0          0            0  \n",
       "2            0            0           0          0            0  \n",
       "3            0            0           0          0            0  \n",
       "4            0            0           0          0            0  \n",
       "\n",
       "[5 rows x 22 columns]"
      ]
     },
     "execution_count": 49,
     "metadata": {},
     "output_type": "execute_result"
    }
   ],
   "source": [
    "airbnb_df.head()"
   ]
  },
  {
   "cell_type": "markdown",
   "id": "0b98fef7",
   "metadata": {},
   "source": [
    "#### Splitting data into x and y."
   ]
  },
  {
   "cell_type": "markdown",
   "id": "182903b5",
   "metadata": {},
   "source": [
    "- We are trying to find the factors that most influence the prices of Airbnb's across major European cities.\n",
    "- To do that we will implement RF regressor to predict the prices and based on the prediction we will determine the most important features.\n",
    "- Therefore, our target variable is **realSum**, so our **y** will be **realSum**."
   ]
  },
  {
   "cell_type": "code",
   "execution_count": 50,
   "id": "bbc2a93d",
   "metadata": {},
   "outputs": [],
   "source": [
    "x = airbnb_df.drop(labels=['realSum'], axis = 1)\n",
    "y = airbnb_df['realSum']"
   ]
  },
  {
   "cell_type": "markdown",
   "id": "90ee26cd",
   "metadata": {},
   "source": [
    "#### Splitting into X_train, X_test, Y_train, Y_test."
   ]
  },
  {
   "cell_type": "code",
   "execution_count": 51,
   "id": "ac238ac3",
   "metadata": {},
   "outputs": [],
   "source": [
    "X_train, X_test, Y_train, Y_test = train_test_split(x, y, test_size=0.2, random_state=42)"
   ]
  },
  {
   "cell_type": "code",
   "execution_count": 52,
   "id": "e3849941",
   "metadata": {},
   "outputs": [
    {
     "data": {
      "text/plain": [
       "(41365, 21)"
      ]
     },
     "execution_count": 52,
     "metadata": {},
     "output_type": "execute_result"
    }
   ],
   "source": [
    "X_train.shape"
   ]
  },
  {
   "cell_type": "code",
   "execution_count": 53,
   "id": "510ee98b",
   "metadata": {},
   "outputs": [
    {
     "data": {
      "text/plain": [
       "(10342, 21)"
      ]
     },
     "execution_count": 53,
     "metadata": {},
     "output_type": "execute_result"
    }
   ],
   "source": [
    "X_test.shape"
   ]
  },
  {
   "cell_type": "code",
   "execution_count": 54,
   "id": "7c395020",
   "metadata": {},
   "outputs": [
    {
     "data": {
      "text/plain": [
       "(41365,)"
      ]
     },
     "execution_count": 54,
     "metadata": {},
     "output_type": "execute_result"
    }
   ],
   "source": [
    "Y_train.shape"
   ]
  },
  {
   "cell_type": "code",
   "execution_count": 55,
   "id": "d2bffce6",
   "metadata": {},
   "outputs": [
    {
     "data": {
      "text/plain": [
       "(10342,)"
      ]
     },
     "execution_count": 55,
     "metadata": {},
     "output_type": "execute_result"
    }
   ],
   "source": [
    "Y_test.shape"
   ]
  },
  {
   "cell_type": "markdown",
   "id": "cf2bb1dd",
   "metadata": {},
   "source": [
    "<a name=Section62></a>\n",
    "#### **6.2 Implementing the Model**"
   ]
  },
  {
   "cell_type": "code",
   "execution_count": 56,
   "id": "0ba5deb0",
   "metadata": {},
   "outputs": [
    {
     "name": "stdout",
     "output_type": "stream",
     "text": [
      "Performance Metrics of Random Forest Regressor:\n",
      "[Train RMSE]: 0.08923306355636432 [Train MAPE]: 0.011015418224795638\n",
      "[Test RMSE]: 0.231324767668368 [Test MAPE]: 0.029060975132804097\n"
     ]
    }
   ],
   "source": [
    "alg = RandomForestRegressor(random_state=42)\n",
    "\n",
    "alg.fit(X_train, Y_train)\n",
    "\n",
    "train_predictions = alg.predict(X_train)\n",
    "test_predictions = alg.predict(X_test)\n",
    "\n",
    "\n",
    "train_RMSE = np.sqrt(mean_squared_error(Y_train, train_predictions))\n",
    "train_MAPE = mean_absolute_percentage_error(Y_train, train_predictions)\n",
    "\n",
    "test_RMSE = np.sqrt(mean_squared_error(Y_test, test_predictions))\n",
    "test_MAPE = mean_absolute_percentage_error(Y_test, test_predictions)\n",
    "\n",
    "\n",
    "\n",
    "print(f'Performance Metrics of Random Forest Regressor:')\n",
    "print(f'[Train RMSE]: {train_RMSE} [Train MAPE]: {train_MAPE}')\n",
    "print(f'[Test RMSE]: {test_RMSE} [Test MAPE]: {test_MAPE}')"
   ]
  },
  {
   "cell_type": "markdown",
   "id": "aa6528fe",
   "metadata": {},
   "source": [
    "<a name=Section63></a>\n",
    "#### **6.3 Hyperparameter tuning**"
   ]
  },
  {
   "cell_type": "markdown",
   "id": "988cff9f",
   "metadata": {},
   "source": [
    "#### Defining the parameters grid."
   ]
  },
  {
   "cell_type": "code",
   "execution_count": 57,
   "id": "392bad3f",
   "metadata": {},
   "outputs": [
    {
     "name": "stdout",
     "output_type": "stream",
     "text": [
      "{'n_estimators': [200, 400, 600, 800, 1000, 1200, 1400, 1600, 1800, 2000], 'max_features': ['auto', 'sqrt'], 'max_depth': [10, 20, 30, 40, 50, 60, 70, 80, 90, 100, 110, None], 'min_samples_split': [2, 5, 10], 'min_samples_leaf': [1, 2, 4], 'bootstrap': [True, False]}\n"
     ]
    }
   ],
   "source": [
    "n_estimators = [int(x) for x in np.linspace(start = 200, stop = 2000, num = 10)]\n",
    "max_features = ['auto', 'sqrt']\n",
    "max_depth = [int(x) for x in np.linspace(10, 110, num = 11)]\n",
    "max_depth.append(None)\n",
    "min_samples_split = [2, 5, 10]\n",
    "min_samples_leaf = [1, 2, 4]\n",
    "bootstrap = [True, False]\n",
    "\n",
    "random_grid = {'n_estimators': n_estimators,\n",
    "               'max_features': max_features,\n",
    "               'max_depth': max_depth,\n",
    "               'min_samples_split': min_samples_split,\n",
    "               'min_samples_leaf': min_samples_leaf,\n",
    "               'bootstrap': bootstrap}\n",
    "\n",
    "print(random_grid)"
   ]
  },
  {
   "cell_type": "code",
   "execution_count": 58,
   "id": "0e655523",
   "metadata": {},
   "outputs": [
    {
     "name": "stdout",
     "output_type": "stream",
     "text": [
      "Fitting 3 folds for each of 10 candidates, totalling 30 fits\n"
     ]
    },
    {
     "data": {
      "text/html": [
       "<style>#sk-container-id-1 {color: black;background-color: white;}#sk-container-id-1 pre{padding: 0;}#sk-container-id-1 div.sk-toggleable {background-color: white;}#sk-container-id-1 label.sk-toggleable__label {cursor: pointer;display: block;width: 100%;margin-bottom: 0;padding: 0.3em;box-sizing: border-box;text-align: center;}#sk-container-id-1 label.sk-toggleable__label-arrow:before {content: \"▸\";float: left;margin-right: 0.25em;color: #696969;}#sk-container-id-1 label.sk-toggleable__label-arrow:hover:before {color: black;}#sk-container-id-1 div.sk-estimator:hover label.sk-toggleable__label-arrow:before {color: black;}#sk-container-id-1 div.sk-toggleable__content {max-height: 0;max-width: 0;overflow: hidden;text-align: left;background-color: #f0f8ff;}#sk-container-id-1 div.sk-toggleable__content pre {margin: 0.2em;color: black;border-radius: 0.25em;background-color: #f0f8ff;}#sk-container-id-1 input.sk-toggleable__control:checked~div.sk-toggleable__content {max-height: 200px;max-width: 100%;overflow: auto;}#sk-container-id-1 input.sk-toggleable__control:checked~label.sk-toggleable__label-arrow:before {content: \"▾\";}#sk-container-id-1 div.sk-estimator input.sk-toggleable__control:checked~label.sk-toggleable__label {background-color: #d4ebff;}#sk-container-id-1 div.sk-label input.sk-toggleable__control:checked~label.sk-toggleable__label {background-color: #d4ebff;}#sk-container-id-1 input.sk-hidden--visually {border: 0;clip: rect(1px 1px 1px 1px);clip: rect(1px, 1px, 1px, 1px);height: 1px;margin: -1px;overflow: hidden;padding: 0;position: absolute;width: 1px;}#sk-container-id-1 div.sk-estimator {font-family: monospace;background-color: #f0f8ff;border: 1px dotted black;border-radius: 0.25em;box-sizing: border-box;margin-bottom: 0.5em;}#sk-container-id-1 div.sk-estimator:hover {background-color: #d4ebff;}#sk-container-id-1 div.sk-parallel-item::after {content: \"\";width: 100%;border-bottom: 1px solid gray;flex-grow: 1;}#sk-container-id-1 div.sk-label:hover label.sk-toggleable__label {background-color: #d4ebff;}#sk-container-id-1 div.sk-serial::before {content: \"\";position: absolute;border-left: 1px solid gray;box-sizing: border-box;top: 0;bottom: 0;left: 50%;z-index: 0;}#sk-container-id-1 div.sk-serial {display: flex;flex-direction: column;align-items: center;background-color: white;padding-right: 0.2em;padding-left: 0.2em;position: relative;}#sk-container-id-1 div.sk-item {position: relative;z-index: 1;}#sk-container-id-1 div.sk-parallel {display: flex;align-items: stretch;justify-content: center;background-color: white;position: relative;}#sk-container-id-1 div.sk-item::before, #sk-container-id-1 div.sk-parallel-item::before {content: \"\";position: absolute;border-left: 1px solid gray;box-sizing: border-box;top: 0;bottom: 0;left: 50%;z-index: -1;}#sk-container-id-1 div.sk-parallel-item {display: flex;flex-direction: column;z-index: 1;position: relative;background-color: white;}#sk-container-id-1 div.sk-parallel-item:first-child::after {align-self: flex-end;width: 50%;}#sk-container-id-1 div.sk-parallel-item:last-child::after {align-self: flex-start;width: 50%;}#sk-container-id-1 div.sk-parallel-item:only-child::after {width: 0;}#sk-container-id-1 div.sk-dashed-wrapped {border: 1px dashed gray;margin: 0 0.4em 0.5em 0.4em;box-sizing: border-box;padding-bottom: 0.4em;background-color: white;}#sk-container-id-1 div.sk-label label {font-family: monospace;font-weight: bold;display: inline-block;line-height: 1.2em;}#sk-container-id-1 div.sk-label-container {text-align: center;}#sk-container-id-1 div.sk-container {/* jupyter's `normalize.less` sets `[hidden] { display: none; }` but bootstrap.min.css set `[hidden] { display: none !important; }` so we also need the `!important` here to be able to override the default hidden behavior on the sphinx rendered scikit-learn.org. See: https://github.com/scikit-learn/scikit-learn/issues/21755 */display: inline-block !important;position: relative;}#sk-container-id-1 div.sk-text-repr-fallback {display: none;}</style><div id=\"sk-container-id-1\" class=\"sk-top-container\"><div class=\"sk-text-repr-fallback\"><pre>RandomizedSearchCV(cv=3, estimator=RandomForestRegressor(), n_jobs=-1,\n",
       "                   param_distributions={&#x27;bootstrap&#x27;: [True, False],\n",
       "                                        &#x27;max_depth&#x27;: [10, 20, 30, 40, 50, 60,\n",
       "                                                      70, 80, 90, 100, 110,\n",
       "                                                      None],\n",
       "                                        &#x27;max_features&#x27;: [&#x27;auto&#x27;, &#x27;sqrt&#x27;],\n",
       "                                        &#x27;min_samples_leaf&#x27;: [1, 2, 4],\n",
       "                                        &#x27;min_samples_split&#x27;: [2, 5, 10],\n",
       "                                        &#x27;n_estimators&#x27;: [200, 400, 600, 800,\n",
       "                                                         1000, 1200, 1400, 1600,\n",
       "                                                         1800, 2000]},\n",
       "                   random_state=42, verbose=2)</pre><b>In a Jupyter environment, please rerun this cell to show the HTML representation or trust the notebook. <br />On GitHub, the HTML representation is unable to render, please try loading this page with nbviewer.org.</b></div><div class=\"sk-container\" hidden><div class=\"sk-item sk-dashed-wrapped\"><div class=\"sk-label-container\"><div class=\"sk-label sk-toggleable\"><input class=\"sk-toggleable__control sk-hidden--visually\" id=\"sk-estimator-id-1\" type=\"checkbox\" ><label for=\"sk-estimator-id-1\" class=\"sk-toggleable__label sk-toggleable__label-arrow\">RandomizedSearchCV</label><div class=\"sk-toggleable__content\"><pre>RandomizedSearchCV(cv=3, estimator=RandomForestRegressor(), n_jobs=-1,\n",
       "                   param_distributions={&#x27;bootstrap&#x27;: [True, False],\n",
       "                                        &#x27;max_depth&#x27;: [10, 20, 30, 40, 50, 60,\n",
       "                                                      70, 80, 90, 100, 110,\n",
       "                                                      None],\n",
       "                                        &#x27;max_features&#x27;: [&#x27;auto&#x27;, &#x27;sqrt&#x27;],\n",
       "                                        &#x27;min_samples_leaf&#x27;: [1, 2, 4],\n",
       "                                        &#x27;min_samples_split&#x27;: [2, 5, 10],\n",
       "                                        &#x27;n_estimators&#x27;: [200, 400, 600, 800,\n",
       "                                                         1000, 1200, 1400, 1600,\n",
       "                                                         1800, 2000]},\n",
       "                   random_state=42, verbose=2)</pre></div></div></div><div class=\"sk-parallel\"><div class=\"sk-parallel-item\"><div class=\"sk-item\"><div class=\"sk-label-container\"><div class=\"sk-label sk-toggleable\"><input class=\"sk-toggleable__control sk-hidden--visually\" id=\"sk-estimator-id-2\" type=\"checkbox\" ><label for=\"sk-estimator-id-2\" class=\"sk-toggleable__label sk-toggleable__label-arrow\">estimator: RandomForestRegressor</label><div class=\"sk-toggleable__content\"><pre>RandomForestRegressor()</pre></div></div></div><div class=\"sk-serial\"><div class=\"sk-item\"><div class=\"sk-estimator sk-toggleable\"><input class=\"sk-toggleable__control sk-hidden--visually\" id=\"sk-estimator-id-3\" type=\"checkbox\" ><label for=\"sk-estimator-id-3\" class=\"sk-toggleable__label sk-toggleable__label-arrow\">RandomForestRegressor</label><div class=\"sk-toggleable__content\"><pre>RandomForestRegressor()</pre></div></div></div></div></div></div></div></div></div></div>"
      ],
      "text/plain": [
       "RandomizedSearchCV(cv=3, estimator=RandomForestRegressor(), n_jobs=-1,\n",
       "                   param_distributions={'bootstrap': [True, False],\n",
       "                                        'max_depth': [10, 20, 30, 40, 50, 60,\n",
       "                                                      70, 80, 90, 100, 110,\n",
       "                                                      None],\n",
       "                                        'max_features': ['auto', 'sqrt'],\n",
       "                                        'min_samples_leaf': [1, 2, 4],\n",
       "                                        'min_samples_split': [2, 5, 10],\n",
       "                                        'n_estimators': [200, 400, 600, 800,\n",
       "                                                         1000, 1200, 1400, 1600,\n",
       "                                                         1800, 2000]},\n",
       "                   random_state=42, verbose=2)"
      ]
     },
     "execution_count": 58,
     "metadata": {},
     "output_type": "execute_result"
    }
   ],
   "source": [
    "rf = RandomForestRegressor()\n",
    "\n",
    "rf_random = RandomizedSearchCV(estimator = rf, param_distributions = random_grid, n_iter = 10, cv = 3, verbose=2, random_state=42, n_jobs = -1)\n",
    "2\n",
    "rf_random.fit(X_train, Y_train)"
   ]
  },
  {
   "cell_type": "markdown",
   "id": "9fe1d1c7",
   "metadata": {},
   "source": [
    "#### Using RandomisedSearchCV for hyperparameter tuning."
   ]
  },
  {
   "cell_type": "code",
   "execution_count": 59,
   "id": "10822967",
   "metadata": {},
   "outputs": [],
   "source": [
    "best_model = rf_random.best_estimator_"
   ]
  },
  {
   "cell_type": "code",
   "execution_count": 60,
   "id": "085600c7",
   "metadata": {},
   "outputs": [
    {
     "name": "stdout",
     "output_type": "stream",
     "text": [
      "[Train MAPE]: 0.015579809620428894\n",
      "[Test RMSE]: 0.24684949320565705 [Test MAPE]: 0.031222848708294355\n"
     ]
    }
   ],
   "source": [
    "new_preds_test = best_model.predict(X_test)\n",
    "new_preds_train = best_model.predict(X_train)\n",
    "\n",
    "new_train_MAPE = mean_absolute_percentage_error(Y_train, new_preds_train)\n",
    "new_test_RMSE = np.sqrt(mean_squared_error(Y_test, new_preds_test))\n",
    "new_test_MAPE = mean_absolute_percentage_error(Y_test, new_preds_test)\n",
    "\n",
    "print(f'[Train MAPE]: {new_train_MAPE}')\n",
    "print(f'[Test RMSE]: {new_test_RMSE} [Test MAPE]: {new_test_MAPE}')"
   ]
  },
  {
   "cell_type": "markdown",
   "id": "6697e6f3",
   "metadata": {},
   "source": [
    "<a name=Section64></a>\n",
    "#### **6.4 Feature Importance**"
   ]
  },
  {
   "cell_type": "code",
   "execution_count": 61,
   "id": "684cb410",
   "metadata": {},
   "outputs": [
    {
     "data": {
      "image/png": "[encoded data removed]",
      "text/plain": [
       "<Figure size 1500x700 with 1 Axes>"
      ]
     },
     "metadata": {},
     "output_type": "display_data"
    }
   ],
   "source": [
    "features = X_train.columns\n",
    "importances = best_model.feature_importances_\n",
    "indices = np.argsort(importances)\n",
    "\n",
    "plt.figure(figsize=[15, 7])\n",
    "plt.barh(y=range(len(indices)), width=importances[indices], align='center')\n",
    "plt.yticks(ticks=range(len(indices)), labels=[features[i] for i in indices], size=12)\n",
    "plt.show()"
   ]
  },
  {
   "cell_type": "markdown",
   "id": "6b1f12ba",
   "metadata": {},
   "source": [
    "- We see that the feature we created using the columns **lng (Longitude)** and **lat (Latitude)** called **haversine_distance** is the most important feature, that is the location of the Airbnb is the most important factor effecting the price of the Airbnb.\n",
    "- Another important factor that impacts the prices is the distance of the Airbnb from the city centre.\n",
    "- Apart from that factors like **room_type**, **metro_distance**, **city**, etc. also impact the prices of the Airbnb."
   ]
  },
  {
   "cell_type": "markdown",
   "id": "8150e541",
   "metadata": {},
   "source": [
    "<a name=Section7></a>\n",
    "### **7. Conclusion**\n",
    "\n",
    "- The dataset had **51707** records and **22** features.\n",
    "- It included the prices for Airbnb's across major European cities.\n",
    "- After running a **Random Forest Regressor** we were able to identify the major factors that effected the prices.\n",
    "- Major factors effecting the prices were **Location of the Airbnb**, **Distance of the Airbnb from the city centre**, **Type of room (Entire apt/Shared/Private**, **City**, etc."
   ]
  }
 ],
 "metadata": {
  "kernelspec": {
   "display_name": "Python 3 (ipykernel)",
   "language": "python",
   "name": "python3"
  },
  "language_info": {
   "codemirror_mode": {
    "name": "ipython",
    "version": 3
   },
   "file_extension": ".py",
   "mimetype": "text/x-python",
   "name": "python",
   "nbconvert_exporter": "python",
   "pygments_lexer": "ipython3",
   "version": "3.8.10"
  }
 },
 "nbformat": 4,
 "nbformat_minor": 5
}
