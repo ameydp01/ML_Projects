{
 "cells": [
  {
   "cell_type": "markdown",
   "id": "ec2cb69a",
   "metadata": {},
   "source": [
    "# <center><b>Big Mart Sales Prediction<b> </center>"
   ]
  },
  {
   "cell_type": "markdown",
   "id": "af5d49b1",
   "metadata": {},
   "source": [
    "---\n",
    "# **Table of Contents**\n",
    "---\n",
    "**1.** [**Importing Libraries**](#Section1)<br>\n",
    "**2.** [**Data Acquisition & Description**](#Section2)<br>\n",
    "  - **2.1** [**Data Description**](#Section21)<br>\n",
    "  - **2.2** [**Summary Statistics**](#Section22)<br>\n",
    "  \n",
    "**3.** [**Data Pre-Profiling**](#Section3)<br>\n",
    "**4.** [**Data Preparation (Cleaning)**](#Section4)<br>\n",
    "**5.** [**Data Post-Profiling**](#Section5)<br>\n",
    "**6.** [**Exploratory Data Analysis (EDA)**](#Section6)<br>\n",
    "**7.** [**Data Preparation for Modeling**](#Section7)<br>\n",
    "  - **7.1** [**Creating X and Y**](#Section71)<br>\n",
    "  - **7.2** [**Encoding**](#Section72)<br>\n",
    "  - **7.3** [**Splitting the data into training and testing sets**](#Section73)<br>\n",
    "\n",
    "**8.** [**Applying ML Models and Model Evaluation**](#Section8)<br>\n",
    "**9.** [**Conclusion**](#Section9)<br>"
   ]
  },
  {
   "cell_type": "markdown",
   "id": "bc8ff30d",
   "metadata": {},
   "source": [
    "<a name = Section1></a>\n",
    "### **1. Importing Libraries**"
   ]
  },
  {
   "cell_type": "code",
   "execution_count": 3,
   "id": "fe666227",
   "metadata": {},
   "outputs": [],
   "source": [
    "# ------------------------------------------------------------------------------------------------------------------------------\n",
    "import pandas as pd\n",
    "#from pandas_profiling import ProfileReport\n",
    "# ------------------------------------------------------------------------------------------------------------------------------\n",
    "import numpy as np\n",
    "# ------------------------------------------------------------------------------------------------------------------------------\n",
    "import seaborn as sns\n",
    "import matplotlib.pyplot as plt\n",
    "from matplotlib.pylab import rcParams \n",
    "%matplotlib inline\n",
    "# ------------------------------------------------------------------------------------------------------------------------------\n",
    "from sklearn.model_selection import train_test_split  # to split the data\n",
    "from sklearn.model_selection import RandomizedSearchCV\n",
    "\n",
    "# models\n",
    "from sklearn.linear_model import LinearRegression  # to carry about the linear_regression\n",
    "from sklearn.tree import DecisionTreeRegressor  # to implement Decision Tree\n",
    "from sklearn.ensemble import RandomForestRegressor  # to implement RandomForest\n",
    "\n",
    "# metrics\n",
    "from sklearn.metrics import mean_squared_error  # to get the metrics\n",
    "\n",
    "from scipy.stats.contingency import chi2_contingency  # to perform chi-square test\n",
    "from sklearn.preprocessing import LabelEncoder  # to perform label encoding\n",
    "# ------------------------------------------------------------------------------------------------------------------------------\n",
    "\n",
    "import warnings\n",
    "warnings.filterwarnings('ignore')"
   ]
  },
  {
   "cell_type": "markdown",
   "id": "c66142ff",
   "metadata": {},
   "source": [
    "---\n",
    "<a name = Section2></a>\n",
    "# **2. Data Acquisition & Description**\n",
    "---\n",
    "- The dataset consists of information such as Item weight, Item visibility, Item type, Item MRP,etc.\n",
    "\n",
    "| Records | Features |\n",
    "| :--: | :--: |\n",
    "| 8523 | 12 |\n",
    "\n",
    "<br>\n",
    "\n",
    "| # | Feature Name | Feature Description |\n",
    "|:--:|:--|:--| \n",
    "|1| Item_Identifier | Unique product ID |\n",
    "|2|Item_Weight | Weight of product |\n",
    "|3| Item_Fat_Content |Whether the product is low fat or not |\n",
    "|4| Item_Visibility |\tThe % of the total display area of all products in a store allocated to the particular product |\n",
    "|5| Item_Type |\tThe category to which the product belongs |\n",
    "|6| Item_MRP |\tMaximum Retail Price (list price) of the product |\n",
    "|7| Outlet_Identifier |\tUnique store ID |\n",
    "|8| Outlet_Establishment_Year |\tThe year in which the store was established |\n",
    "|9| Outlet_Size |\tThe size of the store in terms of ground area covered |\n",
    "|10| Outlet_Location_Type |\tThe type of city in which the store is located |\n",
    "|11| Outlet_Type | Whether the outlet is just a grocery store or some sort of supermarket |\n",
    "|12| Item_Outlet_Sales | Sales of the product in the particular store |\n",
    "\n"
   ]
  },
  {
   "cell_type": "code",
   "execution_count": 4,
   "id": "a1ca9b2d",
   "metadata": {},
   "outputs": [],
   "source": [
    "train = pd.read_csv(\"https://raw.githubusercontent.com/ameydp01/BigMartSalesPred/main/train_v9rqX0R.csv\")"
   ]
  },
  {
   "cell_type": "code",
   "execution_count": 5,
   "id": "e5ec25e2",
   "metadata": {},
   "outputs": [
    {
     "data": {
      "text/html": [
       "<div>\n",
       "<style scoped>\n",
       "    .dataframe tbody tr th:only-of-type {\n",
       "        vertical-align: middle;\n",
       "    }\n",
       "\n",
       "    .dataframe tbody tr th {\n",
       "        vertical-align: top;\n",
       "    }\n",
       "\n",
       "    .dataframe thead th {\n",
       "        text-align: right;\n",
       "    }\n",
       "</style>\n",
       "<table border=\"1\" class=\"dataframe\">\n",
       "  <thead>\n",
       "    <tr style=\"text-align: right;\">\n",
       "      <th></th>\n",
       "      <th>Item_Identifier</th>\n",
       "      <th>Item_Weight</th>\n",
       "      <th>Item_Fat_Content</th>\n",
       "      <th>Item_Visibility</th>\n",
       "      <th>Item_Type</th>\n",
       "      <th>Item_MRP</th>\n",
       "      <th>Outlet_Identifier</th>\n",
       "      <th>Outlet_Establishment_Year</th>\n",
       "      <th>Outlet_Size</th>\n",
       "      <th>Outlet_Location_Type</th>\n",
       "      <th>Outlet_Type</th>\n",
       "      <th>Item_Outlet_Sales</th>\n",
       "    </tr>\n",
       "  </thead>\n",
       "  <tbody>\n",
       "    <tr>\n",
       "      <th>0</th>\n",
       "      <td>FDA15</td>\n",
       "      <td>9.30</td>\n",
       "      <td>Low Fat</td>\n",
       "      <td>0.016047</td>\n",
       "      <td>Dairy</td>\n",
       "      <td>249.8092</td>\n",
       "      <td>OUT049</td>\n",
       "      <td>1999</td>\n",
       "      <td>Medium</td>\n",
       "      <td>Tier 1</td>\n",
       "      <td>Supermarket Type1</td>\n",
       "      <td>3735.1380</td>\n",
       "    </tr>\n",
       "    <tr>\n",
       "      <th>1</th>\n",
       "      <td>DRC01</td>\n",
       "      <td>5.92</td>\n",
       "      <td>Regular</td>\n",
       "      <td>0.019278</td>\n",
       "      <td>Soft Drinks</td>\n",
       "      <td>48.2692</td>\n",
       "      <td>OUT018</td>\n",
       "      <td>2009</td>\n",
       "      <td>Medium</td>\n",
       "      <td>Tier 3</td>\n",
       "      <td>Supermarket Type2</td>\n",
       "      <td>443.4228</td>\n",
       "    </tr>\n",
       "    <tr>\n",
       "      <th>2</th>\n",
       "      <td>FDN15</td>\n",
       "      <td>17.50</td>\n",
       "      <td>Low Fat</td>\n",
       "      <td>0.016760</td>\n",
       "      <td>Meat</td>\n",
       "      <td>141.6180</td>\n",
       "      <td>OUT049</td>\n",
       "      <td>1999</td>\n",
       "      <td>Medium</td>\n",
       "      <td>Tier 1</td>\n",
       "      <td>Supermarket Type1</td>\n",
       "      <td>2097.2700</td>\n",
       "    </tr>\n",
       "    <tr>\n",
       "      <th>3</th>\n",
       "      <td>FDX07</td>\n",
       "      <td>19.20</td>\n",
       "      <td>Regular</td>\n",
       "      <td>0.000000</td>\n",
       "      <td>Fruits and Vegetables</td>\n",
       "      <td>182.0950</td>\n",
       "      <td>OUT010</td>\n",
       "      <td>1998</td>\n",
       "      <td>NaN</td>\n",
       "      <td>Tier 3</td>\n",
       "      <td>Grocery Store</td>\n",
       "      <td>732.3800</td>\n",
       "    </tr>\n",
       "    <tr>\n",
       "      <th>4</th>\n",
       "      <td>NCD19</td>\n",
       "      <td>8.93</td>\n",
       "      <td>Low Fat</td>\n",
       "      <td>0.000000</td>\n",
       "      <td>Household</td>\n",
       "      <td>53.8614</td>\n",
       "      <td>OUT013</td>\n",
       "      <td>1987</td>\n",
       "      <td>High</td>\n",
       "      <td>Tier 3</td>\n",
       "      <td>Supermarket Type1</td>\n",
       "      <td>994.7052</td>\n",
       "    </tr>\n",
       "  </tbody>\n",
       "</table>\n",
       "</div>"
      ],
      "text/plain": [
       "  Item_Identifier  Item_Weight Item_Fat_Content  Item_Visibility  \\\n",
       "0           FDA15         9.30          Low Fat         0.016047   \n",
       "1           DRC01         5.92          Regular         0.019278   \n",
       "2           FDN15        17.50          Low Fat         0.016760   \n",
       "3           FDX07        19.20          Regular         0.000000   \n",
       "4           NCD19         8.93          Low Fat         0.000000   \n",
       "\n",
       "               Item_Type  Item_MRP Outlet_Identifier  \\\n",
       "0                  Dairy  249.8092            OUT049   \n",
       "1            Soft Drinks   48.2692            OUT018   \n",
       "2                   Meat  141.6180            OUT049   \n",
       "3  Fruits and Vegetables  182.0950            OUT010   \n",
       "4              Household   53.8614            OUT013   \n",
       "\n",
       "   Outlet_Establishment_Year Outlet_Size Outlet_Location_Type  \\\n",
       "0                       1999      Medium               Tier 1   \n",
       "1                       2009      Medium               Tier 3   \n",
       "2                       1999      Medium               Tier 1   \n",
       "3                       1998         NaN               Tier 3   \n",
       "4                       1987        High               Tier 3   \n",
       "\n",
       "         Outlet_Type  Item_Outlet_Sales  \n",
       "0  Supermarket Type1          3735.1380  \n",
       "1  Supermarket Type2           443.4228  \n",
       "2  Supermarket Type1          2097.2700  \n",
       "3      Grocery Store           732.3800  \n",
       "4  Supermarket Type1           994.7052  "
      ]
     },
     "execution_count": 5,
     "metadata": {},
     "output_type": "execute_result"
    }
   ],
   "source": [
    "train.head()"
   ]
  },
  {
   "cell_type": "code",
   "execution_count": 6,
   "id": "43b340dd",
   "metadata": {},
   "outputs": [
    {
     "data": {
      "text/plain": [
       "(8523, 12)"
      ]
     },
     "execution_count": 6,
     "metadata": {},
     "output_type": "execute_result"
    }
   ],
   "source": [
    "train.shape"
   ]
  },
  {
   "cell_type": "code",
   "execution_count": 7,
   "id": "1aefb024",
   "metadata": {},
   "outputs": [
    {
     "data": {
      "text/plain": [
       "Index(['Item_Identifier', 'Item_Weight', 'Item_Fat_Content', 'Item_Visibility',\n",
       "       'Item_Type', 'Item_MRP', 'Outlet_Identifier',\n",
       "       'Outlet_Establishment_Year', 'Outlet_Size', 'Outlet_Location_Type',\n",
       "       'Outlet_Type', 'Item_Outlet_Sales'],\n",
       "      dtype='object')"
      ]
     },
     "execution_count": 7,
     "metadata": {},
     "output_type": "execute_result"
    }
   ],
   "source": [
    "train.columns"
   ]
  },
  {
   "cell_type": "markdown",
   "id": "e79d5f5c",
   "metadata": {},
   "source": [
    "<a name=Section21></a>\n",
    "#### **2.1 Data Description**"
   ]
  },
  {
   "cell_type": "code",
   "execution_count": 8,
   "id": "3ab107e0",
   "metadata": {},
   "outputs": [
    {
     "name": "stdout",
     "output_type": "stream",
     "text": [
      "<class 'pandas.core.frame.DataFrame'>\n",
      "RangeIndex: 8523 entries, 0 to 8522\n",
      "Data columns (total 12 columns):\n",
      " #   Column                     Non-Null Count  Dtype  \n",
      "---  ------                     --------------  -----  \n",
      " 0   Item_Identifier            8523 non-null   object \n",
      " 1   Item_Weight                7060 non-null   float64\n",
      " 2   Item_Fat_Content           8523 non-null   object \n",
      " 3   Item_Visibility            8523 non-null   float64\n",
      " 4   Item_Type                  8523 non-null   object \n",
      " 5   Item_MRP                   8523 non-null   float64\n",
      " 6   Outlet_Identifier          8523 non-null   object \n",
      " 7   Outlet_Establishment_Year  8523 non-null   int64  \n",
      " 8   Outlet_Size                6113 non-null   object \n",
      " 9   Outlet_Location_Type       8523 non-null   object \n",
      " 10  Outlet_Type                8523 non-null   object \n",
      " 11  Item_Outlet_Sales          8523 non-null   float64\n",
      "dtypes: float64(4), int64(1), object(7)\n",
      "memory usage: 799.2+ KB\n"
     ]
    }
   ],
   "source": [
    "train.info()"
   ]
  },
  {
   "cell_type": "markdown",
   "id": "8e4bafa8",
   "metadata": {},
   "source": [
    "<a name=Section22></a>\n",
    "#### **2.2 Summary Statistics**"
   ]
  },
  {
   "cell_type": "code",
   "execution_count": 9,
   "id": "071d1d49",
   "metadata": {
    "scrolled": true
   },
   "outputs": [
    {
     "data": {
      "text/html": [
       "<div>\n",
       "<style scoped>\n",
       "    .dataframe tbody tr th:only-of-type {\n",
       "        vertical-align: middle;\n",
       "    }\n",
       "\n",
       "    .dataframe tbody tr th {\n",
       "        vertical-align: top;\n",
       "    }\n",
       "\n",
       "    .dataframe thead th {\n",
       "        text-align: right;\n",
       "    }\n",
       "</style>\n",
       "<table border=\"1\" class=\"dataframe\">\n",
       "  <thead>\n",
       "    <tr style=\"text-align: right;\">\n",
       "      <th></th>\n",
       "      <th>Item_Weight</th>\n",
       "      <th>Item_Visibility</th>\n",
       "      <th>Item_MRP</th>\n",
       "      <th>Outlet_Establishment_Year</th>\n",
       "      <th>Item_Outlet_Sales</th>\n",
       "    </tr>\n",
       "  </thead>\n",
       "  <tbody>\n",
       "    <tr>\n",
       "      <th>count</th>\n",
       "      <td>7060.000000</td>\n",
       "      <td>8523.000000</td>\n",
       "      <td>8523.000000</td>\n",
       "      <td>8523.000000</td>\n",
       "      <td>8523.000000</td>\n",
       "    </tr>\n",
       "    <tr>\n",
       "      <th>mean</th>\n",
       "      <td>12.857645</td>\n",
       "      <td>0.066132</td>\n",
       "      <td>140.992782</td>\n",
       "      <td>1997.831867</td>\n",
       "      <td>2181.288914</td>\n",
       "    </tr>\n",
       "    <tr>\n",
       "      <th>std</th>\n",
       "      <td>4.643456</td>\n",
       "      <td>0.051598</td>\n",
       "      <td>62.275067</td>\n",
       "      <td>8.371760</td>\n",
       "      <td>1706.499616</td>\n",
       "    </tr>\n",
       "    <tr>\n",
       "      <th>min</th>\n",
       "      <td>4.555000</td>\n",
       "      <td>0.000000</td>\n",
       "      <td>31.290000</td>\n",
       "      <td>1985.000000</td>\n",
       "      <td>33.290000</td>\n",
       "    </tr>\n",
       "    <tr>\n",
       "      <th>25%</th>\n",
       "      <td>8.773750</td>\n",
       "      <td>0.026989</td>\n",
       "      <td>93.826500</td>\n",
       "      <td>1987.000000</td>\n",
       "      <td>834.247400</td>\n",
       "    </tr>\n",
       "    <tr>\n",
       "      <th>50%</th>\n",
       "      <td>12.600000</td>\n",
       "      <td>0.053931</td>\n",
       "      <td>143.012800</td>\n",
       "      <td>1999.000000</td>\n",
       "      <td>1794.331000</td>\n",
       "    </tr>\n",
       "    <tr>\n",
       "      <th>75%</th>\n",
       "      <td>16.850000</td>\n",
       "      <td>0.094585</td>\n",
       "      <td>185.643700</td>\n",
       "      <td>2004.000000</td>\n",
       "      <td>3101.296400</td>\n",
       "    </tr>\n",
       "    <tr>\n",
       "      <th>max</th>\n",
       "      <td>21.350000</td>\n",
       "      <td>0.328391</td>\n",
       "      <td>266.888400</td>\n",
       "      <td>2009.000000</td>\n",
       "      <td>13086.964800</td>\n",
       "    </tr>\n",
       "  </tbody>\n",
       "</table>\n",
       "</div>"
      ],
      "text/plain": [
       "       Item_Weight  Item_Visibility     Item_MRP  Outlet_Establishment_Year  \\\n",
       "count  7060.000000      8523.000000  8523.000000                8523.000000   \n",
       "mean     12.857645         0.066132   140.992782                1997.831867   \n",
       "std       4.643456         0.051598    62.275067                   8.371760   \n",
       "min       4.555000         0.000000    31.290000                1985.000000   \n",
       "25%       8.773750         0.026989    93.826500                1987.000000   \n",
       "50%      12.600000         0.053931   143.012800                1999.000000   \n",
       "75%      16.850000         0.094585   185.643700                2004.000000   \n",
       "max      21.350000         0.328391   266.888400                2009.000000   \n",
       "\n",
       "       Item_Outlet_Sales  \n",
       "count        8523.000000  \n",
       "mean         2181.288914  \n",
       "std          1706.499616  \n",
       "min            33.290000  \n",
       "25%           834.247400  \n",
       "50%          1794.331000  \n",
       "75%          3101.296400  \n",
       "max         13086.964800  "
      ]
     },
     "execution_count": 9,
     "metadata": {},
     "output_type": "execute_result"
    }
   ],
   "source": [
    "train.describe()"
   ]
  },
  {
   "cell_type": "markdown",
   "id": "c394d298",
   "metadata": {},
   "source": [
    "<a name=Section3></a>\n",
    "### **3. Data Pre-Profiling**"
   ]
  },
  {
   "cell_type": "markdown",
   "id": "c7d96ff3",
   "metadata": {},
   "source": [
    "#### Generating a Pre-Profiling report using the pandas_profiling library."
   ]
  },
  {
   "cell_type": "code",
   "execution_count": 10,
   "id": "44e23ac7",
   "metadata": {},
   "outputs": [],
   "source": [
    "# train_profile = ProfileReport(train)\n",
    "# train_profile.to_file('Big_mart pre-profiling.html')"
   ]
  },
  {
   "cell_type": "markdown",
   "id": "535641fe",
   "metadata": {},
   "source": [
    "- From the profiling report we see that there are **missing values** in the **Item_Weight** and **Outlet_Size** columns.\n",
    "- We also see that there are data inconsistencies in the **Item_Fat_Content** column."
   ]
  },
  {
   "cell_type": "markdown",
   "id": "bf9df811",
   "metadata": {},
   "source": [
    "<a name=Section4></a>\n",
    "### **4. Data Preparation (Cleaning)**"
   ]
  },
  {
   "cell_type": "markdown",
   "id": "c6798805",
   "metadata": {},
   "source": [
    "- We will create a user-defined function that cleans the data, gets rid of the inconsistencies, does feature engineering, and drops redundant columns."
   ]
  },
  {
   "cell_type": "code",
   "execution_count": 11,
   "id": "19a33a67",
   "metadata": {},
   "outputs": [],
   "source": [
    "def data_prep(train):\n",
    "    # replace missing values\n",
    "    train['Item_Weight'] = np.where(train['Item_Weight'].isna(), train['Item_Weight'].median(skipna=True), train['Item_Weight'])\n",
    "    train['Outlet_Size'] = np.where(train['Outlet_Size'].isna(), train['Outlet_Size'].mode(), train['Outlet_Size'])\n",
    "    # correct data incosistencies\n",
    "    train['Item_Fat_Content'].replace('low fat', 'Low Fat', inplace = True)\n",
    "    train['Item_Fat_Content'].replace('LF', 'Low Fat', inplace = True)\n",
    "    train['Item_Fat_Content'].replace('reg', 'Regular', inplace = True)\n",
    "    # generate a new variable\n",
    "    train['Years_of_business'] = 2022 - train['Outlet_Establishment_Year']\n",
    "    # dropping unnecessary variables\n",
    "    train.drop(['Item_Identifier', 'Outlet_Identifier', 'Outlet_Establishment_Year'], axis = 1, inplace=True)\n",
    "    return train"
   ]
  },
  {
   "cell_type": "markdown",
   "id": "39b90724",
   "metadata": {},
   "source": [
    "- We will apply the above function to both the train and test dataset."
   ]
  },
  {
   "cell_type": "code",
   "execution_count": 12,
   "id": "0b66395a",
   "metadata": {
    "scrolled": true
   },
   "outputs": [
    {
     "data": {
      "text/html": [
       "<div>\n",
       "<style scoped>\n",
       "    .dataframe tbody tr th:only-of-type {\n",
       "        vertical-align: middle;\n",
       "    }\n",
       "\n",
       "    .dataframe tbody tr th {\n",
       "        vertical-align: top;\n",
       "    }\n",
       "\n",
       "    .dataframe thead th {\n",
       "        text-align: right;\n",
       "    }\n",
       "</style>\n",
       "<table border=\"1\" class=\"dataframe\">\n",
       "  <thead>\n",
       "    <tr style=\"text-align: right;\">\n",
       "      <th></th>\n",
       "      <th>Item_Weight</th>\n",
       "      <th>Item_Fat_Content</th>\n",
       "      <th>Item_Visibility</th>\n",
       "      <th>Item_Type</th>\n",
       "      <th>Item_MRP</th>\n",
       "      <th>Outlet_Size</th>\n",
       "      <th>Outlet_Location_Type</th>\n",
       "      <th>Outlet_Type</th>\n",
       "      <th>Item_Outlet_Sales</th>\n",
       "      <th>Years_of_business</th>\n",
       "    </tr>\n",
       "  </thead>\n",
       "  <tbody>\n",
       "    <tr>\n",
       "      <th>0</th>\n",
       "      <td>9.300</td>\n",
       "      <td>Low Fat</td>\n",
       "      <td>0.016047</td>\n",
       "      <td>Dairy</td>\n",
       "      <td>249.8092</td>\n",
       "      <td>Medium</td>\n",
       "      <td>Tier 1</td>\n",
       "      <td>Supermarket Type1</td>\n",
       "      <td>3735.1380</td>\n",
       "      <td>23</td>\n",
       "    </tr>\n",
       "    <tr>\n",
       "      <th>1</th>\n",
       "      <td>5.920</td>\n",
       "      <td>Regular</td>\n",
       "      <td>0.019278</td>\n",
       "      <td>Soft Drinks</td>\n",
       "      <td>48.2692</td>\n",
       "      <td>Medium</td>\n",
       "      <td>Tier 3</td>\n",
       "      <td>Supermarket Type2</td>\n",
       "      <td>443.4228</td>\n",
       "      <td>13</td>\n",
       "    </tr>\n",
       "    <tr>\n",
       "      <th>2</th>\n",
       "      <td>17.500</td>\n",
       "      <td>Low Fat</td>\n",
       "      <td>0.016760</td>\n",
       "      <td>Meat</td>\n",
       "      <td>141.6180</td>\n",
       "      <td>Medium</td>\n",
       "      <td>Tier 1</td>\n",
       "      <td>Supermarket Type1</td>\n",
       "      <td>2097.2700</td>\n",
       "      <td>23</td>\n",
       "    </tr>\n",
       "    <tr>\n",
       "      <th>3</th>\n",
       "      <td>19.200</td>\n",
       "      <td>Regular</td>\n",
       "      <td>0.000000</td>\n",
       "      <td>Fruits and Vegetables</td>\n",
       "      <td>182.0950</td>\n",
       "      <td>Medium</td>\n",
       "      <td>Tier 3</td>\n",
       "      <td>Grocery Store</td>\n",
       "      <td>732.3800</td>\n",
       "      <td>24</td>\n",
       "    </tr>\n",
       "    <tr>\n",
       "      <th>4</th>\n",
       "      <td>8.930</td>\n",
       "      <td>Low Fat</td>\n",
       "      <td>0.000000</td>\n",
       "      <td>Household</td>\n",
       "      <td>53.8614</td>\n",
       "      <td>High</td>\n",
       "      <td>Tier 3</td>\n",
       "      <td>Supermarket Type1</td>\n",
       "      <td>994.7052</td>\n",
       "      <td>35</td>\n",
       "    </tr>\n",
       "    <tr>\n",
       "      <th>...</th>\n",
       "      <td>...</td>\n",
       "      <td>...</td>\n",
       "      <td>...</td>\n",
       "      <td>...</td>\n",
       "      <td>...</td>\n",
       "      <td>...</td>\n",
       "      <td>...</td>\n",
       "      <td>...</td>\n",
       "      <td>...</td>\n",
       "      <td>...</td>\n",
       "    </tr>\n",
       "    <tr>\n",
       "      <th>8518</th>\n",
       "      <td>6.865</td>\n",
       "      <td>Low Fat</td>\n",
       "      <td>0.056783</td>\n",
       "      <td>Snack Foods</td>\n",
       "      <td>214.5218</td>\n",
       "      <td>High</td>\n",
       "      <td>Tier 3</td>\n",
       "      <td>Supermarket Type1</td>\n",
       "      <td>2778.3834</td>\n",
       "      <td>35</td>\n",
       "    </tr>\n",
       "    <tr>\n",
       "      <th>8519</th>\n",
       "      <td>8.380</td>\n",
       "      <td>Regular</td>\n",
       "      <td>0.046982</td>\n",
       "      <td>Baking Goods</td>\n",
       "      <td>108.1570</td>\n",
       "      <td>Medium</td>\n",
       "      <td>Tier 2</td>\n",
       "      <td>Supermarket Type1</td>\n",
       "      <td>549.2850</td>\n",
       "      <td>20</td>\n",
       "    </tr>\n",
       "    <tr>\n",
       "      <th>8520</th>\n",
       "      <td>10.600</td>\n",
       "      <td>Low Fat</td>\n",
       "      <td>0.035186</td>\n",
       "      <td>Health and Hygiene</td>\n",
       "      <td>85.1224</td>\n",
       "      <td>Small</td>\n",
       "      <td>Tier 2</td>\n",
       "      <td>Supermarket Type1</td>\n",
       "      <td>1193.1136</td>\n",
       "      <td>18</td>\n",
       "    </tr>\n",
       "    <tr>\n",
       "      <th>8521</th>\n",
       "      <td>7.210</td>\n",
       "      <td>Regular</td>\n",
       "      <td>0.145221</td>\n",
       "      <td>Snack Foods</td>\n",
       "      <td>103.1332</td>\n",
       "      <td>Medium</td>\n",
       "      <td>Tier 3</td>\n",
       "      <td>Supermarket Type2</td>\n",
       "      <td>1845.5976</td>\n",
       "      <td>13</td>\n",
       "    </tr>\n",
       "    <tr>\n",
       "      <th>8522</th>\n",
       "      <td>14.800</td>\n",
       "      <td>Low Fat</td>\n",
       "      <td>0.044878</td>\n",
       "      <td>Soft Drinks</td>\n",
       "      <td>75.4670</td>\n",
       "      <td>Small</td>\n",
       "      <td>Tier 1</td>\n",
       "      <td>Supermarket Type1</td>\n",
       "      <td>765.6700</td>\n",
       "      <td>25</td>\n",
       "    </tr>\n",
       "  </tbody>\n",
       "</table>\n",
       "<p>8523 rows × 10 columns</p>\n",
       "</div>"
      ],
      "text/plain": [
       "      Item_Weight Item_Fat_Content  Item_Visibility              Item_Type  \\\n",
       "0           9.300          Low Fat         0.016047                  Dairy   \n",
       "1           5.920          Regular         0.019278            Soft Drinks   \n",
       "2          17.500          Low Fat         0.016760                   Meat   \n",
       "3          19.200          Regular         0.000000  Fruits and Vegetables   \n",
       "4           8.930          Low Fat         0.000000              Household   \n",
       "...           ...              ...              ...                    ...   \n",
       "8518        6.865          Low Fat         0.056783            Snack Foods   \n",
       "8519        8.380          Regular         0.046982           Baking Goods   \n",
       "8520       10.600          Low Fat         0.035186     Health and Hygiene   \n",
       "8521        7.210          Regular         0.145221            Snack Foods   \n",
       "8522       14.800          Low Fat         0.044878            Soft Drinks   \n",
       "\n",
       "      Item_MRP Outlet_Size Outlet_Location_Type        Outlet_Type  \\\n",
       "0     249.8092      Medium               Tier 1  Supermarket Type1   \n",
       "1      48.2692      Medium               Tier 3  Supermarket Type2   \n",
       "2     141.6180      Medium               Tier 1  Supermarket Type1   \n",
       "3     182.0950      Medium               Tier 3      Grocery Store   \n",
       "4      53.8614        High               Tier 3  Supermarket Type1   \n",
       "...        ...         ...                  ...                ...   \n",
       "8518  214.5218        High               Tier 3  Supermarket Type1   \n",
       "8519  108.1570      Medium               Tier 2  Supermarket Type1   \n",
       "8520   85.1224       Small               Tier 2  Supermarket Type1   \n",
       "8521  103.1332      Medium               Tier 3  Supermarket Type2   \n",
       "8522   75.4670       Small               Tier 1  Supermarket Type1   \n",
       "\n",
       "      Item_Outlet_Sales  Years_of_business  \n",
       "0             3735.1380                 23  \n",
       "1              443.4228                 13  \n",
       "2             2097.2700                 23  \n",
       "3              732.3800                 24  \n",
       "4              994.7052                 35  \n",
       "...                 ...                ...  \n",
       "8518          2778.3834                 35  \n",
       "8519           549.2850                 20  \n",
       "8520          1193.1136                 18  \n",
       "8521          1845.5976                 13  \n",
       "8522           765.6700                 25  \n",
       "\n",
       "[8523 rows x 10 columns]"
      ]
     },
     "execution_count": 12,
     "metadata": {},
     "output_type": "execute_result"
    }
   ],
   "source": [
    "data_prep(train)"
   ]
  },
  {
   "cell_type": "markdown",
   "id": "817c69a0",
   "metadata": {},
   "source": [
    "#### Checking Data Skewness"
   ]
  },
  {
   "cell_type": "code",
   "execution_count": 13,
   "id": "fe0d0bf6",
   "metadata": {},
   "outputs": [
    {
     "data": {
      "text/plain": [
       "Item_Weight          0.121845\n",
       "Item_Visibility      1.167091\n",
       "Item_MRP             0.127202\n",
       "Item_Outlet_Sales    1.177531\n",
       "Years_of_business    0.396641\n",
       "dtype: float64"
      ]
     },
     "execution_count": 13,
     "metadata": {},
     "output_type": "execute_result"
    }
   ],
   "source": [
    "train.skew()"
   ]
  },
  {
   "cell_type": "markdown",
   "id": "1be17dde",
   "metadata": {},
   "source": [
    "- We see that the columns **Item_Weight**, **Item_MRP**, and **Years_of_business** are homogenous i.e. their skew value is between -1 and 1.\n",
    "- **Item_Visibility**, and **Item_Outlet_Sales** are heterogenous i.e. their skew value is greater 1."
   ]
  },
  {
   "cell_type": "markdown",
   "id": "b8c2c7b4",
   "metadata": {},
   "source": [
    "- To deal with skewness we will take a log transformation."
   ]
  },
  {
   "cell_type": "code",
   "execution_count": 14,
   "id": "e56c9e2a",
   "metadata": {},
   "outputs": [],
   "source": [
    "train['Item_Visibility'] = np.log1p(train['Item_Visibility'])"
   ]
  },
  {
   "cell_type": "code",
   "execution_count": 15,
   "id": "46236d55",
   "metadata": {},
   "outputs": [],
   "source": [
    "train['Item_Outlet_Sales'] = np.log1p(train['Item_Outlet_Sales'])"
   ]
  },
  {
   "cell_type": "code",
   "execution_count": 16,
   "id": "7206322b",
   "metadata": {},
   "outputs": [
    {
     "data": {
      "text/plain": [
       "Item_Weight          0.121845\n",
       "Item_Visibility      1.015334\n",
       "Item_MRP             0.127202\n",
       "Item_Outlet_Sales   -0.882266\n",
       "Years_of_business    0.396641\n",
       "dtype: float64"
      ]
     },
     "execution_count": 16,
     "metadata": {},
     "output_type": "execute_result"
    }
   ],
   "source": [
    "train.skew()"
   ]
  },
  {
   "cell_type": "markdown",
   "id": "501d4de6",
   "metadata": {},
   "source": [
    "- We see that we after taking the log transform we were able to reduce the skewness of **Item_Outlet_Sales**, but the skewness of **Item_Visibility** was only reduced slightly."
   ]
  },
  {
   "cell_type": "markdown",
   "id": "2db0eb52",
   "metadata": {},
   "source": [
    "<a name=Section5></a>\n",
    "### **5. Data Post_Profiling**"
   ]
  },
  {
   "cell_type": "code",
   "execution_count": 17,
   "id": "b4acae6a",
   "metadata": {},
   "outputs": [],
   "source": [
    "# train_profile = ProfileReport(train)\n",
    "# train_profile.to_file('Big_mart post-profiling.html')"
   ]
  },
  {
   "cell_type": "markdown",
   "id": "1ab2854e",
   "metadata": {},
   "source": [
    "- We can see that there are no more missing values."
   ]
  },
  {
   "cell_type": "markdown",
   "id": "b1961669",
   "metadata": {},
   "source": [
    "<a name=Section6></a>\n",
    "### **6. Exploratory Data Analysis (EDA)**"
   ]
  },
  {
   "cell_type": "markdown",
   "id": "a3ab48e5",
   "metadata": {},
   "source": [
    "### Bi-variate analysis"
   ]
  },
  {
   "cell_type": "code",
   "execution_count": 18,
   "id": "40e71185",
   "metadata": {},
   "outputs": [
    {
     "data": {
      "image/png": "[encoded data removed]",
      "text/plain": [
       "<Figure size 1500x700 with 2 Axes>"
      ]
     },
     "metadata": {},
     "output_type": "display_data"
    }
   ],
   "source": [
    "paper = plt.figure(figsize=[15,7])\n",
    "sns.heatmap(train.corr(), annot = True,cmap='YlGnBu', linecolor ='black')\n",
    "plt.show()"
   ]
  },
  {
   "cell_type": "markdown",
   "id": "0c57f9b4",
   "metadata": {},
   "source": [
    "- From the heatmap we can see that there is some relation between **Item_Outlet_Sales** and **Item_MRP**."
   ]
  },
  {
   "cell_type": "markdown",
   "id": "8ff15a53",
   "metadata": {},
   "source": [
    "#### Chi-Sqaure Test"
   ]
  },
  {
   "cell_type": "markdown",
   "id": "a0da6e84",
   "metadata": {},
   "source": [
    "- We will now perform Chi-Square test on columns to understand if there a relationship between the columns."
   ]
  },
  {
   "cell_type": "code",
   "execution_count": 19,
   "id": "3c760558",
   "metadata": {},
   "outputs": [],
   "source": [
    "def chi_square(x1, x2):\n",
    "    crosstab = pd.crosstab(x1, x2)\n",
    "    _,p,_,_ = chi2_contingency(crosstab) # we only need p-value to verify the strength of the relationship\n",
    "    if p < 0.05:\n",
    "        print(f\"The relationship between {x1.name} and {x2.name} is strong: p = {p}\")\n",
    "    else:\n",
    "        print(f\"The relationship between {x1.name} and {x2.name} is not strong: p = {p}\")"
   ]
  },
  {
   "cell_type": "code",
   "execution_count": 20,
   "id": "d005dd32",
   "metadata": {},
   "outputs": [],
   "source": [
    "obj_ls = []\n",
    "for i in train.columns:\n",
    "    if train[i].dtype == 'object':\n",
    "        obj_ls.append(i)"
   ]
  },
  {
   "cell_type": "code",
   "execution_count": 21,
   "id": "e4800ef0",
   "metadata": {},
   "outputs": [
    {
     "name": "stdout",
     "output_type": "stream",
     "text": [
      "The relationship between Item_Fat_Content and Item_Type is strong: p = 0.0\n",
      "The relationship between Item_Fat_Content and Outlet_Size is not strong: p = 0.947492000235563\n",
      "The relationship between Item_Fat_Content and Outlet_Location_Type is not strong: p = 0.9404540785482409\n",
      "The relationship between Item_Fat_Content and Outlet_Type is not strong: p = 0.9919389464641075\n",
      "The relationship between Item_Type and Item_Fat_Content is strong: p = 0.0\n",
      "The relationship between Item_Type and Outlet_Size is not strong: p = 0.9976330788025009\n",
      "The relationship between Item_Type and Outlet_Location_Type is not strong: p = 0.9963035075844918\n",
      "The relationship between Item_Type and Outlet_Type is not strong: p = 0.9989342767300661\n",
      "The relationship between Outlet_Size and Item_Fat_Content is not strong: p = 0.947492000235563\n",
      "The relationship between Outlet_Size and Item_Type is not strong: p = 0.9976330788025009\n",
      "The relationship between Outlet_Size and Outlet_Location_Type is strong: p = 0.0\n",
      "The relationship between Outlet_Size and Outlet_Type is strong: p = 0.0\n",
      "The relationship between Outlet_Location_Type and Item_Fat_Content is not strong: p = 0.9404540785482409\n",
      "The relationship between Outlet_Location_Type and Item_Type is not strong: p = 0.9963035075844918\n",
      "The relationship between Outlet_Location_Type and Outlet_Size is strong: p = 0.0\n",
      "The relationship between Outlet_Location_Type and Outlet_Type is strong: p = 0.0\n",
      "The relationship between Outlet_Type and Item_Fat_Content is not strong: p = 0.9919389464641075\n",
      "The relationship between Outlet_Type and Item_Type is not strong: p = 0.9989342767300661\n",
      "The relationship between Outlet_Type and Outlet_Size is strong: p = 0.0\n",
      "The relationship between Outlet_Type and Outlet_Location_Type is strong: p = 0.0\n"
     ]
    }
   ],
   "source": [
    "for i in obj_ls:\n",
    "    for j in obj_ls:\n",
    "        if i != j:\n",
    "            chi_square(train[i], train[j])"
   ]
  },
  {
   "cell_type": "markdown",
   "id": "85cba081",
   "metadata": {},
   "source": [
    "We see that there is strong relationship between the following categorical features: <br>\n",
    "- **Item_Fat_Content** and **Item_Type**, <br>\n",
    "- **Outlet_Size** and **Outlet_Location_Type**, <br>\n",
    "- **Outlet_Size** and **Outlet_Type**, <br>\n",
    "- **Outlet_Location_Type** and **Outlet_Type**."
   ]
  },
  {
   "cell_type": "markdown",
   "id": "a1dbaafc",
   "metadata": {},
   "source": [
    "<a name=Section7></a>\n",
    "### **7. Data Preparation for Modeling**"
   ]
  },
  {
   "cell_type": "markdown",
   "id": "386e34d6",
   "metadata": {},
   "source": [
    "<a name=Section71></a>\n",
    "#### **7.1 Creating X and Y**"
   ]
  },
  {
   "cell_type": "code",
   "execution_count": 22,
   "id": "2b03cedd",
   "metadata": {},
   "outputs": [],
   "source": [
    "x = train.drop(['Item_Outlet_Sales'], axis=1)"
   ]
  },
  {
   "cell_type": "code",
   "execution_count": 23,
   "id": "93a05098",
   "metadata": {},
   "outputs": [],
   "source": [
    "y = train['Item_Outlet_Sales']"
   ]
  },
  {
   "cell_type": "markdown",
   "id": "7a5f4157",
   "metadata": {},
   "source": [
    "<a name=Section72></a>\n",
    "#### **7.2 Encoding**"
   ]
  },
  {
   "cell_type": "markdown",
   "id": "84b341b5",
   "metadata": {},
   "source": [
    "- Before we train our models, it is important to encode our data. Encoding is performed to convert the categorical variables to continuous variables.\n",
    "- We will use **LabelEncoder** to encode the categorical variables."
   ]
  },
  {
   "cell_type": "code",
   "execution_count": 24,
   "id": "f7bb7ab5",
   "metadata": {},
   "outputs": [],
   "source": [
    "le = LabelEncoder()\n",
    "for i in x.columns:\n",
    "    if x[i].dtype == 'object':\n",
    "        x[i] = le.fit_transform(x[i])"
   ]
  },
  {
   "cell_type": "code",
   "execution_count": 25,
   "id": "1258705b",
   "metadata": {},
   "outputs": [
    {
     "data": {
      "text/html": [
       "<div>\n",
       "<style scoped>\n",
       "    .dataframe tbody tr th:only-of-type {\n",
       "        vertical-align: middle;\n",
       "    }\n",
       "\n",
       "    .dataframe tbody tr th {\n",
       "        vertical-align: top;\n",
       "    }\n",
       "\n",
       "    .dataframe thead th {\n",
       "        text-align: right;\n",
       "    }\n",
       "</style>\n",
       "<table border=\"1\" class=\"dataframe\">\n",
       "  <thead>\n",
       "    <tr style=\"text-align: right;\">\n",
       "      <th></th>\n",
       "      <th>Item_Weight</th>\n",
       "      <th>Item_Fat_Content</th>\n",
       "      <th>Item_Visibility</th>\n",
       "      <th>Item_Type</th>\n",
       "      <th>Item_MRP</th>\n",
       "      <th>Outlet_Size</th>\n",
       "      <th>Outlet_Location_Type</th>\n",
       "      <th>Outlet_Type</th>\n",
       "      <th>Years_of_business</th>\n",
       "    </tr>\n",
       "  </thead>\n",
       "  <tbody>\n",
       "    <tr>\n",
       "      <th>0</th>\n",
       "      <td>9.300</td>\n",
       "      <td>0</td>\n",
       "      <td>0.015920</td>\n",
       "      <td>4</td>\n",
       "      <td>249.8092</td>\n",
       "      <td>1</td>\n",
       "      <td>0</td>\n",
       "      <td>1</td>\n",
       "      <td>23</td>\n",
       "    </tr>\n",
       "    <tr>\n",
       "      <th>1</th>\n",
       "      <td>5.920</td>\n",
       "      <td>1</td>\n",
       "      <td>0.019095</td>\n",
       "      <td>14</td>\n",
       "      <td>48.2692</td>\n",
       "      <td>1</td>\n",
       "      <td>2</td>\n",
       "      <td>2</td>\n",
       "      <td>13</td>\n",
       "    </tr>\n",
       "    <tr>\n",
       "      <th>2</th>\n",
       "      <td>17.500</td>\n",
       "      <td>0</td>\n",
       "      <td>0.016621</td>\n",
       "      <td>10</td>\n",
       "      <td>141.6180</td>\n",
       "      <td>1</td>\n",
       "      <td>0</td>\n",
       "      <td>1</td>\n",
       "      <td>23</td>\n",
       "    </tr>\n",
       "    <tr>\n",
       "      <th>3</th>\n",
       "      <td>19.200</td>\n",
       "      <td>1</td>\n",
       "      <td>0.000000</td>\n",
       "      <td>6</td>\n",
       "      <td>182.0950</td>\n",
       "      <td>1</td>\n",
       "      <td>2</td>\n",
       "      <td>0</td>\n",
       "      <td>24</td>\n",
       "    </tr>\n",
       "    <tr>\n",
       "      <th>4</th>\n",
       "      <td>8.930</td>\n",
       "      <td>0</td>\n",
       "      <td>0.000000</td>\n",
       "      <td>9</td>\n",
       "      <td>53.8614</td>\n",
       "      <td>0</td>\n",
       "      <td>2</td>\n",
       "      <td>1</td>\n",
       "      <td>35</td>\n",
       "    </tr>\n",
       "    <tr>\n",
       "      <th>...</th>\n",
       "      <td>...</td>\n",
       "      <td>...</td>\n",
       "      <td>...</td>\n",
       "      <td>...</td>\n",
       "      <td>...</td>\n",
       "      <td>...</td>\n",
       "      <td>...</td>\n",
       "      <td>...</td>\n",
       "      <td>...</td>\n",
       "    </tr>\n",
       "    <tr>\n",
       "      <th>8518</th>\n",
       "      <td>6.865</td>\n",
       "      <td>0</td>\n",
       "      <td>0.055230</td>\n",
       "      <td>13</td>\n",
       "      <td>214.5218</td>\n",
       "      <td>0</td>\n",
       "      <td>2</td>\n",
       "      <td>1</td>\n",
       "      <td>35</td>\n",
       "    </tr>\n",
       "    <tr>\n",
       "      <th>8519</th>\n",
       "      <td>8.380</td>\n",
       "      <td>1</td>\n",
       "      <td>0.045912</td>\n",
       "      <td>0</td>\n",
       "      <td>108.1570</td>\n",
       "      <td>1</td>\n",
       "      <td>1</td>\n",
       "      <td>1</td>\n",
       "      <td>20</td>\n",
       "    </tr>\n",
       "    <tr>\n",
       "      <th>8520</th>\n",
       "      <td>10.600</td>\n",
       "      <td>0</td>\n",
       "      <td>0.034581</td>\n",
       "      <td>8</td>\n",
       "      <td>85.1224</td>\n",
       "      <td>2</td>\n",
       "      <td>1</td>\n",
       "      <td>1</td>\n",
       "      <td>18</td>\n",
       "    </tr>\n",
       "    <tr>\n",
       "      <th>8521</th>\n",
       "      <td>7.210</td>\n",
       "      <td>1</td>\n",
       "      <td>0.135597</td>\n",
       "      <td>13</td>\n",
       "      <td>103.1332</td>\n",
       "      <td>1</td>\n",
       "      <td>2</td>\n",
       "      <td>2</td>\n",
       "      <td>13</td>\n",
       "    </tr>\n",
       "    <tr>\n",
       "      <th>8522</th>\n",
       "      <td>14.800</td>\n",
       "      <td>0</td>\n",
       "      <td>0.043900</td>\n",
       "      <td>14</td>\n",
       "      <td>75.4670</td>\n",
       "      <td>2</td>\n",
       "      <td>0</td>\n",
       "      <td>1</td>\n",
       "      <td>25</td>\n",
       "    </tr>\n",
       "  </tbody>\n",
       "</table>\n",
       "<p>8523 rows × 9 columns</p>\n",
       "</div>"
      ],
      "text/plain": [
       "      Item_Weight  Item_Fat_Content  Item_Visibility  Item_Type  Item_MRP  \\\n",
       "0           9.300                 0         0.015920          4  249.8092   \n",
       "1           5.920                 1         0.019095         14   48.2692   \n",
       "2          17.500                 0         0.016621         10  141.6180   \n",
       "3          19.200                 1         0.000000          6  182.0950   \n",
       "4           8.930                 0         0.000000          9   53.8614   \n",
       "...           ...               ...              ...        ...       ...   \n",
       "8518        6.865                 0         0.055230         13  214.5218   \n",
       "8519        8.380                 1         0.045912          0  108.1570   \n",
       "8520       10.600                 0         0.034581          8   85.1224   \n",
       "8521        7.210                 1         0.135597         13  103.1332   \n",
       "8522       14.800                 0         0.043900         14   75.4670   \n",
       "\n",
       "      Outlet_Size  Outlet_Location_Type  Outlet_Type  Years_of_business  \n",
       "0               1                     0            1                 23  \n",
       "1               1                     2            2                 13  \n",
       "2               1                     0            1                 23  \n",
       "3               1                     2            0                 24  \n",
       "4               0                     2            1                 35  \n",
       "...           ...                   ...          ...                ...  \n",
       "8518            0                     2            1                 35  \n",
       "8519            1                     1            1                 20  \n",
       "8520            2                     1            1                 18  \n",
       "8521            1                     2            2                 13  \n",
       "8522            2                     0            1                 25  \n",
       "\n",
       "[8523 rows x 9 columns]"
      ]
     },
     "execution_count": 25,
     "metadata": {},
     "output_type": "execute_result"
    }
   ],
   "source": [
    "x"
   ]
  },
  {
   "cell_type": "markdown",
   "id": "60bfc4d3",
   "metadata": {},
   "source": [
    "<a name=Section73></a>\n",
    "#### **7.3 Splitting the data into training and testing sets**"
   ]
  },
  {
   "cell_type": "markdown",
   "id": "f0afdde5",
   "metadata": {},
   "source": [
    "- We will use the **train_test_split()** method to split X and Y into training and testing sets."
   ]
  },
  {
   "cell_type": "code",
   "execution_count": 26,
   "id": "cab57b49",
   "metadata": {},
   "outputs": [],
   "source": [
    "X_train, X_test, Y_train, Y_test = train_test_split(x, y, test_size=0.2, random_state=123)"
   ]
  },
  {
   "cell_type": "code",
   "execution_count": 27,
   "id": "7bb8562c",
   "metadata": {},
   "outputs": [
    {
     "name": "stdout",
     "output_type": "stream",
     "text": [
      "(6818, 9)\n",
      "(1705, 9)\n",
      "(6818,)\n",
      "(1705,)\n"
     ]
    }
   ],
   "source": [
    "print(X_train.shape)\n",
    "print(X_test.shape)\n",
    "print(Y_train.shape)\n",
    "print(Y_test.shape)"
   ]
  },
  {
   "cell_type": "markdown",
   "id": "cab932e0",
   "metadata": {},
   "source": [
    "<a name=Section8></a>\n",
    "### **8. Applying ML Models and Model Evaluation**"
   ]
  },
  {
   "cell_type": "markdown",
   "id": "a05891ef",
   "metadata": {},
   "source": [
    "- To predict the sales, we will model our data on three ML models. <br>\n",
    "    1. Linear Regression\n",
    "    2. Decision Tree\n",
    "    3. Random Forest\n",
    "\n",
    "- We will use **Root Mean Squared Error (RMSE)** and **R-squared (R2)** as our model evaluation metrics."
   ]
  },
  {
   "cell_type": "code",
   "execution_count": 28,
   "id": "8f296fe0",
   "metadata": {
    "scrolled": false
   },
   "outputs": [
    {
     "name": "stdout",
     "output_type": "stream",
     "text": [
      "Train Performance Metrics of LinearRegression:\n",
      "[RMSE]: 0.6562641550846127\n",
      "----------------------------------------\n",
      "\n",
      "Test Performance Metrics of LinearRegression:\n",
      "[RMSE]: 0.6434807041178178\n",
      "----------------------------------------\n",
      "\n",
      "Train Performance Metrics of DecisionTreeRegressor:\n",
      "[RMSE]: 9.315418059754916e-18\n",
      "----------------------------------------\n",
      "\n",
      "Test Performance Metrics of DecisionTreeRegressor:\n",
      "[RMSE]: 0.7506607896073668\n",
      "----------------------------------------\n",
      "\n",
      "Train Performance Metrics of RandomForestRegressor:\n",
      "[RMSE]: 0.20674674780025945\n",
      "----------------------------------------\n",
      "\n",
      "Test Performance Metrics of RandomForestRegressor:\n",
      "[RMSE]: 0.5504506892152948\n",
      "----------------------------------------\n",
      "\n"
     ]
    }
   ],
   "source": [
    "algs = [LinearRegression(), DecisionTreeRegressor(random_state=42), RandomForestRegressor(random_state=42)]\n",
    "\n",
    "for alg in algs:\n",
    "\n",
    "  # Extracting model name\n",
    "  model_name = type(alg).__name__\n",
    "\n",
    "  # Train the model\n",
    "  alg.fit(X_train, Y_train)\n",
    "\n",
    "  # Make predictions on the trained model\n",
    "  train_predictions = alg.predict(X_train)\n",
    "  test_predictions = alg.predict(X_test)\n",
    "\n",
    "  # Estimating the model performance\n",
    "  train_RMSE = np.sqrt(mean_squared_error(Y_train, train_predictions))\n",
    "    \n",
    "  test_RMSE = np.sqrt(mean_squared_error(Y_test, test_predictions))\n",
    "\n",
    "\n",
    "  # Display the metrics and time took to develop the model\n",
    "  print(f'Train Performance Metrics of {model_name}:')\n",
    "  print(f'[RMSE]: {train_RMSE}')\n",
    "  print('----------------------------------------\\n')\n",
    "    \n",
    "  \n",
    "  print(f'Test Performance Metrics of {model_name}:')\n",
    "  print(f'[RMSE]: {test_RMSE}')\n",
    "  print('----------------------------------------\\n')"
   ]
  },
  {
   "cell_type": "markdown",
   "id": "ed27d106",
   "metadata": {},
   "source": [
    "<a name=Section9></a>\n",
    "### **9. Conclusion**"
   ]
  },
  {
   "cell_type": "markdown",
   "id": "d80d3917",
   "metadata": {},
   "source": [
    "- The dataset had **8523** observations and **12** features.\n",
    "- Some of the features like **Item_Outlet_Sales** and **Item_Visibility** were highly skewed. To deal with the skewness **Log Transformation** was applied.\n",
    "- We see that out of the three models, Random Forest performs better as compared to Linear Regression and Decision Tree. \n",
    "- The Random Forest model is able to predict the sales with an **RMSE value** of **0.55**."
   ]
  }
 ],
 "metadata": {
  "kernelspec": {
   "display_name": "Python 3 (ipykernel)",
   "language": "python",
   "name": "python3"
  },
  "language_info": {
   "codemirror_mode": {
    "name": "ipython",
    "version": 3
   },
   "file_extension": ".py",
   "mimetype": "text/x-python",
   "name": "python",
   "nbconvert_exporter": "python",
   "pygments_lexer": "ipython3",
   "version": "3.8.10"
  }
 },
 "nbformat": 4,
 "nbformat_minor": 5
}
